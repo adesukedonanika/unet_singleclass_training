{
 "cells": [
  {
   "cell_type": "code",
   "execution_count": 1,
   "id": "21d0c972-9283-4d9a-aa64-2bbb668530da",
   "metadata": {
    "tags": []
   },
   "outputs": [],
   "source": [
    "# !pip install -r requirements_uavUnet.txt"
   ]
  },
  {
   "cell_type": "code",
   "execution_count": 1,
   "id": "364cbbed",
   "metadata": {
    "tags": []
   },
   "outputs": [
    {
     "name": "stdout",
     "output_type": "stream",
     "text": [
      "GPU Memory Size: 16.00 GB\n"
     ]
    }
   ],
   "source": [
    "\n",
    "import torch\n",
    "\n",
    "if torch.cuda.is_available():\n",
    "    device = torch.device(\"cuda\")\n",
    "    gpu_properties = torch.cuda.get_device_properties(device)\n",
    "    gpu_memory_size = gpu_properties.total_memory / 1024 ** 3  # Convert bytes to gigabytes\n",
    "    print(f\"GPU Memory Size: {gpu_memory_size:.2f} GB\")\n",
    "else:\n",
    "    print(\"GPU is not available.\")\n",
    "\n",
    "\n",
    "import os, glob, sys\n",
    "from tqdm import tqdm\n",
    "\n",
    "import pandas as pd\n",
    "import numpy as np\n",
    "\n",
    "import torch\n",
    "from torch.utils.data import Dataset, DataLoader, random_split\n",
    "import random\n",
    "from PIL import Image\n",
    "\n"
   ]
  },
  {
   "cell_type": "code",
   "execution_count": 40,
   "id": "6b41262f",
   "metadata": {
    "tags": []
   },
   "outputs": [
    {
     "name": "stdout",
     "output_type": "stream",
     "text": [
      "GPU Memory Size: 16.00 GB\n"
     ]
    }
   ],
   "source": [
    "# print(f\"GPU Memory Usage: {get_gpu_memory_usage():.2f} GiB\\n\")\n",
    "# print(\"Allocated Tensors:\")\n",
    "# print_allocated_tensors()\n",
    "\n",
    "import segment_model_training\n",
    "import importlib\n",
    "importlib.reload(segment_model_training)\n",
    "\n",
    "from segment_model_training import get_mskPath,copyLocaliImages,calculate_statistics,LoadDataSet,get_train_transform\n",
    "# importlib.reload(argmentDataset)\n",
    "# importlib.reload(get_train_transform)\n",
    "\n",
    "datasetName = \"Forest tsumura 2 50m P4Pv2\"\n",
    "treeType = \"cypress\"\n",
    "cropSize = 1024\n",
    "lapSize=512\n",
    "\n",
    "orgDir = f\"03_datasetforModel\\\\{datasetName}_{treeType}\\\\org_crop4Corner_5120_3072_Size{cropSize}_lap{lapSize}\"\n",
    "orgPaths = glob.glob(orgDir + \"/*.*\")\n",
    "\n"
   ]
  },
  {
   "cell_type": "code",
   "execution_count": null,
   "id": "8d102f7e-685b-4c52-9a48-83affead9268",
   "metadata": {},
   "outputs": [],
   "source": [
    "# フォルダのパスを指定して統計量を計算\n",
    "mean_values, std_deviation = calculate_statistics(orgDir)\n",
    "\n",
    "print(\"正規化ずみ平均値:\", mean_values)\n",
    "print(\"正規化ずみ標準偏差:\", std_deviation)\n"
   ]
  },
  {
   "cell_type": "code",
   "execution_count": 58,
   "id": "a8a3306b-565f-4790-b639-69ea9ddf1978",
   "metadata": {
    "tags": []
   },
   "outputs": [
    {
     "name": "stderr",
     "output_type": "stream",
     "text": [
      "100%|███████████████████████████████████████████████████████████████████████████████████████████████████████████████████████| 168/168 [00:19<00:00,  8.67it/s]\n"
     ]
    },
    {
     "data": {
      "text/plain": [
       "([0.40219877291581, 0.5321506065700683, 0.2987488396251448],\n",
       " [0.19532129650292973, 0.21275673444316853, 0.1450076779870688])"
      ]
     },
     "execution_count": 58,
     "metadata": {},
     "output_type": "execute_result"
    }
   ],
   "source": [
    "import cv2\n",
    "\n",
    "from matplotlib import pyplot as plt\n",
    "\n",
    "calculate_statistics(orgPaths)"
   ]
  },
  {
   "cell_type": "code",
   "execution_count": 60,
   "id": "cf78fe8d-6e54-49b8-89aa-1d8237259f14",
   "metadata": {
    "tags": []
   },
   "outputs": [
    {
     "name": "stdout",
     "output_type": "stream",
     "text": [
      "image Rotate\n"
     ]
    },
    {
     "name": "stderr",
     "output_type": "stream",
     "text": [
      "100%|███████████████████████████████████████████████████████████████████████████████████████████████████████████████████████| 168/168 [00:09<00:00, 18.57it/s]\n"
     ]
    },
    {
     "name": "stdout",
     "output_type": "stream",
     "text": [
      "image flipMirror\n"
     ]
    },
    {
     "name": "stderr",
     "output_type": "stream",
     "text": [
      "100%|███████████████████████████████████████████████████████████████████████████████████████████████████████████████████████| 672/672 [00:49<00:00, 13.47it/s]\n"
     ]
    }
   ],
   "source": [
    "\n",
    "orgDataset_count = len(glob.glob(orgDir + \"/*.*\"))\n",
    "\n",
    "\n",
    "rotate_270per90 = True\n",
    "flipMirror = True\n",
    "\n",
    "orgDir = segment_model_training.argmentDataset(orgDir, rotate=rotate_270per90, flipMirror=True)\n",
    "# segment_model_training.main(\"cedar\",2)\n",
    "\n",
    "workDir = \"./04_trainingModel\"\n",
    "TRAIN_PATH = workDir + f'/{datasetName}_{treeType}/'\n",
    "os.makedirs(TRAIN_PATH, exist_ok=True)"
   ]
  },
  {
   "cell_type": "code",
   "execution_count": 61,
   "id": "685a1000",
   "metadata": {
    "tags": []
   },
   "outputs": [
    {
     "name": "stdout",
     "output_type": "stream",
     "text": [
      "2016 2016\n",
      "C:\\datas\\uav_cnn_cypress\\org_crop4Corner_5120_3072_Size1024_lap512_rotate_flipMirror\n"
     ]
    }
   ],
   "source": [
    "\n",
    "orgPaths = glob.glob(orgDir + \"/*.*\")\n",
    "img = Image.open(orgPaths[0])\n",
    "mskPaths = [get_mskPath(orgPath) for orgPath in orgPaths]\n",
    "print(len(orgPaths),len(mskPaths))\n",
    "\n",
    "orgDir = copyLocaliImages(orgDir, f\"C:\\\\datas\\\\uav_cnn_{treeType}\")\n",
    "orgPaths = glob.glob(orgDir + \"/*.*\")\n",
    "\n",
    "\n",
    "print(orgDir)"
   ]
  },
  {
   "cell_type": "code",
   "execution_count": 62,
   "id": "c9287e41",
   "metadata": {
    "tags": []
   },
   "outputs": [
    {
     "name": "stdout",
     "output_type": "stream",
     "text": [
      "postgresql+psycopg2://matsuilocal:kuLcSkn2/@localhost:5432/cnn_segment\n",
      "postgresql+psycopg2://matsuilocal:kuLcSkn2/@localhost:5432/cnn_segment\n",
      "postgresql+psycopg2://matsuilocal:kuLcSkn2/@localhost:5432/cnn_segment\n"
     ]
    }
   ],
   "source": [
    "import psql_connect\n",
    "importlib.reload(psql_connect)\n",
    "\n",
    "engine, conn, engineSQL = psql_connect.getPSQL(databaseName=\"cnn_segment\", port=\"5432\", ownerName=\"matsuilocal\")\n",
    "\n",
    "psql_connect.createTB_UnetDatasetUAV()\n",
    "psql_connect.createTB_UnetTrainingUAV()"
   ]
  },
  {
   "cell_type": "code",
   "execution_count": 63,
   "id": "15d78b76",
   "metadata": {
    "tags": []
   },
   "outputs": [
    {
     "name": "stdout",
     "output_type": "stream",
     "text": [
      "INSERT INTO unet_dataset_uav (\"datasetName\", \"classType\", width, height, \"lapSize\", original_dataset_count, argment_rotate, \"argment_flipMirror\", \"datasetDir\", dataset_count, mean, std) VALUES (:datasetName, :classType, :width, :height, :lapSize, :original_dataset_count, :argment_rotate, :argment_flipMirror, :datasetDir, :dataset_count, :mean, :std)\n"
     ]
    }
   ],
   "source": [
    "from sqlalchemy import create_engine, Table, Column, Integer, String, Float, MetaData\n",
    "from sqlalchemy.orm import sessionmaker\n",
    "\n",
    "# Define the metadata and the table\n",
    "metadata = MetaData()\n",
    "unet_dataset_uav = Table('unet_dataset_uav', metadata,\n",
    "                         Column('id', Integer, primary_key=True),\n",
    "                         Column('datasetName', String),\n",
    "                         Column('classType', String),\n",
    "                         Column('width', Integer),\n",
    "                         Column('height', Integer),\n",
    "                         Column('lapSize', Integer),\n",
    "                         Column('original_dataset_count', Integer),\n",
    "                         Column('argment_rotate', String),\n",
    "                         Column('argment_flipMirror', String),\n",
    "                         Column('datasetDir', String),\n",
    "                         Column('dataset_count', Integer),\n",
    "                         Column('mean', String),\n",
    "                         Column('std', String),\n",
    "                     )\n",
    "import ast\n",
    "\n",
    "select_SQL = \"select * from unet_dataset_uav;\"\n",
    "\n",
    "df_db = pd.read_sql(sql=select_SQL, con=engineSQL)\n",
    "if not str(list(mean_values)) in list(df_db[\"mean\"]):\n",
    "# mean_values_fromDB = ast.literal_eval(df_db.loc[0,\"mean\"])\n",
    "    # Create a session\n",
    "    Session = sessionmaker(bind=engine)\n",
    "    session = Session()\n",
    "\n",
    "    # Create a new row to insert\n",
    "    new_row = unet_dataset_uav.insert().values(\n",
    "        datasetName=datasetName,\n",
    "        classType=treeType,\n",
    "        width=img.width,\n",
    "        height=img.height,\n",
    "        lapSize=lapSize,\n",
    "        original_dataset_count=orgDataset_count,\n",
    "        argment_rotate=rotate_270per90,\n",
    "        argment_flipMirror=flipMirror,\n",
    "        datasetDir=orgDir,\n",
    "        dataset_count=len(orgPaths),\n",
    "        mean=str(list(mean_values)),\n",
    "        std=str(list(std_deviation)),\n",
    "    )\n",
    "    print(new_row)\n",
    "\n",
    "    try:\n",
    "        # Execute the insert statement\n",
    "        session.execute(new_row)\n",
    "\n",
    "        # Commit the changes\n",
    "        session.commit()\n",
    "\n",
    "        # Close the session\n",
    "        session.close()\n",
    "    except Exception as e:\n",
    "        print(e)\n",
    "        session.close()"
   ]
  },
  {
   "cell_type": "code",
   "execution_count": 64,
   "id": "e9a3bec0",
   "metadata": {
    "tags": []
   },
   "outputs": [
    {
     "data": {
      "text/html": [
       "<div>\n",
       "<style scoped>\n",
       "    .dataframe tbody tr th:only-of-type {\n",
       "        vertical-align: middle;\n",
       "    }\n",
       "\n",
       "    .dataframe tbody tr th {\n",
       "        vertical-align: top;\n",
       "    }\n",
       "\n",
       "    .dataframe thead th {\n",
       "        text-align: right;\n",
       "    }\n",
       "</style>\n",
       "<table border=\"1\" class=\"dataframe\">\n",
       "  <thead>\n",
       "    <tr style=\"text-align: right;\">\n",
       "      <th></th>\n",
       "      <th>id</th>\n",
       "      <th>datasetName</th>\n",
       "      <th>classType</th>\n",
       "      <th>width</th>\n",
       "      <th>height</th>\n",
       "      <th>lapSize</th>\n",
       "      <th>original_dataset_count</th>\n",
       "      <th>argment_rotate</th>\n",
       "      <th>argment_flipMirror</th>\n",
       "      <th>datasetDir</th>\n",
       "      <th>dataset_count</th>\n",
       "      <th>mean</th>\n",
       "      <th>std</th>\n",
       "    </tr>\n",
       "  </thead>\n",
       "  <tbody>\n",
       "    <tr>\n",
       "      <th>0</th>\n",
       "      <td>4</td>\n",
       "      <td>Forest tsumura 2 50m P4Pv2</td>\n",
       "      <td>cypress</td>\n",
       "      <td>1024</td>\n",
       "      <td>1024</td>\n",
       "      <td>512</td>\n",
       "      <td>168</td>\n",
       "      <td>True</td>\n",
       "      <td>True</td>\n",
       "      <td>C:\\datas\\uav_cnn_cypress\\org_crop4Corner_5120_...</td>\n",
       "      <td>2016</td>\n",
       "      <td>[0.2987488396251448, 0.5321506065700683, 0.402...</td>\n",
       "      <td>[0.1450076779870688, 0.21275673444316853, 0.19...</td>\n",
       "    </tr>\n",
       "  </tbody>\n",
       "</table>\n",
       "</div>"
      ],
      "text/plain": [
       "   id                 datasetName classType  width  height  lapSize   \n",
       "0   4  Forest tsumura 2 50m P4Pv2   cypress   1024    1024      512  \\\n",
       "\n",
       "   original_dataset_count  argment_rotate  argment_flipMirror   \n",
       "0                     168            True                True  \\\n",
       "\n",
       "                                          datasetDir  dataset_count   \n",
       "0  C:\\datas\\uav_cnn_cypress\\org_crop4Corner_5120_...           2016  \\\n",
       "\n",
       "                                                mean   \n",
       "0  [0.2987488396251448, 0.5321506065700683, 0.402...  \\\n",
       "\n",
       "                                                 std  \n",
       "0  [0.1450076779870688, 0.21275673444316853, 0.19...  "
      ]
     },
     "execution_count": 64,
     "metadata": {},
     "output_type": "execute_result"
    }
   ],
   "source": [
    "datasetID = int(df_db[\"id\"][0])\n",
    "\n",
    "\n",
    "getDatasetParam_SQL = f\"select * from unet_dataset_uav where id={4};\"\n",
    "df = pd.read_sql(getDatasetParam_SQL,engine)\n",
    "df"
   ]
  },
  {
   "cell_type": "code",
   "execution_count": 65,
   "id": "7f845130",
   "metadata": {
    "tags": []
   },
   "outputs": [
    {
     "data": {
      "text/plain": [
       "'C:\\\\datas\\\\uav_cnn_cypress\\\\org_crop4Corner_5120_3072_Size1024_lap512_rotate_flipMirror'"
      ]
     },
     "execution_count": 65,
     "metadata": {},
     "output_type": "execute_result"
    }
   ],
   "source": [
    "orgDir = df[\"datasetDir\"].iloc[0]\n",
    "orgDir"
   ]
  },
  {
   "cell_type": "code",
   "execution_count": null,
   "id": "c9b8008d",
   "metadata": {},
   "outputs": [],
   "source": []
  },
  {
   "cell_type": "code",
   "execution_count": 77,
   "id": "eeb82bd4-d09d-4fd7-af63-e12931577774",
   "metadata": {
    "tags": []
   },
   "outputs": [
    {
     "name": "stdout",
     "output_type": "stream",
     "text": [
      "GPU Memory Size: 16.00 GB\n",
      "C:\\\\datas\\\\uav_cnn_cypress\\\\org_crop4Corner_5120_3072_Size1024_lap512_rotate_flipMirror\n",
      "postgresql+psycopg2://matsuilocal:kuLcSkn2/@localhost:5432/cnn_segment\n",
      "images count\t 2016\n",
      "org.shape torch.Size([3, 1024, 1024]) tensor([-2.5012, -2.4644, -2.4459, -2.4275, -2.4091, -2.3906, -2.3722, -2.3538,\n",
      "        -2.3353, -2.3169])\n",
      "msk.shape torch.Size([1, 1024, 1024])\n"
     ]
    }
   ],
   "source": [
    "\n",
    "import segment_model_training\n",
    "importlib.reload(segment_model_training)\n",
    "\n",
    "print(orgDir.replace(\"\\\\\",\"\\\\\\\\\"))\n",
    "train_dataset = segment_model_training.LoadDataSet(orgDir)\n",
    "# train_dataset = LoadDataSet(orgDir.replace(\"\\\\\",\"\\\\\\\\\")+\"\\\\\")\n",
    "print(\"images count\\t\",train_dataset.__len__())\n",
    "\n",
    "org, msk = train_dataset.__getitem__(1)\n",
    "\n",
    "print(\"org.shape\",org.shape, org.unique()[:10])\n",
    "print(\"msk.shape\",msk.shape)"
   ]
  },
  {
   "cell_type": "code",
   "execution_count": 82,
   "id": "b2053703-13ad-4b6b-a375-93e7d485aea3",
   "metadata": {
    "tags": []
   },
   "outputs": [
    {
     "name": "stderr",
     "output_type": "stream",
     "text": [
      "C:\\Users\\adesu\\AppData\\Local\\Temp\\ipykernel_29528\\3883863665.py:2: RuntimeWarning: divide by zero encountered in divide\n",
      "  normalized_image = (image - mean_values) / std_deviation\n"
     ]
    },
    {
     "data": {
      "text/plain": [
       "array([-inf,  inf])"
      ]
     },
     "execution_count": 82,
     "metadata": {},
     "output_type": "execute_result"
    }
   ],
   "source": [
    "def normalize_image(image, mean_values, std_deviation):\n",
    "    normalized_image = (image - mean_values) / std_deviation\n",
    "    return normalized_image\n",
    "\n",
    "def normalize_batch(batch_images, mean_values, std_deviation):\n",
    "    normalized_batch = np.zeros_like(batch_images)\n",
    "    for i in range(len(batch_images)):\n",
    "        normalized_batch[i] = normalize_image(batch_images[i], mean_values, std_deviation)\n",
    "    return normalized_batch\n",
    "\n",
    "normalized_image =  normalize_image(np.array(Image.open(orgPaths[0])),mean_values,std_deviation)\n",
    "np.unique(normalized_image)"
   ]
  },
  {
   "cell_type": "code",
   "execution_count": 67,
   "id": "49a3905b-1ecb-4334-9932-d852a9a68417",
   "metadata": {
    "tags": []
   },
   "outputs": [
    {
     "name": "stdout",
     "output_type": "stream",
     "text": [
      "train count : 1613\n",
      "valid count : 403\n"
     ]
    }
   ],
   "source": [
    "\n",
    "BATCHSIZE, num_epochs = 2, 3\n",
    "\n",
    "#データ前処理\n",
    "split_ratio = 0.2\n",
    "train_size=int(np.round(train_dataset.__len__()*(1 - split_ratio),0))\n",
    "valid_size=int(np.round(train_dataset.__len__()*split_ratio,0))\n",
    "\n",
    "print(f\"train count : {(train_size)}\")\n",
    "print(f\"valid count : {(valid_size)}\")\n",
    "\n",
    "\n",
    "BATCHSIZE = 2#train_dataset.__len__()//80\n",
    "train_data, valid_data = random_split(train_dataset, [train_size, valid_size])\n",
    "train_loader = DataLoader(dataset=train_data, batch_size=BATCHSIZE, shuffle=True)\n",
    "val_loader = DataLoader(dataset=valid_data, batch_size=BATCHSIZE)\n"
   ]
  },
  {
   "cell_type": "code",
   "execution_count": null,
   "id": "4ea51808-ecd5-40e1-8b9c-6dd25a5f367d",
   "metadata": {
    "tags": []
   },
   "outputs": [],
   "source": []
  },
  {
   "cell_type": "code",
   "execution_count": 68,
   "id": "00a4d0a0-9cc9-4b53-85e1-cf28c51c7855",
   "metadata": {
    "tags": []
   },
   "outputs": [],
   "source": [
    "from unet_model import UNet, DiceBCELoss, DiceLoss, IoU, save_ckp, load_ckp\n",
    "from pre_segmentation_model import UnetModel, calculate_iou, validateModel\n",
    "\n",
    "import pre_segmentation_model"
   ]
  },
  {
   "cell_type": "code",
   "execution_count": 69,
   "id": "dfc1a50f-8dfa-4074-8884-ccdc2339a47b",
   "metadata": {
    "tags": []
   },
   "outputs": [],
   "source": [
    "encoder_name = \"resnet34\"\n",
    "encoder_weight = \"imagenet\"\n",
    "\n",
    "model = UnetModel(encoder_name, encoder_weight, in_ch=3, outClass=1)\n",
    "modelID = \"class-{}_data{}_batch{}_epoch{}_model{}\".format(treeType,train_dataset.__len__(), BATCHSIZE, num_epochs, encoder_name + \"-\" + encoder_weight)\n",
    "device = torch.device(\"cuda\" if torch.cuda.is_available() else \"cpu\")\n",
    "model.to(device)\n",
    "\n",
    "optimizer = torch.optim.Adam(model.parameters(),lr = 1e-3)\n",
    "criterion = DiceLoss()\n",
    "accuracy_metric = IoU()\n",
    "valid_loss_min = np.Inf\n",
    "\n",
    "\n",
    "torch.cuda.empty_cache()\n",
    "# CuDNNを使用したネットワークのベンチマークを有効にし、パフォーマンスを最適化します。\n",
    "torch.backends.cudnn.benchmark = True\n"
   ]
  },
  {
   "cell_type": "code",
   "execution_count": null,
   "id": "52f13275-c3e7-4c7c-bbee-d9ca60e4d0cc",
   "metadata": {
    "tags": []
   },
   "outputs": [],
   "source": []
  },
  {
   "cell_type": "code",
   "execution_count": 70,
   "id": "c9c4109a-c0f2-4d52-9c17-41671a746292",
   "metadata": {
    "tags": []
   },
   "outputs": [
    {
     "name": "stdout",
     "output_type": "stream",
     "text": [
      "./04_trainingModel\\model_cypress_chkpoint_\n",
      "./04_trainingModel\\model_cypress_bestmodel.pt\n"
     ]
    }
   ],
   "source": [
    "checkpoint_path = os.path.join(workDir,f'model_{treeType}_chkpoint_')\n",
    "best_model_path = os.path.join(workDir,f'model_{treeType}_bestmodel.pt')\n",
    "os.makedirs(os.path.dirname(best_model_path), exist_ok=True)\n",
    "os.makedirs(os.path.dirname(checkpoint_path), exist_ok=True)\n",
    "\n",
    "print(checkpoint_path)\n",
    "print(best_model_path)\n",
    "\n",
    "total_train_loss = []\n",
    "total_train_score = []\n",
    "total_valid_loss = []\n",
    "total_valid_score = []\n",
    "losses_value = 0\n"
   ]
  },
  {
   "cell_type": "code",
   "execution_count": 71,
   "id": "ea3c0796-75fc-4817-aa64-ef10b91d0bdf",
   "metadata": {
    "tags": []
   },
   "outputs": [
    {
     "name": "stdout",
     "output_type": "stream",
     "text": [
      "GPU Memory Usage: 0.18 GiB\n",
      "\n"
     ]
    }
   ],
   "source": [
    "\n",
    "def get_gpu_memory_usage():\n",
    "    \"\"\"GPUメモリの使用量を取得する関数\"\"\"\n",
    "    return torch.cuda.memory_allocated() / 1024**3  # GiB単位で返す\n",
    "\n",
    "def print_allocated_tensors():\n",
    "    \"\"\"GPUメモリを占有している変数の一覧を表示する関数\"\"\"\n",
    "    tensor_list = torch.cuda.memory_summary()  # 現在GPUメモリに割り当てられているテンソルの一覧を取得\n",
    "    print(tensor_list)\n",
    "\n",
    "# 使用例\n",
    "print(f\"GPU Memory Usage: {get_gpu_memory_usage():.2f} GiB\\n\")\n"
   ]
  },
  {
   "cell_type": "code",
   "execution_count": 72,
   "id": "430b60c3",
   "metadata": {
    "tags": []
   },
   "outputs": [],
   "source": [
    "# import psql_connect as psql\n",
    "# importlib.reload(psql)"
   ]
  },
  {
   "cell_type": "code",
   "execution_count": null,
   "id": "e3bb6fe6-1cf3-4d24-a75d-bc2ab855c299",
   "metadata": {
    "tags": []
   },
   "outputs": [],
   "source": []
  },
  {
   "cell_type": "code",
   "execution_count": null,
   "id": "35692ab9-ea43-4807-b8fd-7c2d489510fb",
   "metadata": {
    "tags": []
   },
   "outputs": [],
   "source": []
  },
  {
   "cell_type": "code",
   "execution_count": 73,
   "id": "76828a2d",
   "metadata": {
    "tags": []
   },
   "outputs": [
    {
     "name": "stdout",
     "output_type": "stream",
     "text": [
      "GPU Memory Size: 16.00 GB\n",
      "0 org_test.unique() [0.         0.00555896 0.00882037 0.02215017 0.02399113]\n",
      "0 pred_sig.unique() [0.06308309 0.0674145  0.06774297 ... 0.99878067 0.9990784  0.999121  ]\n",
      "predShape torch.Size([1024, 1024])\n",
      "0 pred.unique() [0.06308309 0.0674145  0.06774297 ... 0.99878067 0.9990784  0.999121  ]\n",
      "./04_trainingModel\\class-cypress_data2016_batch2_epoch3_modelresnet34-imagenet\\\n",
      "class-cypress_data2016_batch2_epoch3_modelresnet34-imagenet\n",
      "img_show.shape (1024, 1024, 3)\n",
      "msk_show.shape (1024, 1024)\n",
      "output.shape torch.Size([1024, 1024])\n",
      "pred.shape torch.Size([1024, 1024])\n",
      "pred.shape torch.Size([1024, 1024]) <class 'torch.Tensor'>\n",
      "1 pred.unique() [0.06308309 0.0674145  0.06774297 ... 0.99878067 0.9990784  0.999121  ]\n",
      "pred_msk.unique() [0.06308309 0.0674145  0.06774297 ... 0.99878067 0.9990784  0.999121  ] 984924\n",
      "pred.unique() [0.06308309 0.0674145  0.06774297 ... 0.99878067 0.9990784  0.999121  ]\n"
     ]
    },
    {
     "name": "stderr",
     "output_type": "stream",
     "text": [
      "Clipping input data to the valid range for imshow with RGB data ([0..1] for floats or [0..255] for integers).\n"
     ]
    },
    {
     "name": "stdout",
     "output_type": "stream",
     "text": [
      "org.unique() [1.50309249]\n",
      "msk.unique() [0.]\n",
      "pred.unique() [0]\n",
      "img_show.shape (1024, 1024, 3)\n",
      "msk_show.shape (1024, 1024)\n",
      "torch.Size([3, 1024, 1024])\n"
     ]
    }
   ],
   "source": [
    "workDir = \"./04_trainingModel\"\n",
    "\n",
    "from segment_model_training import showPred\n",
    "importlib.reload(segment_model_training)\n",
    "\n",
    "\n",
    "\n",
    "workDir = os.path.join(workDir, modelID) + \"\\\\\"\n",
    "os.makedirs(workDir, exist_ok=True)\n",
    "\n",
    "img_show, msk_show = random.choice(valid_data)\n",
    "img_show[img_show<=0]=0\n",
    "print(\"0 org_test.unique()\",np.unique(img_show)[:5]) \n",
    "\n",
    "\n",
    "img_pred = torch.stack([org, org])\n",
    "# pred = model(img_show.cuda())\n",
    "pred = torch.sigmoid(model(img_pred.cuda()))\n",
    "print(\"0 pred_sig.unique()\",np.unique(pred.data.cpu())) \n",
    "pred = pred[0][0]\n",
    "print(\"predShape\",pred.shape)\n",
    "print(\"0 pred.unique()\",np.unique(pred.data.cpu())) \n",
    "img_show = img_show.cuda()\n",
    "\n",
    "print(workDir)\n",
    "print(modelID)\n",
    "segment_model_training.showPred(img_show=img_show, msk_show=msk_show, pred=pred,\n",
    "         mean_values=mean_values, std_deviation=std_deviation,\n",
    "         workDir=workDir, epoch=1, modelID=\"testmodel\",\n",
    "         imgSave=True)    \n",
    "print(org.shape)\n",
    "\n",
    "# pred = model(org)[0][0]\n",
    "# pred.shape"
   ]
  },
  {
   "cell_type": "code",
   "execution_count": 74,
   "id": "9ed66887",
   "metadata": {
    "tags": []
   },
   "outputs": [],
   "source": [
    "data = {'dataset_Mean': mean_values, 'dataset_Std Deviation': std_deviation}\n",
    "df_statics = pd.DataFrame(data)\n",
    "# DataFrameをCSVファイルとして保存\n",
    "df_statics.to_csv(workDir + f\"statistics_{modelID}.csv\", index=False)\n"
   ]
  },
  {
   "cell_type": "code",
   "execution_count": 75,
   "id": "1ecdbb5d",
   "metadata": {
    "tags": []
   },
   "outputs": [
    {
     "data": {
      "text/plain": [
       "<module 'pre_segmentation_model' from 'H:\\\\マイドライブ\\\\Forest\\\\src\\\\pre_segmentation_model.py'>"
      ]
     },
     "execution_count": 75,
     "metadata": {},
     "output_type": "execute_result"
    }
   ],
   "source": [
    "# del pre_segmentation_model\n",
    "import pre_segmentation_model\n",
    "importlib.reload(pre_segmentation_model)"
   ]
  },
  {
   "cell_type": "code",
   "execution_count": 76,
   "id": "f27b6e63-b850-4eda-89d6-723a03b55233",
   "metadata": {
    "tags": []
   },
   "outputs": [
    {
     "name": "stdout",
     "output_type": "stream",
     "text": [
      "Epoch 1/20\n"
     ]
    },
    {
     "name": "stderr",
     "output_type": "stream",
     "text": [
      "description:   0%|                                                                                                                    | 0/807 [00:00<?, ?it/s]Clipping input data to the valid range for imshow with RGB data ([0..1] for floats or [0..255] for integers).\n",
      "description:   0%|▏                                                                                                           | 1/807 [00:01<15:51,  1.18s/it]Clipping input data to the valid range for imshow with RGB data ([0..1] for floats or [0..255] for integers).\n",
      "description:   0%|▎                                                                                                           | 2/807 [00:02<15:45,  1.17s/it]Clipping input data to the valid range for imshow with RGB data ([0..1] for floats or [0..255] for integers).\n",
      "description:   0%|▍                                                                                                           | 3/807 [00:03<15:12,  1.13s/it]Clipping input data to the valid range for imshow with RGB data ([0..1] for floats or [0..255] for integers).\n",
      "description:   0%|▌                                                                                                           | 4/807 [00:04<15:24,  1.15s/it]Clipping input data to the valid range for imshow with RGB data ([0..1] for floats or [0..255] for integers).\n",
      "description:   1%|▋                                                                                                           | 5/807 [00:06<17:02,  1.28s/it]Clipping input data to the valid range for imshow with RGB data ([0..1] for floats or [0..255] for integers).\n",
      "description:   1%|▊                                                                                                           | 6/807 [00:07<16:01,  1.20s/it]Clipping input data to the valid range for imshow with RGB data ([0..1] for floats or [0..255] for integers).\n",
      "description:   1%|▉                                                                                                           | 7/807 [00:08<15:32,  1.17s/it]Clipping input data to the valid range for imshow with RGB data ([0..1] for floats or [0..255] for integers).\n",
      "description:   1%|█                                                                                                           | 8/807 [00:09<15:14,  1.14s/it]Clipping input data to the valid range for imshow with RGB data ([0..1] for floats or [0..255] for integers).\n",
      "description:   1%|█▏                                                                                                          | 9/807 [00:10<15:07,  1.14s/it]Clipping input data to the valid range for imshow with RGB data ([0..1] for floats or [0..255] for integers).\n",
      "description:   1%|█▎                                                                                                         | 10/807 [00:11<14:47,  1.11s/it]Clipping input data to the valid range for imshow with RGB data ([0..1] for floats or [0..255] for integers).\n",
      "description:   1%|█▍                                                                                                         | 11/807 [00:12<15:20,  1.16s/it]Clipping input data to the valid range for imshow with RGB data ([0..1] for floats or [0..255] for integers).\n",
      "description:   1%|█▌                                                                                                         | 12/807 [00:13<14:52,  1.12s/it]Clipping input data to the valid range for imshow with RGB data ([0..1] for floats or [0..255] for integers).\n",
      "description:   2%|█▋                                                                                                         | 13/807 [00:14<14:59,  1.13s/it]Clipping input data to the valid range for imshow with RGB data ([0..1] for floats or [0..255] for integers).\n",
      "description:   2%|█▊                                                                                                         | 14/807 [00:16<15:10,  1.15s/it]Clipping input data to the valid range for imshow with RGB data ([0..1] for floats or [0..255] for integers).\n",
      "description:   2%|█▉                                                                                                         | 15/807 [00:17<14:50,  1.12s/it]Clipping input data to the valid range for imshow with RGB data ([0..1] for floats or [0..255] for integers).\n",
      "description:   2%|██                                                                                                         | 16/807 [00:18<14:46,  1.12s/it]Clipping input data to the valid range for imshow with RGB data ([0..1] for floats or [0..255] for integers).\n",
      "description:   2%|██▎                                                                                                        | 17/807 [00:19<15:14,  1.16s/it]Clipping input data to the valid range for imshow with RGB data ([0..1] for floats or [0..255] for integers).\n",
      "description:   2%|██▍                                                                                                        | 18/807 [00:21<17:36,  1.34s/it]Clipping input data to the valid range for imshow with RGB data ([0..1] for floats or [0..255] for integers).\n",
      "description:   2%|██▌                                                                                                        | 19/807 [00:22<18:19,  1.40s/it]Clipping input data to the valid range for imshow with RGB data ([0..1] for floats or [0..255] for integers).\n",
      "description:   2%|██▋                                                                                                        | 20/807 [00:24<17:23,  1.33s/it]Clipping input data to the valid range for imshow with RGB data ([0..1] for floats or [0..255] for integers).\n",
      "description:   3%|██▊                                                                                                        | 21/807 [00:25<16:57,  1.29s/it]Clipping input data to the valid range for imshow with RGB data ([0..1] for floats or [0..255] for integers).\n",
      "description:   3%|██▉                                                                                                        | 22/807 [00:26<16:38,  1.27s/it]Clipping input data to the valid range for imshow with RGB data ([0..1] for floats or [0..255] for integers).\n",
      "description:   3%|███                                                                                                        | 23/807 [00:27<17:10,  1.31s/it]Clipping input data to the valid range for imshow with RGB data ([0..1] for floats or [0..255] for integers).\n",
      "description:   3%|███▏                                                                                                       | 24/807 [00:29<17:42,  1.36s/it]Clipping input data to the valid range for imshow with RGB data ([0..1] for floats or [0..255] for integers).\n",
      "description:   3%|███▎                                                                                                       | 25/807 [00:30<16:46,  1.29s/it]Clipping input data to the valid range for imshow with RGB data ([0..1] for floats or [0..255] for integers).\n",
      "description:   3%|███▍                                                                                                       | 26/807 [00:31<16:28,  1.27s/it]Clipping input data to the valid range for imshow with RGB data ([0..1] for floats or [0..255] for integers).\n",
      "description:   3%|███▌                                                                                                       | 27/807 [00:32<16:27,  1.27s/it]Clipping input data to the valid range for imshow with RGB data ([0..1] for floats or [0..255] for integers).\n",
      "description:   3%|███▋                                                                                                       | 28/807 [00:34<16:03,  1.24s/it]Clipping input data to the valid range for imshow with RGB data ([0..1] for floats or [0..255] for integers).\n",
      "description:   4%|███▊                                                                                                       | 29/807 [00:35<15:52,  1.22s/it]Clipping input data to the valid range for imshow with RGB data ([0..1] for floats or [0..255] for integers).\n",
      "description:   4%|███▉                                                                                                       | 30/807 [00:36<17:07,  1.32s/it]Clipping input data to the valid range for imshow with RGB data ([0..1] for floats or [0..255] for integers).\n",
      "description:   4%|████                                                                                                       | 31/807 [00:37<15:59,  1.24s/it]Clipping input data to the valid range for imshow with RGB data ([0..1] for floats or [0..255] for integers).\n",
      "description:   4%|████▏                                                                                                      | 32/807 [00:39<15:43,  1.22s/it]Clipping input data to the valid range for imshow with RGB data ([0..1] for floats or [0..255] for integers).\n",
      "description:   4%|████▍                                                                                                      | 33/807 [00:40<15:25,  1.20s/it]Clipping input data to the valid range for imshow with RGB data ([0..1] for floats or [0..255] for integers).\n",
      "description:   4%|████▌                                                                                                      | 34/807 [00:41<15:38,  1.21s/it]Clipping input data to the valid range for imshow with RGB data ([0..1] for floats or [0..255] for integers).\n",
      "description:   4%|████▋                                                                                                      | 35/807 [00:42<16:26,  1.28s/it]Clipping input data to the valid range for imshow with RGB data ([0..1] for floats or [0..255] for integers).\n",
      "description:   4%|████▊                                                                                                      | 36/807 [00:44<16:53,  1.31s/it]Clipping input data to the valid range for imshow with RGB data ([0..1] for floats or [0..255] for integers).\n",
      "description:   5%|████▉                                                                                                      | 37/807 [00:45<16:17,  1.27s/it]Clipping input data to the valid range for imshow with RGB data ([0..1] for floats or [0..255] for integers).\n",
      "description:   5%|█████                                                                                                      | 38/807 [00:46<16:07,  1.26s/it]Clipping input data to the valid range for imshow with RGB data ([0..1] for floats or [0..255] for integers).\n",
      "description:   5%|█████▏                                                                                                     | 39/807 [00:47<15:58,  1.25s/it]Clipping input data to the valid range for imshow with RGB data ([0..1] for floats or [0..255] for integers).\n",
      "description:   5%|█████▎                                                                                                     | 40/807 [00:49<15:34,  1.22s/it]Clipping input data to the valid range for imshow with RGB data ([0..1] for floats or [0..255] for integers).\n",
      "description:   5%|█████▍                                                                                                     | 41/807 [00:50<15:10,  1.19s/it]Clipping input data to the valid range for imshow with RGB data ([0..1] for floats or [0..255] for integers).\n",
      "description:   5%|█████▌                                                                                                     | 42/807 [00:51<15:39,  1.23s/it]Clipping input data to the valid range for imshow with RGB data ([0..1] for floats or [0..255] for integers).\n",
      "description:   5%|█████▋                                                                                                     | 43/807 [00:53<16:57,  1.33s/it]Clipping input data to the valid range for imshow with RGB data ([0..1] for floats or [0..255] for integers).\n",
      "description:   5%|█████▊                                                                                                     | 44/807 [00:54<17:22,  1.37s/it]Clipping input data to the valid range for imshow with RGB data ([0..1] for floats or [0..255] for integers).\n",
      "description:   6%|█████▉                                                                                                     | 45/807 [00:55<17:09,  1.35s/it]Clipping input data to the valid range for imshow with RGB data ([0..1] for floats or [0..255] for integers).\n",
      "description:   6%|██████                                                                                                     | 46/807 [00:57<17:08,  1.35s/it]Clipping input data to the valid range for imshow with RGB data ([0..1] for floats or [0..255] for integers).\n",
      "description:   6%|██████▏                                                                                                    | 47/807 [00:58<16:39,  1.31s/it]Clipping input data to the valid range for imshow with RGB data ([0..1] for floats or [0..255] for integers).\n",
      "description:   6%|██████▎                                                                                                    | 48/807 [00:59<16:30,  1.31s/it]Clipping input data to the valid range for imshow with RGB data ([0..1] for floats or [0..255] for integers).\n",
      "description:   6%|██████▍                                                                                                    | 49/807 [01:01<17:15,  1.37s/it]Clipping input data to the valid range for imshow with RGB data ([0..1] for floats or [0..255] for integers).\n",
      "description:   6%|██████▋                                                                                                    | 50/807 [01:02<16:42,  1.32s/it]Clipping input data to the valid range for imshow with RGB data ([0..1] for floats or [0..255] for integers).\n",
      "description:   6%|██████▊                                                                                                    | 51/807 [01:03<16:20,  1.30s/it]Clipping input data to the valid range for imshow with RGB data ([0..1] for floats or [0..255] for integers).\n",
      "description:   6%|██████▉                                                                                                    | 52/807 [01:04<15:58,  1.27s/it]Clipping input data to the valid range for imshow with RGB data ([0..1] for floats or [0..255] for integers).\n",
      "description:   7%|███████                                                                                                    | 53/807 [01:06<15:48,  1.26s/it]Clipping input data to the valid range for imshow with RGB data ([0..1] for floats or [0..255] for integers).\n",
      "description:   7%|███████▏                                                                                                   | 54/807 [01:07<15:32,  1.24s/it]Clipping input data to the valid range for imshow with RGB data ([0..1] for floats or [0..255] for integers).\n",
      "description:   7%|███████▎                                                                                                   | 55/807 [01:08<16:44,  1.34s/it]Clipping input data to the valid range for imshow with RGB data ([0..1] for floats or [0..255] for integers).\n",
      "description:   7%|███████▍                                                                                                   | 56/807 [01:10<16:39,  1.33s/it]Clipping input data to the valid range for imshow with RGB data ([0..1] for floats or [0..255] for integers).\n",
      "description:   7%|███████▌                                                                                                   | 57/807 [01:11<16:08,  1.29s/it]Clipping input data to the valid range for imshow with RGB data ([0..1] for floats or [0..255] for integers).\n",
      "description:   7%|███████▋                                                                                                   | 58/807 [01:12<16:00,  1.28s/it]Clipping input data to the valid range for imshow with RGB data ([0..1] for floats or [0..255] for integers).\n",
      "description:   7%|███████▊                                                                                                   | 59/807 [01:13<15:53,  1.27s/it]Clipping input data to the valid range for imshow with RGB data ([0..1] for floats or [0..255] for integers).\n",
      "description:   7%|███████▉                                                                                                   | 60/807 [01:15<15:55,  1.28s/it]Clipping input data to the valid range for imshow with RGB data ([0..1] for floats or [0..255] for integers).\n",
      "description:   8%|████████                                                                                                   | 61/807 [01:16<16:24,  1.32s/it]Clipping input data to the valid range for imshow with RGB data ([0..1] for floats or [0..255] for integers).\n",
      "description:   8%|████████▏                                                                                                  | 62/807 [01:17<15:41,  1.26s/it]Clipping input data to the valid range for imshow with RGB data ([0..1] for floats or [0..255] for integers).\n",
      "description:   8%|████████▎                                                                                                  | 63/807 [01:18<15:27,  1.25s/it]Clipping input data to the valid range for imshow with RGB data ([0..1] for floats or [0..255] for integers).\n",
      "description:   8%|████████▍                                                                                                  | 64/807 [01:20<15:06,  1.22s/it]Clipping input data to the valid range for imshow with RGB data ([0..1] for floats or [0..255] for integers).\n",
      "description:   8%|████████▌                                                                                                  | 65/807 [01:21<15:12,  1.23s/it]Clipping input data to the valid range for imshow with RGB data ([0..1] for floats or [0..255] for integers).\n",
      "description:   8%|████████▊                                                                                                  | 66/807 [01:22<14:37,  1.18s/it]Clipping input data to the valid range for imshow with RGB data ([0..1] for floats or [0..255] for integers).\n",
      "description:   8%|████████▉                                                                                                  | 67/807 [01:23<14:35,  1.18s/it]Clipping input data to the valid range for imshow with RGB data ([0..1] for floats or [0..255] for integers).\n",
      "description:   8%|█████████                                                                                                  | 68/807 [01:25<15:41,  1.27s/it]Clipping input data to the valid range for imshow with RGB data ([0..1] for floats or [0..255] for integers).\n",
      "description:   9%|█████████▏                                                                                                 | 69/807 [01:26<15:23,  1.25s/it]Clipping input data to the valid range for imshow with RGB data ([0..1] for floats or [0..255] for integers).\n",
      "description:   9%|█████████▎                                                                                                 | 70/807 [01:27<14:37,  1.19s/it]Clipping input data to the valid range for imshow with RGB data ([0..1] for floats or [0..255] for integers).\n",
      "description:   9%|█████████▍                                                                                                 | 71/807 [01:28<14:09,  1.15s/it]Clipping input data to the valid range for imshow with RGB data ([0..1] for floats or [0..255] for integers).\n",
      "description:   9%|█████████▌                                                                                                 | 72/807 [01:29<13:42,  1.12s/it]Clipping input data to the valid range for imshow with RGB data ([0..1] for floats or [0..255] for integers).\n",
      "description:   9%|█████████▋                                                                                                 | 73/807 [01:30<13:31,  1.11s/it]Clipping input data to the valid range for imshow with RGB data ([0..1] for floats or [0..255] for integers).\n",
      "description:   9%|█████████▊                                                                                                 | 74/807 [01:31<13:16,  1.09s/it]Clipping input data to the valid range for imshow with RGB data ([0..1] for floats or [0..255] for integers).\n",
      "description:   9%|█████████▉                                                                                                 | 75/807 [01:32<12:48,  1.05s/it]Clipping input data to the valid range for imshow with RGB data ([0..1] for floats or [0..255] for integers).\n",
      "description:   9%|██████████                                                                                                 | 76/807 [01:33<12:28,  1.02s/it]Clipping input data to the valid range for imshow with RGB data ([0..1] for floats or [0..255] for integers).\n",
      "description:  10%|██████████▏                                                                                                | 77/807 [01:34<12:50,  1.06s/it]Clipping input data to the valid range for imshow with RGB data ([0..1] for floats or [0..255] for integers).\n",
      "description:  10%|██████████▎                                                                                                | 78/807 [01:35<12:41,  1.04s/it]Clipping input data to the valid range for imshow with RGB data ([0..1] for floats or [0..255] for integers).\n",
      "description:  10%|██████████▍                                                                                                | 79/807 [01:36<13:21,  1.10s/it]Clipping input data to the valid range for imshow with RGB data ([0..1] for floats or [0..255] for integers).\n",
      "description:  10%|██████████▌                                                                                                | 80/807 [01:38<15:00,  1.24s/it]Clipping input data to the valid range for imshow with RGB data ([0..1] for floats or [0..255] for integers).\n",
      "description:  10%|██████████▋                                                                                                | 81/807 [01:39<14:18,  1.18s/it]Clipping input data to the valid range for imshow with RGB data ([0..1] for floats or [0..255] for integers).\n",
      "description:  10%|██████████▊                                                                                                | 82/807 [01:40<14:13,  1.18s/it]Clipping input data to the valid range for imshow with RGB data ([0..1] for floats or [0..255] for integers).\n",
      "description:  10%|███████████                                                                                                | 83/807 [01:41<14:07,  1.17s/it]Clipping input data to the valid range for imshow with RGB data ([0..1] for floats or [0..255] for integers).\n",
      "description:  10%|███████████▏                                                                                               | 84/807 [01:42<13:56,  1.16s/it]Clipping input data to the valid range for imshow with RGB data ([0..1] for floats or [0..255] for integers).\n",
      "description:  11%|███████████▎                                                                                               | 85/807 [01:44<14:06,  1.17s/it]Clipping input data to the valid range for imshow with RGB data ([0..1] for floats or [0..255] for integers).\n",
      "description:  11%|███████████▍                                                                                               | 86/807 [01:45<13:38,  1.14s/it]Clipping input data to the valid range for imshow with RGB data ([0..1] for floats or [0..255] for integers).\n",
      "description:  11%|███████████▌                                                                                               | 87/807 [01:46<13:37,  1.14s/it]Clipping input data to the valid range for imshow with RGB data ([0..1] for floats or [0..255] for integers).\n",
      "description:  11%|███████████▋                                                                                               | 88/807 [01:47<13:56,  1.16s/it]Clipping input data to the valid range for imshow with RGB data ([0..1] for floats or [0..255] for integers).\n",
      "description:  11%|███████████▊                                                                                               | 89/807 [01:48<14:41,  1.23s/it]Clipping input data to the valid range for imshow with RGB data ([0..1] for floats or [0..255] for integers).\n",
      "description:  11%|███████████▉                                                                                               | 90/807 [01:50<14:18,  1.20s/it]Clipping input data to the valid range for imshow with RGB data ([0..1] for floats or [0..255] for integers).\n",
      "description:  11%|████████████                                                                                               | 91/807 [01:51<13:58,  1.17s/it]Clipping input data to the valid range for imshow with RGB data ([0..1] for floats or [0..255] for integers).\n",
      "description:  11%|████████████▏                                                                                              | 92/807 [01:52<14:16,  1.20s/it]Clipping input data to the valid range for imshow with RGB data ([0..1] for floats or [0..255] for integers).\n",
      "description:  12%|████████████▎                                                                                              | 93/807 [01:53<15:22,  1.29s/it]Clipping input data to the valid range for imshow with RGB data ([0..1] for floats or [0..255] for integers).\n",
      "description:  12%|████████████▍                                                                                              | 94/807 [01:55<16:06,  1.36s/it]Clipping input data to the valid range for imshow with RGB data ([0..1] for floats or [0..255] for integers).\n",
      "description:  12%|████████████▌                                                                                              | 95/807 [01:56<15:29,  1.31s/it]Clipping input data to the valid range for imshow with RGB data ([0..1] for floats or [0..255] for integers).\n",
      "description:  12%|████████████▋                                                                                              | 96/807 [01:57<15:16,  1.29s/it]Clipping input data to the valid range for imshow with RGB data ([0..1] for floats or [0..255] for integers).\n",
      "description:  12%|████████████▊                                                                                              | 97/807 [01:59<16:19,  1.38s/it]Clipping input data to the valid range for imshow with RGB data ([0..1] for floats or [0..255] for integers).\n",
      "description:  12%|████████████▉                                                                                              | 98/807 [02:00<15:40,  1.33s/it]Clipping input data to the valid range for imshow with RGB data ([0..1] for floats or [0..255] for integers).\n",
      "description:  12%|█████████████▏                                                                                             | 99/807 [02:01<15:18,  1.30s/it]Clipping input data to the valid range for imshow with RGB data ([0..1] for floats or [0..255] for integers).\n",
      "description:  12%|█████████████▏                                                                                            | 100/807 [02:03<14:52,  1.26s/it]Clipping input data to the valid range for imshow with RGB data ([0..1] for floats or [0..255] for integers).\n",
      "description:  13%|█████████████▎                                                                                            | 101/807 [02:04<15:19,  1.30s/it]Clipping input data to the valid range for imshow with RGB data ([0..1] for floats or [0..255] for integers).\n",
      "description:  13%|█████████████▍                                                                                            | 102/807 [02:05<15:16,  1.30s/it]Clipping input data to the valid range for imshow with RGB data ([0..1] for floats or [0..255] for integers).\n",
      "description:  13%|█████████████▌                                                                                            | 103/807 [02:06<14:41,  1.25s/it]Clipping input data to the valid range for imshow with RGB data ([0..1] for floats or [0..255] for integers).\n",
      "description:  13%|█████████████▋                                                                                            | 104/807 [02:08<14:08,  1.21s/it]Clipping input data to the valid range for imshow with RGB data ([0..1] for floats or [0..255] for integers).\n",
      "description:  13%|█████████████▊                                                                                            | 105/807 [02:09<15:55,  1.36s/it]Clipping input data to the valid range for imshow with RGB data ([0..1] for floats or [0..255] for integers).\n",
      "description:  13%|█████████████▉                                                                                            | 106/807 [02:10<15:09,  1.30s/it]Clipping input data to the valid range for imshow with RGB data ([0..1] for floats or [0..255] for integers).\n",
      "description:  13%|██████████████                                                                                            | 107/807 [02:12<14:51,  1.27s/it]Clipping input data to the valid range for imshow with RGB data ([0..1] for floats or [0..255] for integers).\n",
      "description:  13%|██████████████▏                                                                                           | 108/807 [02:13<15:09,  1.30s/it]Clipping input data to the valid range for imshow with RGB data ([0..1] for floats or [0..255] for integers).\n",
      "description:  14%|██████████████▎                                                                                           | 109/807 [02:14<15:09,  1.30s/it]Clipping input data to the valid range for imshow with RGB data ([0..1] for floats or [0..255] for integers).\n",
      "description:  14%|██████████████▍                                                                                           | 110/807 [02:15<14:33,  1.25s/it]Clipping input data to the valid range for imshow with RGB data ([0..1] for floats or [0..255] for integers).\n",
      "description:  14%|██████████████▌                                                                                           | 111/807 [02:17<14:25,  1.24s/it]Clipping input data to the valid range for imshow with RGB data ([0..1] for floats or [0..255] for integers).\n",
      "description:  14%|██████████████▋                                                                                           | 112/807 [02:18<14:05,  1.22s/it]Clipping input data to the valid range for imshow with RGB data ([0..1] for floats or [0..255] for integers).\n",
      "description:  14%|██████████████▊                                                                                           | 113/807 [02:19<13:56,  1.21s/it]Clipping input data to the valid range for imshow with RGB data ([0..1] for floats or [0..255] for integers).\n",
      "description:  14%|██████████████▉                                                                                           | 114/807 [02:20<13:43,  1.19s/it]Clipping input data to the valid range for imshow with RGB data ([0..1] for floats or [0..255] for integers).\n",
      "description:  14%|███████████████                                                                                           | 115/807 [02:21<13:41,  1.19s/it]Clipping input data to the valid range for imshow with RGB data ([0..1] for floats or [0..255] for integers).\n",
      "description:  14%|███████████████▏                                                                                          | 116/807 [02:22<13:28,  1.17s/it]Clipping input data to the valid range for imshow with RGB data ([0..1] for floats or [0..255] for integers).\n",
      "description:  14%|███████████████▎                                                                                          | 117/807 [02:24<14:20,  1.25s/it]Clipping input data to the valid range for imshow with RGB data ([0..1] for floats or [0..255] for integers).\n",
      "description:  15%|███████████████▍                                                                                          | 118/807 [02:25<15:15,  1.33s/it]Clipping input data to the valid range for imshow with RGB data ([0..1] for floats or [0..255] for integers).\n",
      "description:  15%|███████████████▋                                                                                          | 119/807 [02:27<14:40,  1.28s/it]Clipping input data to the valid range for imshow with RGB data ([0..1] for floats or [0..255] for integers).\n",
      "description:  15%|███████████████▊                                                                                          | 120/807 [02:28<13:59,  1.22s/it]Clipping input data to the valid range for imshow with RGB data ([0..1] for floats or [0..255] for integers).\n",
      "description:  15%|███████████████▉                                                                                          | 121/807 [02:29<13:55,  1.22s/it]Clipping input data to the valid range for imshow with RGB data ([0..1] for floats or [0..255] for integers).\n",
      "description:  15%|████████████████                                                                                          | 122/807 [02:30<13:43,  1.20s/it]Clipping input data to the valid range for imshow with RGB data ([0..1] for floats or [0..255] for integers).\n",
      "description:  15%|████████████████▏                                                                                         | 123/807 [02:31<13:27,  1.18s/it]Clipping input data to the valid range for imshow with RGB data ([0..1] for floats or [0..255] for integers).\n",
      "description:  15%|████████████████▎                                                                                         | 124/807 [02:32<13:32,  1.19s/it]Clipping input data to the valid range for imshow with RGB data ([0..1] for floats or [0..255] for integers).\n",
      "description:  15%|████████████████▍                                                                                         | 125/807 [02:34<13:23,  1.18s/it]Clipping input data to the valid range for imshow with RGB data ([0..1] for floats or [0..255] for integers).\n",
      "description:  16%|████████████████▌                                                                                         | 126/807 [02:35<13:39,  1.20s/it]Clipping input data to the valid range for imshow with RGB data ([0..1] for floats or [0..255] for integers).\n",
      "description:  16%|████████████████▋                                                                                         | 127/807 [02:36<13:39,  1.20s/it]Clipping input data to the valid range for imshow with RGB data ([0..1] for floats or [0..255] for integers).\n",
      "description:  16%|████████████████▊                                                                                         | 128/807 [02:37<13:54,  1.23s/it]Clipping input data to the valid range for imshow with RGB data ([0..1] for floats or [0..255] for integers).\n",
      "description:  16%|████████████████▉                                                                                         | 129/807 [02:38<13:46,  1.22s/it]Clipping input data to the valid range for imshow with RGB data ([0..1] for floats or [0..255] for integers).\n",
      "description:  16%|█████████████████                                                                                         | 130/807 [02:40<13:37,  1.21s/it]Clipping input data to the valid range for imshow with RGB data ([0..1] for floats or [0..255] for integers).\n",
      "description:  16%|█████████████████▏                                                                                        | 131/807 [02:41<14:44,  1.31s/it]Clipping input data to the valid range for imshow with RGB data ([0..1] for floats or [0..255] for integers).\n",
      "description:  16%|█████████████████▎                                                                                        | 132/807 [02:42<14:26,  1.28s/it]Clipping input data to the valid range for imshow with RGB data ([0..1] for floats or [0..255] for integers).\n",
      "description:  16%|█████████████████▍                                                                                        | 133/807 [02:44<14:05,  1.25s/it]Clipping input data to the valid range for imshow with RGB data ([0..1] for floats or [0..255] for integers).\n",
      "description:  17%|█████████████████▌                                                                                        | 134/807 [02:45<13:44,  1.23s/it]Clipping input data to the valid range for imshow with RGB data ([0..1] for floats or [0..255] for integers).\n",
      "description:  17%|█████████████████▋                                                                                        | 135/807 [02:46<13:29,  1.20s/it]Clipping input data to the valid range for imshow with RGB data ([0..1] for floats or [0..255] for integers).\n",
      "description:  17%|█████████████████▊                                                                                        | 136/807 [02:47<13:09,  1.18s/it]Clipping input data to the valid range for imshow with RGB data ([0..1] for floats or [0..255] for integers).\n",
      "description:  17%|█████████████████▉                                                                                        | 137/807 [02:48<13:09,  1.18s/it]Clipping input data to the valid range for imshow with RGB data ([0..1] for floats or [0..255] for integers).\n",
      "description:  17%|██████████████████▏                                                                                       | 138/807 [02:49<13:08,  1.18s/it]Clipping input data to the valid range for imshow with RGB data ([0..1] for floats or [0..255] for integers).\n",
      "description:  17%|██████████████████▎                                                                                       | 139/807 [02:51<13:03,  1.17s/it]Clipping input data to the valid range for imshow with RGB data ([0..1] for floats or [0..255] for integers).\n",
      "description:  17%|██████████████████▍                                                                                       | 140/807 [02:52<13:10,  1.18s/it]Clipping input data to the valid range for imshow with RGB data ([0..1] for floats or [0..255] for integers).\n",
      "description:  17%|██████████████████▌                                                                                       | 141/807 [02:53<13:06,  1.18s/it]Clipping input data to the valid range for imshow with RGB data ([0..1] for floats or [0..255] for integers).\n",
      "description:  18%|██████████████████▋                                                                                       | 142/807 [02:54<12:54,  1.16s/it]Clipping input data to the valid range for imshow with RGB data ([0..1] for floats or [0..255] for integers).\n",
      "description:  18%|██████████████████▊                                                                                       | 143/807 [02:56<14:03,  1.27s/it]Clipping input data to the valid range for imshow with RGB data ([0..1] for floats or [0..255] for integers).\n",
      "description:  18%|██████████████████▉                                                                                       | 144/807 [02:57<14:52,  1.35s/it]Clipping input data to the valid range for imshow with RGB data ([0..1] for floats or [0..255] for integers).\n",
      "description:  18%|███████████████████                                                                                       | 145/807 [02:58<14:07,  1.28s/it]Clipping input data to the valid range for imshow with RGB data ([0..1] for floats or [0..255] for integers).\n",
      "description:  18%|███████████████████▏                                                                                      | 146/807 [02:59<13:55,  1.26s/it]Clipping input data to the valid range for imshow with RGB data ([0..1] for floats or [0..255] for integers).\n",
      "description:  18%|███████████████████▎                                                                                      | 147/807 [03:01<13:54,  1.26s/it]Clipping input data to the valid range for imshow with RGB data ([0..1] for floats or [0..255] for integers).\n",
      "description:  18%|███████████████████▍                                                                                      | 148/807 [03:02<14:23,  1.31s/it]Clipping input data to the valid range for imshow with RGB data ([0..1] for floats or [0..255] for integers).\n",
      "description:  18%|███████████████████▌                                                                                      | 149/807 [03:04<14:28,  1.32s/it]Clipping input data to the valid range for imshow with RGB data ([0..1] for floats or [0..255] for integers).\n",
      "description:  19%|███████████████████▋                                                                                      | 150/807 [03:05<13:53,  1.27s/it]Clipping input data to the valid range for imshow with RGB data ([0..1] for floats or [0..255] for integers).\n",
      "description:  19%|███████████████████▊                                                                                      | 151/807 [03:06<13:59,  1.28s/it]Clipping input data to the valid range for imshow with RGB data ([0..1] for floats or [0..255] for integers).\n",
      "description:  19%|███████████████████▉                                                                                      | 152/807 [03:07<13:45,  1.26s/it]Clipping input data to the valid range for imshow with RGB data ([0..1] for floats or [0..255] for integers).\n",
      "description:  19%|████████████████████                                                                                      | 153/807 [03:08<13:49,  1.27s/it]Clipping input data to the valid range for imshow with RGB data ([0..1] for floats or [0..255] for integers).\n",
      "description:  19%|████████████████████▏                                                                                     | 154/807 [03:10<13:32,  1.24s/it]Clipping input data to the valid range for imshow with RGB data ([0..1] for floats or [0..255] for integers).\n",
      "description:  19%|████████████████████▎                                                                                     | 155/807 [03:11<13:47,  1.27s/it]Clipping input data to the valid range for imshow with RGB data ([0..1] for floats or [0..255] for integers).\n",
      "description:  19%|████████████████████▍                                                                                     | 156/807 [03:12<14:28,  1.33s/it]Clipping input data to the valid range for imshow with RGB data ([0..1] for floats or [0..255] for integers).\n",
      "description:  19%|████████████████████▌                                                                                     | 157/807 [03:14<13:57,  1.29s/it]Clipping input data to the valid range for imshow with RGB data ([0..1] for floats or [0..255] for integers).\n",
      "description:  20%|████████████████████▊                                                                                     | 158/807 [03:15<13:27,  1.24s/it]Clipping input data to the valid range for imshow with RGB data ([0..1] for floats or [0..255] for integers).\n",
      "description:  20%|████████████████████▉                                                                                     | 159/807 [03:16<13:31,  1.25s/it]Clipping input data to the valid range for imshow with RGB data ([0..1] for floats or [0..255] for integers).\n",
      "description:  20%|█████████████████████                                                                                     | 160/807 [03:17<13:31,  1.25s/it]Clipping input data to the valid range for imshow with RGB data ([0..1] for floats or [0..255] for integers).\n",
      "description:  20%|█████████████████████▏                                                                                    | 161/807 [03:18<13:13,  1.23s/it]Clipping input data to the valid range for imshow with RGB data ([0..1] for floats or [0..255] for integers).\n",
      "description:  20%|█████████████████████▎                                                                                    | 162/807 [03:20<14:05,  1.31s/it]Clipping input data to the valid range for imshow with RGB data ([0..1] for floats or [0..255] for integers).\n",
      "description:  20%|█████████████████████▍                                                                                    | 163/807 [03:21<13:42,  1.28s/it]Clipping input data to the valid range for imshow with RGB data ([0..1] for floats or [0..255] for integers).\n",
      "description:  20%|█████████████████████▌                                                                                    | 164/807 [03:22<13:29,  1.26s/it]Clipping input data to the valid range for imshow with RGB data ([0..1] for floats or [0..255] for integers).\n",
      "description:  20%|█████████████████████▋                                                                                    | 165/807 [03:24<13:11,  1.23s/it]Clipping input data to the valid range for imshow with RGB data ([0..1] for floats or [0..255] for integers).\n",
      "description:  21%|█████████████████████▊                                                                                    | 166/807 [03:25<13:10,  1.23s/it]Clipping input data to the valid range for imshow with RGB data ([0..1] for floats or [0..255] for integers).\n",
      "description:  21%|█████████████████████▉                                                                                    | 167/807 [03:26<13:08,  1.23s/it]Clipping input data to the valid range for imshow with RGB data ([0..1] for floats or [0..255] for integers).\n",
      "description:  21%|██████████████████████                                                                                    | 168/807 [03:27<12:47,  1.20s/it]Clipping input data to the valid range for imshow with RGB data ([0..1] for floats or [0..255] for integers).\n",
      "description:  21%|██████████████████████▏                                                                                   | 169/807 [03:29<14:17,  1.34s/it]Clipping input data to the valid range for imshow with RGB data ([0..1] for floats or [0..255] for integers).\n",
      "description:  21%|██████████████████████▎                                                                                   | 170/807 [03:30<14:25,  1.36s/it]Clipping input data to the valid range for imshow with RGB data ([0..1] for floats or [0..255] for integers).\n",
      "description:  21%|██████████████████████▍                                                                                   | 171/807 [03:32<14:10,  1.34s/it]Clipping input data to the valid range for imshow with RGB data ([0..1] for floats or [0..255] for integers).\n",
      "description:  21%|██████████████████████▌                                                                                   | 172/807 [03:33<13:24,  1.27s/it]Clipping input data to the valid range for imshow with RGB data ([0..1] for floats or [0..255] for integers).\n",
      "description:  21%|██████████████████████▋                                                                                   | 173/807 [03:34<13:31,  1.28s/it]Clipping input data to the valid range for imshow with RGB data ([0..1] for floats or [0..255] for integers).\n",
      "description:  22%|██████████████████████▊                                                                                   | 174/807 [03:35<13:45,  1.30s/it]Clipping input data to the valid range for imshow with RGB data ([0..1] for floats or [0..255] for integers).\n",
      "description:  22%|██████████████████████▉                                                                                   | 175/807 [03:36<13:07,  1.25s/it]Clipping input data to the valid range for imshow with RGB data ([0..1] for floats or [0..255] for integers).\n",
      "description:  22%|███████████████████████                                                                                   | 176/807 [03:38<12:40,  1.21s/it]Clipping input data to the valid range for imshow with RGB data ([0..1] for floats or [0..255] for integers).\n",
      "description:  22%|███████████████████████▏                                                                                  | 177/807 [03:39<12:19,  1.17s/it]Clipping input data to the valid range for imshow with RGB data ([0..1] for floats or [0..255] for integers).\n",
      "description:  22%|███████████████████████▍                                                                                  | 178/807 [03:40<12:31,  1.19s/it]Clipping input data to the valid range for imshow with RGB data ([0..1] for floats or [0..255] for integers).\n",
      "description:  22%|███████████████████████▌                                                                                  | 179/807 [03:41<12:23,  1.18s/it]Clipping input data to the valid range for imshow with RGB data ([0..1] for floats or [0..255] for integers).\n",
      "description:  22%|███████████████████████▋                                                                                  | 180/807 [03:42<13:18,  1.27s/it]Clipping input data to the valid range for imshow with RGB data ([0..1] for floats or [0..255] for integers).\n",
      "description:  22%|███████████████████████▊                                                                                  | 181/807 [03:44<13:12,  1.27s/it]Clipping input data to the valid range for imshow with RGB data ([0..1] for floats or [0..255] for integers).\n",
      "description:  23%|███████████████████████▉                                                                                  | 182/807 [03:45<14:37,  1.40s/it]Clipping input data to the valid range for imshow with RGB data ([0..1] for floats or [0..255] for integers).\n",
      "description:  23%|████████████████████████                                                                                  | 183/807 [03:47<13:48,  1.33s/it]Clipping input data to the valid range for imshow with RGB data ([0..1] for floats or [0..255] for integers).\n",
      "description:  23%|████████████████████████▏                                                                                 | 184/807 [03:48<13:41,  1.32s/it]Clipping input data to the valid range for imshow with RGB data ([0..1] for floats or [0..255] for integers).\n",
      "description:  23%|████████████████████████▎                                                                                 | 185/807 [03:49<13:15,  1.28s/it]Clipping input data to the valid range for imshow with RGB data ([0..1] for floats or [0..255] for integers).\n",
      "description:  23%|████████████████████████▍                                                                                 | 186/807 [03:50<13:18,  1.29s/it]Clipping input data to the valid range for imshow with RGB data ([0..1] for floats or [0..255] for integers).\n",
      "description:  23%|████████████████████████▌                                                                                 | 187/807 [03:51<12:40,  1.23s/it]Clipping input data to the valid range for imshow with RGB data ([0..1] for floats or [0..255] for integers).\n",
      "description:  23%|████████████████████████▋                                                                                 | 188/807 [03:53<12:41,  1.23s/it]Clipping input data to the valid range for imshow with RGB data ([0..1] for floats or [0..255] for integers).\n",
      "description:  23%|████████████████████████▊                                                                                 | 189/807 [03:54<12:52,  1.25s/it]Clipping input data to the valid range for imshow with RGB data ([0..1] for floats or [0..255] for integers).\n",
      "description:  24%|████████████████████████▉                                                                                 | 190/807 [03:55<12:33,  1.22s/it]Clipping input data to the valid range for imshow with RGB data ([0..1] for floats or [0..255] for integers).\n",
      "description:  24%|█████████████████████████                                                                                 | 191/807 [03:56<12:28,  1.21s/it]Clipping input data to the valid range for imshow with RGB data ([0..1] for floats or [0..255] for integers).\n",
      "description:  24%|█████████████████████████▏                                                                                | 192/807 [03:58<12:19,  1.20s/it]Clipping input data to the valid range for imshow with RGB data ([0..1] for floats or [0..255] for integers).\n",
      "description:  24%|█████████████████████████▎                                                                                | 193/807 [03:59<12:24,  1.21s/it]Clipping input data to the valid range for imshow with RGB data ([0..1] for floats or [0..255] for integers).\n",
      "description:  24%|█████████████████████████▍                                                                                | 194/807 [04:00<12:10,  1.19s/it]Clipping input data to the valid range for imshow with RGB data ([0..1] for floats or [0..255] for integers).\n",
      "description:  24%|█████████████████████████▌                                                                                | 195/807 [04:02<13:18,  1.31s/it]Clipping input data to the valid range for imshow with RGB data ([0..1] for floats or [0..255] for integers).\n",
      "description:  24%|█████████████████████████▋                                                                                | 196/807 [04:03<13:30,  1.33s/it]Clipping input data to the valid range for imshow with RGB data ([0..1] for floats or [0..255] for integers).\n",
      "description:  24%|█████████████████████████▉                                                                                | 197/807 [04:04<13:14,  1.30s/it]Clipping input data to the valid range for imshow with RGB data ([0..1] for floats or [0..255] for integers).\n",
      "description:  25%|██████████████████████████                                                                                | 198/807 [04:05<13:01,  1.28s/it]Clipping input data to the valid range for imshow with RGB data ([0..1] for floats or [0..255] for integers).\n",
      "description:  25%|██████████████████████████▏                                                                               | 199/807 [04:06<12:24,  1.22s/it]Clipping input data to the valid range for imshow with RGB data ([0..1] for floats or [0..255] for integers).\n",
      "description:  25%|██████████████████████████▎                                                                               | 200/807 [04:08<12:09,  1.20s/it]Clipping input data to the valid range for imshow with RGB data ([0..1] for floats or [0..255] for integers).\n",
      "description:  25%|██████████████████████████▍                                                                               | 201/807 [04:09<12:59,  1.29s/it]Clipping input data to the valid range for imshow with RGB data ([0..1] for floats or [0..255] for integers).\n",
      "description:  25%|██████████████████████████▌                                                                               | 202/807 [04:10<13:15,  1.31s/it]Clipping input data to the valid range for imshow with RGB data ([0..1] for floats or [0..255] for integers).\n",
      "description:  25%|██████████████████████████▋                                                                               | 203/807 [04:12<13:36,  1.35s/it]Clipping input data to the valid range for imshow with RGB data ([0..1] for floats or [0..255] for integers).\n",
      "description:  25%|██████████████████████████▊                                                                               | 204/807 [04:13<13:08,  1.31s/it]Clipping input data to the valid range for imshow with RGB data ([0..1] for floats or [0..255] for integers).\n",
      "description:  25%|██████████████████████████▉                                                                               | 205/807 [04:14<13:12,  1.32s/it]Clipping input data to the valid range for imshow with RGB data ([0..1] for floats or [0..255] for integers).\n",
      "description:  26%|███████████████████████████                                                                               | 206/807 [04:16<12:40,  1.27s/it]Clipping input data to the valid range for imshow with RGB data ([0..1] for floats or [0..255] for integers).\n",
      "description:  26%|███████████████████████████▏                                                                              | 207/807 [04:17<12:35,  1.26s/it]Clipping input data to the valid range for imshow with RGB data ([0..1] for floats or [0..255] for integers).\n",
      "description:  26%|███████████████████████████▎                                                                              | 208/807 [04:18<13:39,  1.37s/it]Clipping input data to the valid range for imshow with RGB data ([0..1] for floats or [0..255] for integers).\n",
      "description:  26%|███████████████████████████▍                                                                              | 209/807 [04:20<13:47,  1.38s/it]Clipping input data to the valid range for imshow with RGB data ([0..1] for floats or [0..255] for integers).\n",
      "description:  26%|███████████████████████████▌                                                                              | 210/807 [04:21<12:47,  1.29s/it]Clipping input data to the valid range for imshow with RGB data ([0..1] for floats or [0..255] for integers).\n",
      "description:  26%|███████████████████████████▋                                                                              | 211/807 [04:22<12:33,  1.26s/it]Clipping input data to the valid range for imshow with RGB data ([0..1] for floats or [0..255] for integers).\n",
      "description:  26%|███████████████████████████▊                                                                              | 212/807 [04:23<12:34,  1.27s/it]Clipping input data to the valid range for imshow with RGB data ([0..1] for floats or [0..255] for integers).\n",
      "description:  26%|███████████████████████████▉                                                                              | 213/807 [04:25<12:18,  1.24s/it]Clipping input data to the valid range for imshow with RGB data ([0..1] for floats or [0..255] for integers).\n",
      "description:  27%|████████████████████████████                                                                              | 214/807 [04:26<12:07,  1.23s/it]Clipping input data to the valid range for imshow with RGB data ([0..1] for floats or [0..255] for integers).\n",
      "description:  27%|████████████████████████████▏                                                                             | 215/807 [04:27<12:06,  1.23s/it]Clipping input data to the valid range for imshow with RGB data ([0..1] for floats or [0..255] for integers).\n",
      "description:  27%|████████████████████████████▎                                                                             | 216/807 [04:28<12:00,  1.22s/it]Clipping input data to the valid range for imshow with RGB data ([0..1] for floats or [0..255] for integers).\n",
      "description:  27%|████████████████████████████▌                                                                             | 217/807 [04:30<12:14,  1.25s/it]Clipping input data to the valid range for imshow with RGB data ([0..1] for floats or [0..255] for integers).\n",
      "description:  27%|████████████████████████████▋                                                                             | 218/807 [04:31<12:34,  1.28s/it]Clipping input data to the valid range for imshow with RGB data ([0..1] for floats or [0..255] for integers).\n",
      "description:  27%|████████████████████████████▊                                                                             | 219/807 [04:32<13:07,  1.34s/it]Clipping input data to the valid range for imshow with RGB data ([0..1] for floats or [0..255] for integers).\n",
      "description:  27%|████████████████████████████▉                                                                             | 220/807 [04:34<12:31,  1.28s/it]Clipping input data to the valid range for imshow with RGB data ([0..1] for floats or [0..255] for integers).\n",
      "description:  27%|█████████████████████████████                                                                             | 221/807 [04:35<13:34,  1.39s/it]Clipping input data to the valid range for imshow with RGB data ([0..1] for floats or [0..255] for integers).\n",
      "description:  28%|█████████████████████████████▏                                                                            | 222/807 [04:36<13:15,  1.36s/it]Clipping input data to the valid range for imshow with RGB data ([0..1] for floats or [0..255] for integers).\n",
      "description:  28%|█████████████████████████████▎                                                                            | 223/807 [04:38<12:55,  1.33s/it]Clipping input data to the valid range for imshow with RGB data ([0..1] for floats or [0..255] for integers).\n",
      "description:  28%|█████████████████████████████▍                                                                            | 224/807 [04:39<12:46,  1.32s/it]Clipping input data to the valid range for imshow with RGB data ([0..1] for floats or [0..255] for integers).\n",
      "description:  28%|█████████████████████████████▌                                                                            | 225/807 [04:40<12:06,  1.25s/it]Clipping input data to the valid range for imshow with RGB data ([0..1] for floats or [0..255] for integers).\n",
      "description:  28%|█████████████████████████████▋                                                                            | 226/807 [04:41<12:14,  1.26s/it]Clipping input data to the valid range for imshow with RGB data ([0..1] for floats or [0..255] for integers).\n",
      "description:  28%|█████████████████████████████▊                                                                            | 227/807 [04:43<12:12,  1.26s/it]Clipping input data to the valid range for imshow with RGB data ([0..1] for floats or [0..255] for integers).\n",
      "description:  28%|█████████████████████████████▉                                                                            | 228/807 [04:44<12:04,  1.25s/it]Clipping input data to the valid range for imshow with RGB data ([0..1] for floats or [0..255] for integers).\n",
      "description:  28%|██████████████████████████████                                                                            | 229/807 [04:45<11:48,  1.23s/it]Clipping input data to the valid range for imshow with RGB data ([0..1] for floats or [0..255] for integers).\n",
      "description:  29%|██████████████████████████████▏                                                                           | 230/807 [04:46<11:56,  1.24s/it]Clipping input data to the valid range for imshow with RGB data ([0..1] for floats or [0..255] for integers).\n",
      "description:  29%|██████████████████████████████▎                                                                           | 231/807 [04:48<11:53,  1.24s/it]Clipping input data to the valid range for imshow with RGB data ([0..1] for floats or [0..255] for integers).\n",
      "description:  29%|██████████████████████████████▍                                                                           | 232/807 [04:49<12:11,  1.27s/it]Clipping input data to the valid range for imshow with RGB data ([0..1] for floats or [0..255] for integers).\n",
      "description:  29%|██████████████████████████████▌                                                                           | 233/807 [04:50<12:22,  1.29s/it]Clipping input data to the valid range for imshow with RGB data ([0..1] for floats or [0..255] for integers).\n",
      "description:  29%|██████████████████████████████▋                                                                           | 234/807 [04:52<13:12,  1.38s/it]Clipping input data to the valid range for imshow with RGB data ([0..1] for floats or [0..255] for integers).\n",
      "description:  29%|██████████████████████████████▊                                                                           | 235/807 [04:53<12:38,  1.33s/it]Clipping input data to the valid range for imshow with RGB data ([0..1] for floats or [0..255] for integers).\n",
      "description:  29%|██████████████████████████████▉                                                                           | 236/807 [04:54<12:22,  1.30s/it]Clipping input data to the valid range for imshow with RGB data ([0..1] for floats or [0..255] for integers).\n",
      "description:  29%|███████████████████████████████▏                                                                          | 237/807 [04:56<12:11,  1.28s/it]Clipping input data to the valid range for imshow with RGB data ([0..1] for floats or [0..255] for integers).\n",
      "description:  29%|███████████████████████████████▎                                                                          | 238/807 [04:57<12:15,  1.29s/it]Clipping input data to the valid range for imshow with RGB data ([0..1] for floats or [0..255] for integers).\n",
      "description:  30%|███████████████████████████████▍                                                                          | 239/807 [04:58<12:19,  1.30s/it]Clipping input data to the valid range for imshow with RGB data ([0..1] for floats or [0..255] for integers).\n",
      "description:  30%|███████████████████████████████▌                                                                          | 240/807 [04:59<11:56,  1.26s/it]Clipping input data to the valid range for imshow with RGB data ([0..1] for floats or [0..255] for integers).\n",
      "description:  30%|███████████████████████████████▋                                                                          | 241/807 [05:00<11:36,  1.23s/it]Clipping input data to the valid range for imshow with RGB data ([0..1] for floats or [0..255] for integers).\n",
      "description:  30%|███████████████████████████████▊                                                                          | 242/807 [05:02<11:45,  1.25s/it]Clipping input data to the valid range for imshow with RGB data ([0..1] for floats or [0..255] for integers).\n",
      "description:  30%|███████████████████████████████▉                                                                          | 243/807 [05:03<11:50,  1.26s/it]Clipping input data to the valid range for imshow with RGB data ([0..1] for floats or [0..255] for integers).\n",
      "description:  30%|████████████████████████████████                                                                          | 244/807 [05:04<11:45,  1.25s/it]Clipping input data to the valid range for imshow with RGB data ([0..1] for floats or [0..255] for integers).\n",
      "description:  30%|████████████████████████████████▏                                                                         | 245/807 [05:06<11:39,  1.24s/it]Clipping input data to the valid range for imshow with RGB data ([0..1] for floats or [0..255] for integers).\n",
      "description:  30%|████████████████████████████████▎                                                                         | 246/807 [05:07<11:54,  1.27s/it]Clipping input data to the valid range for imshow with RGB data ([0..1] for floats or [0..255] for integers).\n",
      "description:  31%|████████████████████████████████▍                                                                         | 247/807 [05:09<12:54,  1.38s/it]Clipping input data to the valid range for imshow with RGB data ([0..1] for floats or [0..255] for integers).\n",
      "description:  31%|████████████████████████████████▌                                                                         | 248/807 [05:10<12:52,  1.38s/it]Clipping input data to the valid range for imshow with RGB data ([0..1] for floats or [0..255] for integers).\n",
      "description:  31%|████████████████████████████████▋                                                                         | 249/807 [05:11<12:15,  1.32s/it]Clipping input data to the valid range for imshow with RGB data ([0..1] for floats or [0..255] for integers).\n",
      "description:  31%|████████████████████████████████▊                                                                         | 250/807 [05:13<12:43,  1.37s/it]Clipping input data to the valid range for imshow with RGB data ([0..1] for floats or [0..255] for integers).\n",
      "description:  31%|████████████████████████████████▉                                                                         | 251/807 [05:14<12:04,  1.30s/it]Clipping input data to the valid range for imshow with RGB data ([0..1] for floats or [0..255] for integers).\n",
      "description:  31%|█████████████████████████████████                                                                         | 252/807 [05:15<11:49,  1.28s/it]Clipping input data to the valid range for imshow with RGB data ([0..1] for floats or [0..255] for integers).\n",
      "description:  31%|█████████████████████████████████▏                                                                        | 253/807 [05:16<11:20,  1.23s/it]Clipping input data to the valid range for imshow with RGB data ([0..1] for floats or [0..255] for integers).\n",
      "description:  31%|█████████████████████████████████▎                                                                        | 254/807 [05:17<10:53,  1.18s/it]Clipping input data to the valid range for imshow with RGB data ([0..1] for floats or [0..255] for integers).\n",
      "description:  32%|█████████████████████████████████▍                                                                        | 255/807 [05:18<10:44,  1.17s/it]Clipping input data to the valid range for imshow with RGB data ([0..1] for floats or [0..255] for integers).\n",
      "description:  32%|█████████████████████████████████▋                                                                        | 256/807 [05:19<10:40,  1.16s/it]Clipping input data to the valid range for imshow with RGB data ([0..1] for floats or [0..255] for integers).\n",
      "description:  32%|█████████████████████████████████▊                                                                        | 257/807 [05:20<10:18,  1.12s/it]Clipping input data to the valid range for imshow with RGB data ([0..1] for floats or [0..255] for integers).\n",
      "description:  32%|█████████████████████████████████▉                                                                        | 258/807 [05:21<10:03,  1.10s/it]Clipping input data to the valid range for imshow with RGB data ([0..1] for floats or [0..255] for integers).\n",
      "description:  32%|██████████████████████████████████                                                                        | 259/807 [05:23<09:57,  1.09s/it]Clipping input data to the valid range for imshow with RGB data ([0..1] for floats or [0..255] for integers).\n",
      "description:  32%|██████████████████████████████████▏                                                                       | 260/807 [05:24<10:59,  1.21s/it]Clipping input data to the valid range for imshow with RGB data ([0..1] for floats or [0..255] for integers).\n",
      "description:  32%|██████████████████████████████████▎                                                                       | 261/807 [05:25<11:03,  1.21s/it]Clipping input data to the valid range for imshow with RGB data ([0..1] for floats or [0..255] for integers).\n",
      "description:  32%|██████████████████████████████████▍                                                                       | 262/807 [05:26<11:07,  1.22s/it]Clipping input data to the valid range for imshow with RGB data ([0..1] for floats or [0..255] for integers).\n",
      "description:  33%|██████████████████████████████████▌                                                                       | 263/807 [05:28<10:37,  1.17s/it]Clipping input data to the valid range for imshow with RGB data ([0..1] for floats or [0..255] for integers).\n",
      "description:  33%|██████████████████████████████████▋                                                                       | 264/807 [05:29<10:17,  1.14s/it]Clipping input data to the valid range for imshow with RGB data ([0..1] for floats or [0..255] for integers).\n",
      "description:  33%|██████████████████████████████████▊                                                                       | 265/807 [05:30<10:04,  1.12s/it]Clipping input data to the valid range for imshow with RGB data ([0..1] for floats or [0..255] for integers).\n",
      "description:  33%|██████████████████████████████████▉                                                                       | 266/807 [05:31<09:54,  1.10s/it]Clipping input data to the valid range for imshow with RGB data ([0..1] for floats or [0..255] for integers).\n",
      "description:  33%|███████████████████████████████████                                                                       | 267/807 [05:32<09:37,  1.07s/it]Clipping input data to the valid range for imshow with RGB data ([0..1] for floats or [0..255] for integers).\n",
      "description:  33%|███████████████████████████████████▏                                                                      | 268/807 [05:33<09:43,  1.08s/it]Clipping input data to the valid range for imshow with RGB data ([0..1] for floats or [0..255] for integers).\n",
      "description:  33%|███████████████████████████████████▎                                                                      | 269/807 [05:34<09:44,  1.09s/it]Clipping input data to the valid range for imshow with RGB data ([0..1] for floats or [0..255] for integers).\n",
      "description:  33%|███████████████████████████████████▍                                                                      | 270/807 [05:35<09:31,  1.06s/it]Clipping input data to the valid range for imshow with RGB data ([0..1] for floats or [0..255] for integers).\n",
      "description:  34%|███████████████████████████████████▌                                                                      | 271/807 [05:36<09:32,  1.07s/it]Clipping input data to the valid range for imshow with RGB data ([0..1] for floats or [0..255] for integers).\n",
      "description:  34%|███████████████████████████████████▋                                                                      | 272/807 [05:37<09:44,  1.09s/it]Clipping input data to the valid range for imshow with RGB data ([0..1] for floats or [0..255] for integers).\n",
      "description:  34%|███████████████████████████████████▊                                                                      | 273/807 [05:39<10:48,  1.21s/it]Clipping input data to the valid range for imshow with RGB data ([0..1] for floats or [0..255] for integers).\n",
      "description:  34%|███████████████████████████████████▉                                                                      | 274/807 [05:40<11:16,  1.27s/it]Clipping input data to the valid range for imshow with RGB data ([0..1] for floats or [0..255] for integers).\n",
      "description:  34%|████████████████████████████████████                                                                      | 275/807 [05:41<10:44,  1.21s/it]Clipping input data to the valid range for imshow with RGB data ([0..1] for floats or [0..255] for integers).\n",
      "description:  34%|████████████████████████████████████▎                                                                     | 276/807 [05:43<11:08,  1.26s/it]Clipping input data to the valid range for imshow with RGB data ([0..1] for floats or [0..255] for integers).\n",
      "description:  34%|████████████████████████████████████▍                                                                     | 277/807 [05:44<11:22,  1.29s/it]Clipping input data to the valid range for imshow with RGB data ([0..1] for floats or [0..255] for integers).\n",
      "description:  34%|████████████████████████████████████▌                                                                     | 278/807 [05:45<10:55,  1.24s/it]Clipping input data to the valid range for imshow with RGB data ([0..1] for floats or [0..255] for integers).\n",
      "description:  35%|████████████████████████████████████▋                                                                     | 279/807 [05:46<10:39,  1.21s/it]Clipping input data to the valid range for imshow with RGB data ([0..1] for floats or [0..255] for integers).\n",
      "description:  35%|████████████████████████████████████▊                                                                     | 280/807 [05:47<10:40,  1.22s/it]Clipping input data to the valid range for imshow with RGB data ([0..1] for floats or [0..255] for integers).\n",
      "description:  35%|████████████████████████████████████▉                                                                     | 281/807 [05:49<10:43,  1.22s/it]Clipping input data to the valid range for imshow with RGB data ([0..1] for floats or [0..255] for integers).\n",
      "description:  35%|█████████████████████████████████████                                                                     | 282/807 [05:50<10:20,  1.18s/it]Clipping input data to the valid range for imshow with RGB data ([0..1] for floats or [0..255] for integers).\n",
      "description:  35%|█████████████████████████████████████▏                                                                    | 283/807 [05:51<10:10,  1.16s/it]Clipping input data to the valid range for imshow with RGB data ([0..1] for floats or [0..255] for integers).\n",
      "description:  35%|█████████████████████████████████████▎                                                                    | 284/807 [05:52<10:13,  1.17s/it]Clipping input data to the valid range for imshow with RGB data ([0..1] for floats or [0..255] for integers).\n",
      "description:  35%|█████████████████████████████████████▍                                                                    | 285/807 [05:53<10:09,  1.17s/it]Clipping input data to the valid range for imshow with RGB data ([0..1] for floats or [0..255] for integers).\n",
      "description:  35%|█████████████████████████████████████▌                                                                    | 286/807 [05:55<11:33,  1.33s/it]Clipping input data to the valid range for imshow with RGB data ([0..1] for floats or [0..255] for integers).\n",
      "description:  36%|█████████████████████████████████████▋                                                                    | 287/807 [05:56<11:34,  1.34s/it]Clipping input data to the valid range for imshow with RGB data ([0..1] for floats or [0..255] for integers).\n",
      "description:  36%|█████████████████████████████████████▊                                                                    | 288/807 [05:57<11:17,  1.30s/it]Clipping input data to the valid range for imshow with RGB data ([0..1] for floats or [0..255] for integers).\n",
      "description:  36%|█████████████████████████████████████▉                                                                    | 289/807 [05:59<10:55,  1.26s/it]Clipping input data to the valid range for imshow with RGB data ([0..1] for floats or [0..255] for integers).\n",
      "description:  36%|██████████████████████████████████████                                                                    | 290/807 [06:00<10:53,  1.26s/it]Clipping input data to the valid range for imshow with RGB data ([0..1] for floats or [0..255] for integers).\n",
      "description:  36%|██████████████████████████████████████▏                                                                   | 291/807 [06:01<10:34,  1.23s/it]Clipping input data to the valid range for imshow with RGB data ([0..1] for floats or [0..255] for integers).\n",
      "description:  36%|██████████████████████████████████████▎                                                                   | 292/807 [06:02<10:40,  1.24s/it]Clipping input data to the valid range for imshow with RGB data ([0..1] for floats or [0..255] for integers).\n",
      "description:  36%|██████████████████████████████████████▍                                                                   | 293/807 [06:03<10:30,  1.23s/it]Clipping input data to the valid range for imshow with RGB data ([0..1] for floats or [0..255] for integers).\n",
      "description:  36%|██████████████████████████████████████▌                                                                   | 294/807 [06:05<10:38,  1.25s/it]Clipping input data to the valid range for imshow with RGB data ([0..1] for floats or [0..255] for integers).\n",
      "description:  37%|██████████████████████████████████████▋                                                                   | 295/807 [06:06<10:24,  1.22s/it]Clipping input data to the valid range for imshow with RGB data ([0..1] for floats or [0..255] for integers).\n",
      "description:  37%|██████████████████████████████████████▉                                                                   | 296/807 [06:07<10:15,  1.20s/it]Clipping input data to the valid range for imshow with RGB data ([0..1] for floats or [0..255] for integers).\n",
      "description:  37%|███████████████████████████████████████                                                                   | 297/807 [06:08<10:05,  1.19s/it]Clipping input data to the valid range for imshow with RGB data ([0..1] for floats or [0..255] for integers).\n",
      "description:  37%|███████████████████████████████████████▏                                                                  | 298/807 [06:09<10:07,  1.19s/it]Clipping input data to the valid range for imshow with RGB data ([0..1] for floats or [0..255] for integers).\n",
      "description:  37%|███████████████████████████████████████▎                                                                  | 299/807 [06:11<11:27,  1.35s/it]Clipping input data to the valid range for imshow with RGB data ([0..1] for floats or [0..255] for integers).\n",
      "description:  37%|███████████████████████████████████████▍                                                                  | 300/807 [06:13<11:45,  1.39s/it]Clipping input data to the valid range for imshow with RGB data ([0..1] for floats or [0..255] for integers).\n",
      "description:  37%|███████████████████████████████████████▌                                                                  | 301/807 [06:14<11:04,  1.31s/it]Clipping input data to the valid range for imshow with RGB data ([0..1] for floats or [0..255] for integers).\n",
      "description:  37%|███████████████████████████████████████▋                                                                  | 302/807 [06:15<10:51,  1.29s/it]Clipping input data to the valid range for imshow with RGB data ([0..1] for floats or [0..255] for integers).\n",
      "description:  38%|███████████████████████████████████████▊                                                                  | 303/807 [06:16<10:29,  1.25s/it]Clipping input data to the valid range for imshow with RGB data ([0..1] for floats or [0..255] for integers).\n",
      "description:  38%|███████████████████████████████████████▉                                                                  | 304/807 [06:17<10:36,  1.27s/it]Clipping input data to the valid range for imshow with RGB data ([0..1] for floats or [0..255] for integers).\n",
      "description:  38%|████████████████████████████████████████                                                                  | 305/807 [06:19<10:38,  1.27s/it]Clipping input data to the valid range for imshow with RGB data ([0..1] for floats or [0..255] for integers).\n",
      "description:  38%|████████████████████████████████████████▏                                                                 | 306/807 [06:20<10:15,  1.23s/it]Clipping input data to the valid range for imshow with RGB data ([0..1] for floats or [0..255] for integers).\n",
      "description:  38%|████████████████████████████████████████▎                                                                 | 307/807 [06:21<10:22,  1.24s/it]Clipping input data to the valid range for imshow with RGB data ([0..1] for floats or [0..255] for integers).\n",
      "description:  38%|████████████████████████████████████████▍                                                                 | 308/807 [06:22<10:13,  1.23s/it]Clipping input data to the valid range for imshow with RGB data ([0..1] for floats or [0..255] for integers).\n",
      "description:  38%|████████████████████████████████████████▌                                                                 | 309/807 [06:24<10:00,  1.21s/it]Clipping input data to the valid range for imshow with RGB data ([0..1] for floats or [0..255] for integers).\n",
      "description:  38%|████████████████████████████████████████▋                                                                 | 310/807 [06:25<10:09,  1.23s/it]Clipping input data to the valid range for imshow with RGB data ([0..1] for floats or [0..255] for integers).\n",
      "description:  39%|████████████████████████████████████████▊                                                                 | 311/807 [06:26<10:09,  1.23s/it]Clipping input data to the valid range for imshow with RGB data ([0..1] for floats or [0..255] for integers).\n",
      "description:  39%|████████████████████████████████████████▉                                                                 | 312/807 [06:28<11:37,  1.41s/it]Clipping input data to the valid range for imshow with RGB data ([0..1] for floats or [0..255] for integers).\n",
      "description:  39%|█████████████████████████████████████████                                                                 | 313/807 [06:29<10:55,  1.33s/it]Clipping input data to the valid range for imshow with RGB data ([0..1] for floats or [0..255] for integers).\n",
      "description:  39%|█████████████████████████████████████████▏                                                                | 314/807 [06:30<10:43,  1.30s/it]Clipping input data to the valid range for imshow with RGB data ([0..1] for floats or [0..255] for integers).\n",
      "description:  39%|█████████████████████████████████████████▍                                                                | 315/807 [06:32<10:31,  1.28s/it]Clipping input data to the valid range for imshow with RGB data ([0..1] for floats or [0..255] for integers).\n",
      "description:  39%|█████████████████████████████████████████▌                                                                | 316/807 [06:33<10:42,  1.31s/it]Clipping input data to the valid range for imshow with RGB data ([0..1] for floats or [0..255] for integers).\n",
      "description:  39%|█████████████████████████████████████████▋                                                                | 317/807 [06:34<10:36,  1.30s/it]Clipping input data to the valid range for imshow with RGB data ([0..1] for floats or [0..255] for integers).\n",
      "description:  39%|█████████████████████████████████████████▊                                                                | 318/807 [06:35<10:40,  1.31s/it]Clipping input data to the valid range for imshow with RGB data ([0..1] for floats or [0..255] for integers).\n",
      "description:  40%|█████████████████████████████████████████▉                                                                | 319/807 [06:37<10:13,  1.26s/it]Clipping input data to the valid range for imshow with RGB data ([0..1] for floats or [0..255] for integers).\n",
      "description:  40%|██████████████████████████████████████████                                                                | 320/807 [06:38<10:04,  1.24s/it]Clipping input data to the valid range for imshow with RGB data ([0..1] for floats or [0..255] for integers).\n",
      "description:  40%|██████████████████████████████████████████▏                                                               | 321/807 [06:39<10:09,  1.25s/it]Clipping input data to the valid range for imshow with RGB data ([0..1] for floats or [0..255] for integers).\n",
      "description:  40%|██████████████████████████████████████████▎                                                               | 322/807 [06:40<10:27,  1.29s/it]Clipping input data to the valid range for imshow with RGB data ([0..1] for floats or [0..255] for integers).\n",
      "description:  40%|██████████████████████████████████████████▍                                                               | 323/807 [06:42<10:37,  1.32s/it]Clipping input data to the valid range for imshow with RGB data ([0..1] for floats or [0..255] for integers).\n",
      "description:  40%|██████████████████████████████████████████▌                                                               | 324/807 [06:43<10:14,  1.27s/it]Clipping input data to the valid range for imshow with RGB data ([0..1] for floats or [0..255] for integers).\n",
      "description:  40%|██████████████████████████████████████████▋                                                               | 325/807 [06:45<10:56,  1.36s/it]Clipping input data to the valid range for imshow with RGB data ([0..1] for floats or [0..255] for integers).\n",
      "description:  40%|██████████████████████████████████████████▊                                                               | 326/807 [06:46<10:08,  1.26s/it]Clipping input data to the valid range for imshow with RGB data ([0..1] for floats or [0..255] for integers).\n",
      "description:  41%|██████████████████████████████████████████▉                                                               | 327/807 [06:47<09:40,  1.21s/it]Clipping input data to the valid range for imshow with RGB data ([0..1] for floats or [0..255] for integers).\n",
      "description:  41%|███████████████████████████████████████████                                                               | 328/807 [06:48<10:04,  1.26s/it]Clipping input data to the valid range for imshow with RGB data ([0..1] for floats or [0..255] for integers).\n",
      "description:  41%|███████████████████████████████████████████▏                                                              | 329/807 [06:49<09:55,  1.25s/it]Clipping input data to the valid range for imshow with RGB data ([0..1] for floats or [0..255] for integers).\n",
      "description:  41%|███████████████████████████████████████████▎                                                              | 330/807 [06:50<09:38,  1.21s/it]Clipping input data to the valid range for imshow with RGB data ([0..1] for floats or [0..255] for integers).\n",
      "description:  41%|███████████████████████████████████████████▍                                                              | 331/807 [06:52<09:40,  1.22s/it]Clipping input data to the valid range for imshow with RGB data ([0..1] for floats or [0..255] for integers).\n",
      "description:  41%|███████████████████████████████████████████▌                                                              | 332/807 [06:53<09:42,  1.23s/it]Clipping input data to the valid range for imshow with RGB data ([0..1] for floats or [0..255] for integers).\n",
      "description:  41%|███████████████████████████████████████████▋                                                              | 333/807 [06:54<09:40,  1.22s/it]Clipping input data to the valid range for imshow with RGB data ([0..1] for floats or [0..255] for integers).\n",
      "description:  41%|███████████████████████████████████████████▊                                                              | 334/807 [06:55<09:50,  1.25s/it]Clipping input data to the valid range for imshow with RGB data ([0..1] for floats or [0..255] for integers).\n",
      "description:  42%|████████████████████████████████████████████                                                              | 335/807 [06:57<09:40,  1.23s/it]Clipping input data to the valid range for imshow with RGB data ([0..1] for floats or [0..255] for integers).\n",
      "description:  42%|████████████████████████████████████████████▏                                                             | 336/807 [06:58<09:55,  1.26s/it]Clipping input data to the valid range for imshow with RGB data ([0..1] for floats or [0..255] for integers).\n",
      "description:  42%|████████████████████████████████████████████▎                                                             | 337/807 [06:59<09:25,  1.20s/it]Clipping input data to the valid range for imshow with RGB data ([0..1] for floats or [0..255] for integers).\n",
      "description:  42%|████████████████████████████████████████████▍                                                             | 338/807 [07:01<10:13,  1.31s/it]Clipping input data to the valid range for imshow with RGB data ([0..1] for floats or [0..255] for integers).\n",
      "description:  42%|████████████████████████████████████████████▌                                                             | 339/807 [07:02<09:58,  1.28s/it]Clipping input data to the valid range for imshow with RGB data ([0..1] for floats or [0..255] for integers).\n",
      "description:  42%|████████████████████████████████████████████▋                                                             | 340/807 [07:03<10:13,  1.31s/it]Clipping input data to the valid range for imshow with RGB data ([0..1] for floats or [0..255] for integers).\n",
      "description:  42%|████████████████████████████████████████████▊                                                             | 341/807 [07:04<09:48,  1.26s/it]Clipping input data to the valid range for imshow with RGB data ([0..1] for floats or [0..255] for integers).\n",
      "description:  42%|████████████████████████████████████████████▉                                                             | 342/807 [07:05<09:24,  1.21s/it]Clipping input data to the valid range for imshow with RGB data ([0..1] for floats or [0..255] for integers).\n",
      "description:  43%|█████████████████████████████████████████████                                                             | 343/807 [07:07<09:24,  1.22s/it]Clipping input data to the valid range for imshow with RGB data ([0..1] for floats or [0..255] for integers).\n",
      "description:  43%|█████████████████████████████████████████████▏                                                            | 344/807 [07:08<09:16,  1.20s/it]Clipping input data to the valid range for imshow with RGB data ([0..1] for floats or [0..255] for integers).\n",
      "description:  43%|█████████████████████████████████████████████▎                                                            | 345/807 [07:09<09:23,  1.22s/it]Clipping input data to the valid range for imshow with RGB data ([0..1] for floats or [0..255] for integers).\n",
      "description:  43%|█████████████████████████████████████████████▍                                                            | 346/807 [07:10<09:33,  1.24s/it]Clipping input data to the valid range for imshow with RGB data ([0..1] for floats or [0..255] for integers).\n",
      "description:  43%|█████████████████████████████████████████████▌                                                            | 347/807 [07:12<09:34,  1.25s/it]Clipping input data to the valid range for imshow with RGB data ([0..1] for floats or [0..255] for integers).\n",
      "description:  43%|█████████████████████████████████████████████▋                                                            | 348/807 [07:13<10:07,  1.32s/it]Clipping input data to the valid range for imshow with RGB data ([0..1] for floats or [0..255] for integers).\n",
      "description:  43%|█████████████████████████████████████████████▊                                                            | 349/807 [07:14<09:43,  1.27s/it]Clipping input data to the valid range for imshow with RGB data ([0..1] for floats or [0..255] for integers).\n",
      "description:  43%|█████████████████████████████████████████████▉                                                            | 350/807 [07:16<09:35,  1.26s/it]Clipping input data to the valid range for imshow with RGB data ([0..1] for floats or [0..255] for integers).\n",
      "description:  43%|██████████████████████████████████████████████                                                            | 351/807 [07:17<10:32,  1.39s/it]Clipping input data to the valid range for imshow with RGB data ([0..1] for floats or [0..255] for integers).\n",
      "description:  44%|██████████████████████████████████████████████▏                                                           | 352/807 [07:19<10:35,  1.40s/it]Clipping input data to the valid range for imshow with RGB data ([0..1] for floats or [0..255] for integers).\n",
      "description:  44%|██████████████████████████████████████████████▎                                                           | 353/807 [07:20<10:01,  1.32s/it]Clipping input data to the valid range for imshow with RGB data ([0..1] for floats or [0..255] for integers).\n",
      "description:  44%|██████████████████████████████████████████████▍                                                           | 354/807 [07:21<09:55,  1.31s/it]Clipping input data to the valid range for imshow with RGB data ([0..1] for floats or [0..255] for integers).\n",
      "description:  44%|██████████████████████████████████████████████▋                                                           | 355/807 [07:22<09:50,  1.31s/it]Clipping input data to the valid range for imshow with RGB data ([0..1] for floats or [0..255] for integers).\n",
      "description:  44%|██████████████████████████████████████████████▊                                                           | 356/807 [07:24<09:39,  1.29s/it]Clipping input data to the valid range for imshow with RGB data ([0..1] for floats or [0..255] for integers).\n",
      "description:  44%|██████████████████████████████████████████████▉                                                           | 357/807 [07:25<09:28,  1.26s/it]Clipping input data to the valid range for imshow with RGB data ([0..1] for floats or [0..255] for integers).\n",
      "description:  44%|███████████████████████████████████████████████                                                           | 358/807 [07:26<09:38,  1.29s/it]Clipping input data to the valid range for imshow with RGB data ([0..1] for floats or [0..255] for integers).\n",
      "description:  44%|███████████████████████████████████████████████▏                                                          | 359/807 [07:27<09:30,  1.27s/it]Clipping input data to the valid range for imshow with RGB data ([0..1] for floats or [0..255] for integers).\n",
      "description:  45%|███████████████████████████████████████████████▎                                                          | 360/807 [07:29<09:07,  1.23s/it]Clipping input data to the valid range for imshow with RGB data ([0..1] for floats or [0..255] for integers).\n",
      "description:  45%|███████████████████████████████████████████████▍                                                          | 361/807 [07:30<09:01,  1.22s/it]Clipping input data to the valid range for imshow with RGB data ([0..1] for floats or [0..255] for integers).\n",
      "description:  45%|███████████████████████████████████████████████▌                                                          | 362/807 [07:31<09:07,  1.23s/it]Clipping input data to the valid range for imshow with RGB data ([0..1] for floats or [0..255] for integers).\n",
      "description:  45%|███████████████████████████████████████████████▋                                                          | 363/807 [07:32<09:18,  1.26s/it]Clipping input data to the valid range for imshow with RGB data ([0..1] for floats or [0..255] for integers).\n",
      "description:  45%|███████████████████████████████████████████████▊                                                          | 364/807 [07:34<09:18,  1.26s/it]Clipping input data to the valid range for imshow with RGB data ([0..1] for floats or [0..255] for integers).\n",
      "description:  45%|███████████████████████████████████████████████▉                                                          | 365/807 [07:35<09:46,  1.33s/it]Clipping input data to the valid range for imshow with RGB data ([0..1] for floats or [0..255] for integers).\n",
      "description:  45%|████████████████████████████████████████████████                                                          | 366/807 [07:36<09:51,  1.34s/it]Clipping input data to the valid range for imshow with RGB data ([0..1] for floats or [0..255] for integers).\n",
      "description:  45%|████████████████████████████████████████████████▏                                                         | 367/807 [07:38<09:31,  1.30s/it]Clipping input data to the valid range for imshow with RGB data ([0..1] for floats or [0..255] for integers).\n",
      "description:  46%|████████████████████████████████████████████████▎                                                         | 368/807 [07:39<09:16,  1.27s/it]Clipping input data to the valid range for imshow with RGB data ([0..1] for floats or [0..255] for integers).\n",
      "description:  46%|████████████████████████████████████████████████▍                                                         | 369/807 [07:40<09:07,  1.25s/it]Clipping input data to the valid range for imshow with RGB data ([0..1] for floats or [0..255] for integers).\n",
      "description:  46%|████████████████████████████████████████████████▌                                                         | 370/807 [07:41<09:06,  1.25s/it]Clipping input data to the valid range for imshow with RGB data ([0..1] for floats or [0..255] for integers).\n",
      "description:  46%|████████████████████████████████████████████████▋                                                         | 371/807 [07:42<08:57,  1.23s/it]Clipping input data to the valid range for imshow with RGB data ([0..1] for floats or [0..255] for integers).\n",
      "description:  46%|████████████████████████████████████████████████▊                                                         | 372/807 [07:44<08:55,  1.23s/it]Clipping input data to the valid range for imshow with RGB data ([0..1] for floats or [0..255] for integers).\n",
      "description:  46%|████████████████████████████████████████████████▉                                                         | 373/807 [07:45<09:12,  1.27s/it]Clipping input data to the valid range for imshow with RGB data ([0..1] for floats or [0..255] for integers).\n",
      "description:  46%|█████████████████████████████████████████████████▏                                                        | 374/807 [07:46<08:44,  1.21s/it]Clipping input data to the valid range for imshow with RGB data ([0..1] for floats or [0..255] for integers).\n",
      "description:  46%|█████████████████████████████████████████████████▎                                                        | 375/807 [07:47<08:48,  1.22s/it]Clipping input data to the valid range for imshow with RGB data ([0..1] for floats or [0..255] for integers).\n",
      "description:  47%|█████████████████████████████████████████████████▍                                                        | 376/807 [07:48<08:32,  1.19s/it]Clipping input data to the valid range for imshow with RGB data ([0..1] for floats or [0..255] for integers).\n",
      "description:  47%|█████████████████████████████████████████████████▌                                                        | 377/807 [07:50<08:39,  1.21s/it]Clipping input data to the valid range for imshow with RGB data ([0..1] for floats or [0..255] for integers).\n",
      "description:  47%|█████████████████████████████████████████████████▋                                                        | 378/807 [07:52<09:50,  1.38s/it]Clipping input data to the valid range for imshow with RGB data ([0..1] for floats or [0..255] for integers).\n",
      "description:  47%|█████████████████████████████████████████████████▊                                                        | 379/807 [07:53<09:46,  1.37s/it]Clipping input data to the valid range for imshow with RGB data ([0..1] for floats or [0..255] for integers).\n",
      "description:  47%|█████████████████████████████████████████████████▉                                                        | 380/807 [07:54<09:34,  1.35s/it]Clipping input data to the valid range for imshow with RGB data ([0..1] for floats or [0..255] for integers).\n",
      "description:  47%|██████████████████████████████████████████████████                                                        | 381/807 [07:55<09:15,  1.30s/it]Clipping input data to the valid range for imshow with RGB data ([0..1] for floats or [0..255] for integers).\n",
      "description:  47%|██████████████████████████████████████████████████▏                                                       | 382/807 [07:57<08:58,  1.27s/it]Clipping input data to the valid range for imshow with RGB data ([0..1] for floats or [0..255] for integers).\n",
      "description:  47%|██████████████████████████████████████████████████▎                                                       | 383/807 [07:58<08:49,  1.25s/it]Clipping input data to the valid range for imshow with RGB data ([0..1] for floats or [0..255] for integers).\n",
      "description:  48%|██████████████████████████████████████████████████▍                                                       | 384/807 [07:59<08:41,  1.23s/it]Clipping input data to the valid range for imshow with RGB data ([0..1] for floats or [0..255] for integers).\n",
      "description:  48%|██████████████████████████████████████████████████▌                                                       | 385/807 [08:00<08:38,  1.23s/it]Clipping input data to the valid range for imshow with RGB data ([0..1] for floats or [0..255] for integers).\n",
      "description:  48%|██████████████████████████████████████████████████▋                                                       | 386/807 [08:01<08:30,  1.21s/it]Clipping input data to the valid range for imshow with RGB data ([0..1] for floats or [0..255] for integers).\n",
      "description:  48%|██████████████████████████████████████████████████▊                                                       | 387/807 [08:03<08:24,  1.20s/it]Clipping input data to the valid range for imshow with RGB data ([0..1] for floats or [0..255] for integers).\n",
      "description:  48%|██████████████████████████████████████████████████▉                                                       | 388/807 [08:04<08:36,  1.23s/it]Clipping input data to the valid range for imshow with RGB data ([0..1] for floats or [0..255] for integers).\n",
      "description:  48%|███████████████████████████████████████████████████                                                       | 389/807 [08:05<08:42,  1.25s/it]Clipping input data to the valid range for imshow with RGB data ([0..1] for floats or [0..255] for integers).\n",
      "description:  48%|███████████████████████████████████████████████████▏                                                      | 390/807 [08:06<08:19,  1.20s/it]Clipping input data to the valid range for imshow with RGB data ([0..1] for floats or [0..255] for integers).\n",
      "description:  48%|███████████████████████████████████████████████████▎                                                      | 391/807 [08:08<09:04,  1.31s/it]Clipping input data to the valid range for imshow with RGB data ([0..1] for floats or [0..255] for integers).\n",
      "description:  49%|███████████████████████████████████████████████████▍                                                      | 392/807 [08:09<08:55,  1.29s/it]Clipping input data to the valid range for imshow with RGB data ([0..1] for floats or [0..255] for integers).\n",
      "description:  49%|███████████████████████████████████████████████████▌                                                      | 393/807 [08:10<09:09,  1.33s/it]Clipping input data to the valid range for imshow with RGB data ([0..1] for floats or [0..255] for integers).\n",
      "description:  49%|███████████████████████████████████████████████████▊                                                      | 394/807 [08:12<08:55,  1.30s/it]Clipping input data to the valid range for imshow with RGB data ([0..1] for floats or [0..255] for integers).\n",
      "description:  49%|███████████████████████████████████████████████████▉                                                      | 395/807 [08:13<08:56,  1.30s/it]Clipping input data to the valid range for imshow with RGB data ([0..1] for floats or [0..255] for integers).\n",
      "description:  49%|████████████████████████████████████████████████████                                                      | 396/807 [08:14<08:43,  1.27s/it]Clipping input data to the valid range for imshow with RGB data ([0..1] for floats or [0..255] for integers).\n",
      "description:  49%|████████████████████████████████████████████████████▏                                                     | 397/807 [08:15<08:39,  1.27s/it]Clipping input data to the valid range for imshow with RGB data ([0..1] for floats or [0..255] for integers).\n",
      "description:  49%|████████████████████████████████████████████████████▎                                                     | 398/807 [08:17<08:34,  1.26s/it]Clipping input data to the valid range for imshow with RGB data ([0..1] for floats or [0..255] for integers).\n",
      "description:  49%|████████████████████████████████████████████████████▍                                                     | 399/807 [08:18<08:35,  1.26s/it]Clipping input data to the valid range for imshow with RGB data ([0..1] for floats or [0..255] for integers).\n",
      "description:  50%|████████████████████████████████████████████████████▌                                                     | 400/807 [08:19<08:32,  1.26s/it]Clipping input data to the valid range for imshow with RGB data ([0..1] for floats or [0..255] for integers).\n",
      "description:  50%|████████████████████████████████████████████████████▋                                                     | 401/807 [08:20<08:16,  1.22s/it]Clipping input data to the valid range for imshow with RGB data ([0..1] for floats or [0..255] for integers).\n",
      "description:  50%|████████████████████████████████████████████████████▊                                                     | 402/807 [08:22<08:15,  1.22s/it]Clipping input data to the valid range for imshow with RGB data ([0..1] for floats or [0..255] for integers).\n",
      "description:  50%|████████████████████████████████████████████████████▉                                                     | 403/807 [08:23<08:13,  1.22s/it]Clipping input data to the valid range for imshow with RGB data ([0..1] for floats or [0..255] for integers).\n",
      "description:  50%|█████████████████████████████████████████████████████                                                     | 404/807 [08:25<09:16,  1.38s/it]Clipping input data to the valid range for imshow with RGB data ([0..1] for floats or [0..255] for integers).\n",
      "description:  50%|█████████████████████████████████████████████████████▏                                                    | 405/807 [08:26<09:08,  1.36s/it]Clipping input data to the valid range for imshow with RGB data ([0..1] for floats or [0..255] for integers).\n",
      "description:  50%|█████████████████████████████████████████████████████▎                                                    | 406/807 [08:27<08:37,  1.29s/it]Clipping input data to the valid range for imshow with RGB data ([0..1] for floats or [0..255] for integers).\n",
      "description:  50%|█████████████████████████████████████████████████████▍                                                    | 407/807 [08:28<08:15,  1.24s/it]Clipping input data to the valid range for imshow with RGB data ([0..1] for floats or [0..255] for integers).\n",
      "description:  51%|█████████████████████████████████████████████████████▌                                                    | 408/807 [08:29<08:24,  1.27s/it]Clipping input data to the valid range for imshow with RGB data ([0..1] for floats or [0..255] for integers).\n",
      "description:  51%|█████████████████████████████████████████████████████▋                                                    | 409/807 [08:31<08:13,  1.24s/it]Clipping input data to the valid range for imshow with RGB data ([0..1] for floats or [0..255] for integers).\n",
      "description:  51%|█████████████████████████████████████████████████████▊                                                    | 410/807 [08:32<08:12,  1.24s/it]Clipping input data to the valid range for imshow with RGB data ([0..1] for floats or [0..255] for integers).\n",
      "description:  51%|█████████████████████████████████████████████████████▉                                                    | 411/807 [08:33<08:24,  1.28s/it]Clipping input data to the valid range for imshow with RGB data ([0..1] for floats or [0..255] for integers).\n",
      "description:  51%|██████████████████████████████████████████████████████                                                    | 412/807 [08:35<08:34,  1.30s/it]Clipping input data to the valid range for imshow with RGB data ([0..1] for floats or [0..255] for integers).\n",
      "description:  51%|██████████████████████████████████████████████████████▏                                                   | 413/807 [08:36<08:09,  1.24s/it]Clipping input data to the valid range for imshow with RGB data ([0..1] for floats or [0..255] for integers).\n",
      "description:  51%|██████████████████████████████████████████████████████▍                                                   | 414/807 [08:37<08:14,  1.26s/it]Clipping input data to the valid range for imshow with RGB data ([0..1] for floats or [0..255] for integers).\n",
      "description:  51%|██████████████████████████████████████████████████████▌                                                   | 415/807 [08:38<07:56,  1.22s/it]Clipping input data to the valid range for imshow with RGB data ([0..1] for floats or [0..255] for integers).\n",
      "description:  52%|██████████████████████████████████████████████████████▋                                                   | 416/807 [08:39<08:08,  1.25s/it]\n"
     ]
    },
    {
     "ename": "KeyboardInterrupt",
     "evalue": "",
     "output_type": "error",
     "traceback": [
      "\u001b[1;31m---------------------------------------------------------------------------\u001b[0m",
      "\u001b[1;31mKeyboardInterrupt\u001b[0m                         Traceback (most recent call last)",
      "Cell \u001b[1;32mIn[76], line 14\u001b[0m\n\u001b[0;32m     11\u001b[0m train_loader_pbar \u001b[38;5;241m=\u001b[39m tqdm(train_loader, desc \u001b[38;5;241m=\u001b[39m \u001b[38;5;124m'\u001b[39m\u001b[38;5;124mdescription\u001b[39m\u001b[38;5;124m'\u001b[39m)\n\u001b[0;32m     13\u001b[0m \u001b[38;5;66;03m#<---------------評価---------------------->\u001b[39;00m\n\u001b[1;32m---> 14\u001b[0m losses_value, score \u001b[38;5;241m=\u001b[39m \u001b[43mpre_segmentation_model\u001b[49m\u001b[38;5;241;43m.\u001b[39;49m\u001b[43mvalidateModel\u001b[49m\u001b[43m(\u001b[49m\u001b[43mmodel\u001b[49m\u001b[43m,\u001b[49m\u001b[43m \u001b[49m\u001b[43mtrain_loader_pbar\u001b[49m\u001b[43m,\u001b[49m\u001b[43m \u001b[49m\u001b[43mworkDir\u001b[49m\u001b[38;5;241;43m=\u001b[39;49m\u001b[43mworkDir\u001b[49m\u001b[43m,\u001b[49m\u001b[43mepoch\u001b[49m\u001b[38;5;241;43m=\u001b[39;49m\u001b[43mepoch\u001b[49m\u001b[43m,\u001b[49m\u001b[43mmeans\u001b[49m\u001b[38;5;241;43m=\u001b[39;49m\u001b[43mmean_values\u001b[49m\u001b[43m,\u001b[49m\u001b[43mstds\u001b[49m\u001b[38;5;241;43m=\u001b[39;49m\u001b[43mstd_deviation\u001b[49m\u001b[43m,\u001b[49m\u001b[43m \u001b[49m\u001b[43mmodelID\u001b[49m\u001b[38;5;241;43m=\u001b[39;49m\u001b[43mmodelID\u001b[49m\u001b[43m)\u001b[49m\n\u001b[0;32m     16\u001b[0m train_loss\u001b[38;5;241m.\u001b[39mappend(losses_value)\n\u001b[0;32m     17\u001b[0m train_score\u001b[38;5;241m.\u001b[39mappend(score)\n",
      "File \u001b[1;32mH:\\マイドライブ\\Forest\\src\\pre_segmentation_model.py:78\u001b[0m, in \u001b[0;36mvalidateModel\u001b[1;34m(model, dataloader, workDir, epoch, means, stds, modelID)\u001b[0m\n\u001b[0;32m     75\u001b[0m total_iou \u001b[38;5;241m=\u001b[39m \u001b[38;5;241m0\u001b[39m\n\u001b[0;32m     76\u001b[0m total_samples \u001b[38;5;241m=\u001b[39m \u001b[38;5;241m0\u001b[39m\n\u001b[1;32m---> 78\u001b[0m \u001b[38;5;28;01mfor\u001b[39;00m images, masks \u001b[38;5;129;01min\u001b[39;00m dataloader:\n\u001b[0;32m     79\u001b[0m     \u001b[38;5;28;01mif\u001b[39;00m torch\u001b[38;5;241m.\u001b[39mcuda\u001b[38;5;241m.\u001b[39mis_available():\n\u001b[0;32m     80\u001b[0m         images \u001b[38;5;241m=\u001b[39m torch\u001b[38;5;241m.\u001b[39mautograd\u001b[38;5;241m.\u001b[39mVariable(images)\u001b[38;5;241m.\u001b[39mcuda()\n",
      "File \u001b[1;32m~\\AppData\\Local\\Programs\\Python\\Python311\\Lib\\site-packages\\tqdm\\std.py:1178\u001b[0m, in \u001b[0;36mtqdm.__iter__\u001b[1;34m(self)\u001b[0m\n\u001b[0;32m   1175\u001b[0m time \u001b[38;5;241m=\u001b[39m \u001b[38;5;28mself\u001b[39m\u001b[38;5;241m.\u001b[39m_time\n\u001b[0;32m   1177\u001b[0m \u001b[38;5;28;01mtry\u001b[39;00m:\n\u001b[1;32m-> 1178\u001b[0m     \u001b[38;5;28;01mfor\u001b[39;00m obj \u001b[38;5;129;01min\u001b[39;00m iterable:\n\u001b[0;32m   1179\u001b[0m         \u001b[38;5;28;01myield\u001b[39;00m obj\n\u001b[0;32m   1180\u001b[0m         \u001b[38;5;66;03m# Update and possibly print the progressbar.\u001b[39;00m\n\u001b[0;32m   1181\u001b[0m         \u001b[38;5;66;03m# Note: does not call self.update(1) for speed optimisation.\u001b[39;00m\n",
      "File \u001b[1;32m~\\AppData\\Local\\Programs\\Python\\Python311\\Lib\\site-packages\\torch\\utils\\data\\dataloader.py:633\u001b[0m, in \u001b[0;36m_BaseDataLoaderIter.__next__\u001b[1;34m(self)\u001b[0m\n\u001b[0;32m    630\u001b[0m \u001b[38;5;28;01mif\u001b[39;00m \u001b[38;5;28mself\u001b[39m\u001b[38;5;241m.\u001b[39m_sampler_iter \u001b[38;5;129;01mis\u001b[39;00m \u001b[38;5;28;01mNone\u001b[39;00m:\n\u001b[0;32m    631\u001b[0m     \u001b[38;5;66;03m# TODO(https://github.com/pytorch/pytorch/issues/76750)\u001b[39;00m\n\u001b[0;32m    632\u001b[0m     \u001b[38;5;28mself\u001b[39m\u001b[38;5;241m.\u001b[39m_reset()  \u001b[38;5;66;03m# type: ignore[call-arg]\u001b[39;00m\n\u001b[1;32m--> 633\u001b[0m data \u001b[38;5;241m=\u001b[39m \u001b[38;5;28;43mself\u001b[39;49m\u001b[38;5;241;43m.\u001b[39;49m\u001b[43m_next_data\u001b[49m\u001b[43m(\u001b[49m\u001b[43m)\u001b[49m\n\u001b[0;32m    634\u001b[0m \u001b[38;5;28mself\u001b[39m\u001b[38;5;241m.\u001b[39m_num_yielded \u001b[38;5;241m+\u001b[39m\u001b[38;5;241m=\u001b[39m \u001b[38;5;241m1\u001b[39m\n\u001b[0;32m    635\u001b[0m \u001b[38;5;28;01mif\u001b[39;00m \u001b[38;5;28mself\u001b[39m\u001b[38;5;241m.\u001b[39m_dataset_kind \u001b[38;5;241m==\u001b[39m _DatasetKind\u001b[38;5;241m.\u001b[39mIterable \u001b[38;5;129;01mand\u001b[39;00m \\\n\u001b[0;32m    636\u001b[0m         \u001b[38;5;28mself\u001b[39m\u001b[38;5;241m.\u001b[39m_IterableDataset_len_called \u001b[38;5;129;01mis\u001b[39;00m \u001b[38;5;129;01mnot\u001b[39;00m \u001b[38;5;28;01mNone\u001b[39;00m \u001b[38;5;129;01mand\u001b[39;00m \\\n\u001b[0;32m    637\u001b[0m         \u001b[38;5;28mself\u001b[39m\u001b[38;5;241m.\u001b[39m_num_yielded \u001b[38;5;241m>\u001b[39m \u001b[38;5;28mself\u001b[39m\u001b[38;5;241m.\u001b[39m_IterableDataset_len_called:\n",
      "File \u001b[1;32m~\\AppData\\Local\\Programs\\Python\\Python311\\Lib\\site-packages\\torch\\utils\\data\\dataloader.py:677\u001b[0m, in \u001b[0;36m_SingleProcessDataLoaderIter._next_data\u001b[1;34m(self)\u001b[0m\n\u001b[0;32m    675\u001b[0m \u001b[38;5;28;01mdef\u001b[39;00m \u001b[38;5;21m_next_data\u001b[39m(\u001b[38;5;28mself\u001b[39m):\n\u001b[0;32m    676\u001b[0m     index \u001b[38;5;241m=\u001b[39m \u001b[38;5;28mself\u001b[39m\u001b[38;5;241m.\u001b[39m_next_index()  \u001b[38;5;66;03m# may raise StopIteration\u001b[39;00m\n\u001b[1;32m--> 677\u001b[0m     data \u001b[38;5;241m=\u001b[39m \u001b[38;5;28;43mself\u001b[39;49m\u001b[38;5;241;43m.\u001b[39;49m\u001b[43m_dataset_fetcher\u001b[49m\u001b[38;5;241;43m.\u001b[39;49m\u001b[43mfetch\u001b[49m\u001b[43m(\u001b[49m\u001b[43mindex\u001b[49m\u001b[43m)\u001b[49m  \u001b[38;5;66;03m# may raise StopIteration\u001b[39;00m\n\u001b[0;32m    678\u001b[0m     \u001b[38;5;28;01mif\u001b[39;00m \u001b[38;5;28mself\u001b[39m\u001b[38;5;241m.\u001b[39m_pin_memory:\n\u001b[0;32m    679\u001b[0m         data \u001b[38;5;241m=\u001b[39m _utils\u001b[38;5;241m.\u001b[39mpin_memory\u001b[38;5;241m.\u001b[39mpin_memory(data, \u001b[38;5;28mself\u001b[39m\u001b[38;5;241m.\u001b[39m_pin_memory_device)\n",
      "File \u001b[1;32m~\\AppData\\Local\\Programs\\Python\\Python311\\Lib\\site-packages\\torch\\utils\\data\\_utils\\fetch.py:51\u001b[0m, in \u001b[0;36m_MapDatasetFetcher.fetch\u001b[1;34m(self, possibly_batched_index)\u001b[0m\n\u001b[0;32m     49\u001b[0m         data \u001b[38;5;241m=\u001b[39m \u001b[38;5;28mself\u001b[39m\u001b[38;5;241m.\u001b[39mdataset\u001b[38;5;241m.\u001b[39m__getitems__(possibly_batched_index)\n\u001b[0;32m     50\u001b[0m     \u001b[38;5;28;01melse\u001b[39;00m:\n\u001b[1;32m---> 51\u001b[0m         data \u001b[38;5;241m=\u001b[39m \u001b[43m[\u001b[49m\u001b[38;5;28;43mself\u001b[39;49m\u001b[38;5;241;43m.\u001b[39;49m\u001b[43mdataset\u001b[49m\u001b[43m[\u001b[49m\u001b[43midx\u001b[49m\u001b[43m]\u001b[49m\u001b[43m \u001b[49m\u001b[38;5;28;43;01mfor\u001b[39;49;00m\u001b[43m \u001b[49m\u001b[43midx\u001b[49m\u001b[43m \u001b[49m\u001b[38;5;129;43;01min\u001b[39;49;00m\u001b[43m \u001b[49m\u001b[43mpossibly_batched_index\u001b[49m\u001b[43m]\u001b[49m\n\u001b[0;32m     52\u001b[0m \u001b[38;5;28;01melse\u001b[39;00m:\n\u001b[0;32m     53\u001b[0m     data \u001b[38;5;241m=\u001b[39m \u001b[38;5;28mself\u001b[39m\u001b[38;5;241m.\u001b[39mdataset[possibly_batched_index]\n",
      "File \u001b[1;32m~\\AppData\\Local\\Programs\\Python\\Python311\\Lib\\site-packages\\torch\\utils\\data\\_utils\\fetch.py:51\u001b[0m, in \u001b[0;36m<listcomp>\u001b[1;34m(.0)\u001b[0m\n\u001b[0;32m     49\u001b[0m         data \u001b[38;5;241m=\u001b[39m \u001b[38;5;28mself\u001b[39m\u001b[38;5;241m.\u001b[39mdataset\u001b[38;5;241m.\u001b[39m__getitems__(possibly_batched_index)\n\u001b[0;32m     50\u001b[0m     \u001b[38;5;28;01melse\u001b[39;00m:\n\u001b[1;32m---> 51\u001b[0m         data \u001b[38;5;241m=\u001b[39m [\u001b[38;5;28;43mself\u001b[39;49m\u001b[38;5;241;43m.\u001b[39;49m\u001b[43mdataset\u001b[49m\u001b[43m[\u001b[49m\u001b[43midx\u001b[49m\u001b[43m]\u001b[49m \u001b[38;5;28;01mfor\u001b[39;00m idx \u001b[38;5;129;01min\u001b[39;00m possibly_batched_index]\n\u001b[0;32m     52\u001b[0m \u001b[38;5;28;01melse\u001b[39;00m:\n\u001b[0;32m     53\u001b[0m     data \u001b[38;5;241m=\u001b[39m \u001b[38;5;28mself\u001b[39m\u001b[38;5;241m.\u001b[39mdataset[possibly_batched_index]\n",
      "File \u001b[1;32m~\\AppData\\Local\\Programs\\Python\\Python311\\Lib\\site-packages\\torch\\utils\\data\\dataset.py:298\u001b[0m, in \u001b[0;36mSubset.__getitem__\u001b[1;34m(self, idx)\u001b[0m\n\u001b[0;32m    296\u001b[0m \u001b[38;5;28;01mif\u001b[39;00m \u001b[38;5;28misinstance\u001b[39m(idx, \u001b[38;5;28mlist\u001b[39m):\n\u001b[0;32m    297\u001b[0m     \u001b[38;5;28;01mreturn\u001b[39;00m \u001b[38;5;28mself\u001b[39m\u001b[38;5;241m.\u001b[39mdataset[[\u001b[38;5;28mself\u001b[39m\u001b[38;5;241m.\u001b[39mindices[i] \u001b[38;5;28;01mfor\u001b[39;00m i \u001b[38;5;129;01min\u001b[39;00m idx]]\n\u001b[1;32m--> 298\u001b[0m \u001b[38;5;28;01mreturn\u001b[39;00m \u001b[38;5;28;43mself\u001b[39;49m\u001b[38;5;241;43m.\u001b[39;49m\u001b[43mdataset\u001b[49m\u001b[43m[\u001b[49m\u001b[38;5;28;43mself\u001b[39;49m\u001b[38;5;241;43m.\u001b[39;49m\u001b[43mindices\u001b[49m\u001b[43m[\u001b[49m\u001b[43midx\u001b[49m\u001b[43m]\u001b[49m\u001b[43m]\u001b[49m\n",
      "File \u001b[1;32mH:\\マイドライブ\\Forest\\src\\segment_model_training.py:234\u001b[0m, in \u001b[0;36mLoadDataSet.__getitem__\u001b[1;34m(self, idx)\u001b[0m\n\u001b[0;32m    231\u001b[0m mskPath \u001b[38;5;241m=\u001b[39m get_mskPath(orgPath)\n\u001b[0;32m    232\u001b[0m \u001b[38;5;66;03m# print(\"\\nimageName\\t\",os.path.basename(orgPath))\u001b[39;00m\n\u001b[0;32m    233\u001b[0m \u001b[38;5;66;03m#画像データの取得\u001b[39;00m\n\u001b[1;32m--> 234\u001b[0m img \u001b[38;5;241m=\u001b[39m \u001b[43mio\u001b[49m\u001b[38;5;241;43m.\u001b[39;49m\u001b[43mimread\u001b[49m\u001b[43m(\u001b[49m\u001b[43morgPath\u001b[49m\u001b[43m)\u001b[49m[:,:,\u001b[38;5;241m0\u001b[39m:\u001b[38;5;241m3\u001b[39m]\u001b[38;5;241m.\u001b[39mastype(\u001b[38;5;124m'\u001b[39m\u001b[38;5;124mfloat32\u001b[39m\u001b[38;5;124m'\u001b[39m)\n\u001b[0;32m    235\u001b[0m \u001b[38;5;66;03m# img = transform.resize(img,(256,256))\u001b[39;00m\n\u001b[0;32m    237\u001b[0m height, width, _ \u001b[38;5;241m=\u001b[39m img\u001b[38;5;241m.\u001b[39mshape\n",
      "File \u001b[1;32m~\\AppData\\Roaming\\Python\\Python311\\site-packages\\skimage\\io\\_io.py:53\u001b[0m, in \u001b[0;36mimread\u001b[1;34m(fname, as_gray, plugin, **plugin_args)\u001b[0m\n\u001b[0;32m     50\u001b[0m         plugin \u001b[38;5;241m=\u001b[39m \u001b[38;5;124m'\u001b[39m\u001b[38;5;124mtifffile\u001b[39m\u001b[38;5;124m'\u001b[39m\n\u001b[0;32m     52\u001b[0m \u001b[38;5;28;01mwith\u001b[39;00m file_or_url_context(fname) \u001b[38;5;28;01mas\u001b[39;00m fname:\n\u001b[1;32m---> 53\u001b[0m     img \u001b[38;5;241m=\u001b[39m \u001b[43mcall_plugin\u001b[49m\u001b[43m(\u001b[49m\u001b[38;5;124;43m'\u001b[39;49m\u001b[38;5;124;43mimread\u001b[39;49m\u001b[38;5;124;43m'\u001b[39;49m\u001b[43m,\u001b[49m\u001b[43m \u001b[49m\u001b[43mfname\u001b[49m\u001b[43m,\u001b[49m\u001b[43m \u001b[49m\u001b[43mplugin\u001b[49m\u001b[38;5;241;43m=\u001b[39;49m\u001b[43mplugin\u001b[49m\u001b[43m,\u001b[49m\u001b[43m \u001b[49m\u001b[38;5;241;43m*\u001b[39;49m\u001b[38;5;241;43m*\u001b[39;49m\u001b[43mplugin_args\u001b[49m\u001b[43m)\u001b[49m\n\u001b[0;32m     55\u001b[0m \u001b[38;5;28;01mif\u001b[39;00m \u001b[38;5;129;01mnot\u001b[39;00m \u001b[38;5;28mhasattr\u001b[39m(img, \u001b[38;5;124m'\u001b[39m\u001b[38;5;124mndim\u001b[39m\u001b[38;5;124m'\u001b[39m):\n\u001b[0;32m     56\u001b[0m     \u001b[38;5;28;01mreturn\u001b[39;00m img\n",
      "File \u001b[1;32m~\\AppData\\Roaming\\Python\\Python311\\site-packages\\skimage\\io\\manage_plugins.py:205\u001b[0m, in \u001b[0;36mcall_plugin\u001b[1;34m(kind, *args, **kwargs)\u001b[0m\n\u001b[0;32m    202\u001b[0m     \u001b[38;5;28;01mexcept\u001b[39;00m \u001b[38;5;167;01mIndexError\u001b[39;00m:\n\u001b[0;32m    203\u001b[0m         \u001b[38;5;28;01mraise\u001b[39;00m \u001b[38;5;167;01mRuntimeError\u001b[39;00m(\u001b[38;5;124mf\u001b[39m\u001b[38;5;124m'\u001b[39m\u001b[38;5;124mCould not find the plugin \u001b[39m\u001b[38;5;124m\"\u001b[39m\u001b[38;5;132;01m{\u001b[39;00mplugin\u001b[38;5;132;01m}\u001b[39;00m\u001b[38;5;124m\"\u001b[39m\u001b[38;5;124m for \u001b[39m\u001b[38;5;132;01m{\u001b[39;00mkind\u001b[38;5;132;01m}\u001b[39;00m\u001b[38;5;124m.\u001b[39m\u001b[38;5;124m'\u001b[39m)\n\u001b[1;32m--> 205\u001b[0m \u001b[38;5;28;01mreturn\u001b[39;00m \u001b[43mfunc\u001b[49m\u001b[43m(\u001b[49m\u001b[38;5;241;43m*\u001b[39;49m\u001b[43margs\u001b[49m\u001b[43m,\u001b[49m\u001b[43m \u001b[49m\u001b[38;5;241;43m*\u001b[39;49m\u001b[38;5;241;43m*\u001b[39;49m\u001b[43mkwargs\u001b[49m\u001b[43m)\u001b[49m\n",
      "File \u001b[1;32m~\\AppData\\Roaming\\Python\\Python311\\site-packages\\skimage\\io\\_plugins\\imageio_plugin.py:15\u001b[0m, in \u001b[0;36mimread\u001b[1;34m(*args, **kwargs)\u001b[0m\n\u001b[0;32m     13\u001b[0m \u001b[38;5;129m@wraps\u001b[39m(imageio_imread)\n\u001b[0;32m     14\u001b[0m \u001b[38;5;28;01mdef\u001b[39;00m \u001b[38;5;21mimread\u001b[39m(\u001b[38;5;241m*\u001b[39margs, \u001b[38;5;241m*\u001b[39m\u001b[38;5;241m*\u001b[39mkwargs):\n\u001b[1;32m---> 15\u001b[0m     \u001b[38;5;28;01mreturn\u001b[39;00m np\u001b[38;5;241m.\u001b[39masarray(\u001b[43mimageio_imread\u001b[49m\u001b[43m(\u001b[49m\u001b[38;5;241;43m*\u001b[39;49m\u001b[43margs\u001b[49m\u001b[43m,\u001b[49m\u001b[43m \u001b[49m\u001b[38;5;241;43m*\u001b[39;49m\u001b[38;5;241;43m*\u001b[39;49m\u001b[43mkwargs\u001b[49m\u001b[43m)\u001b[49m)\n",
      "File \u001b[1;32m~\\AppData\\Roaming\\Python\\Python311\\site-packages\\imageio\\v2.py:226\u001b[0m, in \u001b[0;36mimread\u001b[1;34m(uri, format, **kwargs)\u001b[0m\n\u001b[0;32m    223\u001b[0m imopen_args \u001b[38;5;241m=\u001b[39m decypher_format_arg(\u001b[38;5;28mformat\u001b[39m)\n\u001b[0;32m    224\u001b[0m imopen_args[\u001b[38;5;124m\"\u001b[39m\u001b[38;5;124mlegacy_mode\u001b[39m\u001b[38;5;124m\"\u001b[39m] \u001b[38;5;241m=\u001b[39m \u001b[38;5;28;01mTrue\u001b[39;00m\n\u001b[1;32m--> 226\u001b[0m \u001b[38;5;28;01mwith\u001b[39;00m \u001b[43mimopen\u001b[49m\u001b[43m(\u001b[49m\u001b[43muri\u001b[49m\u001b[43m,\u001b[49m\u001b[43m \u001b[49m\u001b[38;5;124;43m\"\u001b[39;49m\u001b[38;5;124;43mri\u001b[39;49m\u001b[38;5;124;43m\"\u001b[39;49m\u001b[43m,\u001b[49m\u001b[43m \u001b[49m\u001b[38;5;241;43m*\u001b[39;49m\u001b[38;5;241;43m*\u001b[39;49m\u001b[43mimopen_args\u001b[49m\u001b[43m)\u001b[49m \u001b[38;5;28;01mas\u001b[39;00m file:\n\u001b[0;32m    227\u001b[0m     result \u001b[38;5;241m=\u001b[39m file\u001b[38;5;241m.\u001b[39mread(index\u001b[38;5;241m=\u001b[39m\u001b[38;5;241m0\u001b[39m, \u001b[38;5;241m*\u001b[39m\u001b[38;5;241m*\u001b[39mkwargs)\n\u001b[0;32m    229\u001b[0m \u001b[38;5;28;01mreturn\u001b[39;00m result\n",
      "File \u001b[1;32m~\\AppData\\Roaming\\Python\\Python311\\site-packages\\imageio\\core\\imopen.py:208\u001b[0m, in \u001b[0;36mimopen\u001b[1;34m(uri, io_mode, plugin, extension, format_hint, legacy_mode, **kwargs)\u001b[0m\n\u001b[0;32m    205\u001b[0m     \u001b[38;5;28;01mcontinue\u001b[39;00m\n\u001b[0;32m    207\u001b[0m \u001b[38;5;28;01mtry\u001b[39;00m:\n\u001b[1;32m--> 208\u001b[0m     plugin_instance \u001b[38;5;241m=\u001b[39m \u001b[43mcandidate_plugin\u001b[49m\u001b[43m(\u001b[49m\u001b[43mrequest\u001b[49m\u001b[43m,\u001b[49m\u001b[43m \u001b[49m\u001b[38;5;241;43m*\u001b[39;49m\u001b[38;5;241;43m*\u001b[39;49m\u001b[43mkwargs\u001b[49m\u001b[43m)\u001b[49m\n\u001b[0;32m    209\u001b[0m \u001b[38;5;28;01mexcept\u001b[39;00m InitializationError:\n\u001b[0;32m    210\u001b[0m     \u001b[38;5;66;03m# file extension doesn't match file type\u001b[39;00m\n\u001b[0;32m    211\u001b[0m     \u001b[38;5;28;01mcontinue\u001b[39;00m\n",
      "File \u001b[1;32m~\\AppData\\Roaming\\Python\\Python311\\site-packages\\imageio\\config\\plugins.py:107\u001b[0m, in \u001b[0;36mPluginConfig.plugin_class.<locals>.partial_legacy_plugin\u001b[1;34m(request)\u001b[0m\n\u001b[0;32m    106\u001b[0m \u001b[38;5;28;01mdef\u001b[39;00m \u001b[38;5;21mpartial_legacy_plugin\u001b[39m(request):\n\u001b[1;32m--> 107\u001b[0m     \u001b[38;5;28;01mreturn\u001b[39;00m \u001b[43mLegacyPlugin\u001b[49m\u001b[43m(\u001b[49m\u001b[43mrequest\u001b[49m\u001b[43m,\u001b[49m\u001b[43m \u001b[49m\u001b[43mlegacy_plugin\u001b[49m\u001b[43m)\u001b[49m\n",
      "File \u001b[1;32m~\\AppData\\Roaming\\Python\\Python311\\site-packages\\imageio\\core\\legacy_plugin_wrapper.py:80\u001b[0m, in \u001b[0;36mLegacyPlugin.__init__\u001b[1;34m(self, request, legacy_plugin)\u001b[0m\n\u001b[0;32m     74\u001b[0m source \u001b[38;5;241m=\u001b[39m (\n\u001b[0;32m     75\u001b[0m     \u001b[38;5;124m\"\u001b[39m\u001b[38;5;124m<bytes>\u001b[39m\u001b[38;5;124m\"\u001b[39m\n\u001b[0;32m     76\u001b[0m     \u001b[38;5;28;01mif\u001b[39;00m \u001b[38;5;28misinstance\u001b[39m(\u001b[38;5;28mself\u001b[39m\u001b[38;5;241m.\u001b[39m_request\u001b[38;5;241m.\u001b[39mraw_uri, \u001b[38;5;28mbytes\u001b[39m)\n\u001b[0;32m     77\u001b[0m     \u001b[38;5;28;01melse\u001b[39;00m \u001b[38;5;28mself\u001b[39m\u001b[38;5;241m.\u001b[39m_request\u001b[38;5;241m.\u001b[39mraw_uri\n\u001b[0;32m     78\u001b[0m )\n\u001b[0;32m     79\u001b[0m \u001b[38;5;28;01mif\u001b[39;00m \u001b[38;5;28mself\u001b[39m\u001b[38;5;241m.\u001b[39m_request\u001b[38;5;241m.\u001b[39mmode\u001b[38;5;241m.\u001b[39mio_mode \u001b[38;5;241m==\u001b[39m IOMode\u001b[38;5;241m.\u001b[39mread:\n\u001b[1;32m---> 80\u001b[0m     \u001b[38;5;28;01mif\u001b[39;00m \u001b[38;5;129;01mnot\u001b[39;00m \u001b[38;5;28;43mself\u001b[39;49m\u001b[38;5;241;43m.\u001b[39;49m\u001b[43m_format\u001b[49m\u001b[38;5;241;43m.\u001b[39;49m\u001b[43mcan_read\u001b[49m\u001b[43m(\u001b[49m\u001b[43mrequest\u001b[49m\u001b[43m)\u001b[49m:\n\u001b[0;32m     81\u001b[0m         \u001b[38;5;28;01mraise\u001b[39;00m InitializationError(\n\u001b[0;32m     82\u001b[0m             \u001b[38;5;124mf\u001b[39m\u001b[38;5;124m\"\u001b[39m\u001b[38;5;124m`\u001b[39m\u001b[38;5;132;01m{\u001b[39;00m\u001b[38;5;28mself\u001b[39m\u001b[38;5;241m.\u001b[39m_format\u001b[38;5;241m.\u001b[39mname\u001b[38;5;132;01m}\u001b[39;00m\u001b[38;5;124m`\u001b[39m\u001b[38;5;124m\"\u001b[39m \u001b[38;5;124mf\u001b[39m\u001b[38;5;124m\"\u001b[39m\u001b[38;5;124m can not read `\u001b[39m\u001b[38;5;132;01m{\u001b[39;00msource\u001b[38;5;132;01m}\u001b[39;00m\u001b[38;5;124m`.\u001b[39m\u001b[38;5;124m\"\u001b[39m\n\u001b[0;32m     83\u001b[0m         )\n\u001b[0;32m     84\u001b[0m \u001b[38;5;28;01melse\u001b[39;00m:\n",
      "File \u001b[1;32m~\\AppData\\Roaming\\Python\\Python311\\site-packages\\imageio\\core\\format.py:242\u001b[0m, in \u001b[0;36mFormat.can_read\u001b[1;34m(self, request)\u001b[0m\n\u001b[0;32m    237\u001b[0m \u001b[38;5;28;01mdef\u001b[39;00m \u001b[38;5;21mcan_read\u001b[39m(\u001b[38;5;28mself\u001b[39m, request):\n\u001b[0;32m    238\u001b[0m \u001b[38;5;250m    \u001b[39m\u001b[38;5;124;03m\"\"\"can_read(request)\u001b[39;00m\n\u001b[0;32m    239\u001b[0m \n\u001b[0;32m    240\u001b[0m \u001b[38;5;124;03m    Get whether this format can read data from the specified uri.\u001b[39;00m\n\u001b[0;32m    241\u001b[0m \u001b[38;5;124;03m    \"\"\"\u001b[39;00m\n\u001b[1;32m--> 242\u001b[0m     \u001b[38;5;28;01mreturn\u001b[39;00m \u001b[38;5;28;43mself\u001b[39;49m\u001b[38;5;241;43m.\u001b[39;49m\u001b[43m_can_read\u001b[49m\u001b[43m(\u001b[49m\u001b[43mrequest\u001b[49m\u001b[43m)\u001b[49m\n",
      "File \u001b[1;32m~\\AppData\\Roaming\\Python\\Python311\\site-packages\\imageio\\plugins\\pillow_legacy.py:267\u001b[0m, in \u001b[0;36mPillowFormat._can_read\u001b[1;34m(self, request)\u001b[0m\n\u001b[0;32m    265\u001b[0m factory, accept \u001b[38;5;241m=\u001b[39m Image\u001b[38;5;241m.\u001b[39mOPEN[\u001b[38;5;28mself\u001b[39m\u001b[38;5;241m.\u001b[39mplugin_id]\n\u001b[0;32m    266\u001b[0m \u001b[38;5;28;01mif\u001b[39;00m accept:\n\u001b[1;32m--> 267\u001b[0m     \u001b[38;5;28;01mif\u001b[39;00m \u001b[43mrequest\u001b[49m\u001b[38;5;241;43m.\u001b[39;49m\u001b[43mfirstbytes\u001b[49m \u001b[38;5;129;01mand\u001b[39;00m accept(request\u001b[38;5;241m.\u001b[39mfirstbytes):\n\u001b[0;32m    268\u001b[0m         \u001b[38;5;28;01mreturn\u001b[39;00m \u001b[38;5;28;01mTrue\u001b[39;00m\n",
      "File \u001b[1;32m~\\AppData\\Roaming\\Python\\Python311\\site-packages\\imageio\\core\\request.py:604\u001b[0m, in \u001b[0;36mRequest.firstbytes\u001b[1;34m(self)\u001b[0m\n\u001b[0;32m    600\u001b[0m \u001b[38;5;250m\u001b[39m\u001b[38;5;124;03m\"\"\"The first 256 bytes of the file. These can be used to\u001b[39;00m\n\u001b[0;32m    601\u001b[0m \u001b[38;5;124;03mparse the header to determine the file-format.\u001b[39;00m\n\u001b[0;32m    602\u001b[0m \u001b[38;5;124;03m\"\"\"\u001b[39;00m\n\u001b[0;32m    603\u001b[0m \u001b[38;5;28;01mif\u001b[39;00m \u001b[38;5;28mself\u001b[39m\u001b[38;5;241m.\u001b[39m_firstbytes \u001b[38;5;129;01mis\u001b[39;00m \u001b[38;5;28;01mNone\u001b[39;00m:\n\u001b[1;32m--> 604\u001b[0m     \u001b[38;5;28;43mself\u001b[39;49m\u001b[38;5;241;43m.\u001b[39;49m\u001b[43m_read_first_bytes\u001b[49m\u001b[43m(\u001b[49m\u001b[43m)\u001b[49m\n\u001b[0;32m    605\u001b[0m \u001b[38;5;28;01mreturn\u001b[39;00m \u001b[38;5;28mself\u001b[39m\u001b[38;5;241m.\u001b[39m_firstbytes\n",
      "File \u001b[1;32m~\\AppData\\Roaming\\Python\\Python311\\site-packages\\imageio\\core\\request.py:613\u001b[0m, in \u001b[0;36mRequest._read_first_bytes\u001b[1;34m(self, N)\u001b[0m\n\u001b[0;32m    610\u001b[0m \u001b[38;5;28;01melse\u001b[39;00m:\n\u001b[0;32m    611\u001b[0m     \u001b[38;5;66;03m# Prepare\u001b[39;00m\n\u001b[0;32m    612\u001b[0m     \u001b[38;5;28;01mtry\u001b[39;00m:\n\u001b[1;32m--> 613\u001b[0m         f \u001b[38;5;241m=\u001b[39m \u001b[38;5;28;43mself\u001b[39;49m\u001b[38;5;241;43m.\u001b[39;49m\u001b[43mget_file\u001b[49m\u001b[43m(\u001b[49m\u001b[43m)\u001b[49m\n\u001b[0;32m    614\u001b[0m     \u001b[38;5;28;01mexcept\u001b[39;00m \u001b[38;5;167;01mIOError\u001b[39;00m:\n\u001b[0;32m    615\u001b[0m         \u001b[38;5;28;01mif\u001b[39;00m os\u001b[38;5;241m.\u001b[39mpath\u001b[38;5;241m.\u001b[39misdir(\u001b[38;5;28mself\u001b[39m\u001b[38;5;241m.\u001b[39mfilename):  \u001b[38;5;66;03m# A directory, e.g. for DICOM\u001b[39;00m\n",
      "File \u001b[1;32m~\\AppData\\Roaming\\Python\\Python311\\site-packages\\imageio\\core\\request.py:492\u001b[0m, in \u001b[0;36mRequest.get_file\u001b[1;34m(self)\u001b[0m\n\u001b[0;32m    490\u001b[0m         \u001b[38;5;28mself\u001b[39m\u001b[38;5;241m.\u001b[39m_file \u001b[38;5;241m=\u001b[39m \u001b[38;5;28mopen\u001b[39m(\u001b[38;5;28mself\u001b[39m\u001b[38;5;241m.\u001b[39mfilename, \u001b[38;5;124m\"\u001b[39m\u001b[38;5;124mwb\u001b[39m\u001b[38;5;124m\"\u001b[39m)\n\u001b[0;32m    491\u001b[0m     \u001b[38;5;28;01melse\u001b[39;00m:\n\u001b[1;32m--> 492\u001b[0m         \u001b[38;5;28mself\u001b[39m\u001b[38;5;241m.\u001b[39m_file \u001b[38;5;241m=\u001b[39m \u001b[38;5;28mopen\u001b[39m(\u001b[38;5;28mself\u001b[39m\u001b[38;5;241m.\u001b[39mfilename, \u001b[38;5;124m\"\u001b[39m\u001b[38;5;124mrb\u001b[39m\u001b[38;5;124m\"\u001b[39m)\n\u001b[0;32m    494\u001b[0m \u001b[38;5;28;01melif\u001b[39;00m \u001b[38;5;28mself\u001b[39m\u001b[38;5;241m.\u001b[39m_uri_type \u001b[38;5;241m==\u001b[39m URI_ZIPPED:\n\u001b[0;32m    495\u001b[0m     \u001b[38;5;66;03m# Get the correct filename\u001b[39;00m\n\u001b[0;32m    496\u001b[0m     filename, name \u001b[38;5;241m=\u001b[39m \u001b[38;5;28mself\u001b[39m\u001b[38;5;241m.\u001b[39m_filename_zip\n",
      "\u001b[1;31mKeyboardInterrupt\u001b[0m: "
     ]
    }
   ],
   "source": [
    "num_epochs = 20\n",
    "\n",
    "for epoch in range(num_epochs):\n",
    "    print(f\"Epoch {str(epoch+1)}/{str(num_epochs)}\")\n",
    "\n",
    "#<---------------トレーニング---------------------->\n",
    "    train_loss = []\n",
    "    train_score = []\n",
    "    valid_loss = []\n",
    "    valid_score = []\n",
    "    train_loader_pbar = tqdm(train_loader, desc = 'description')\n",
    "\n",
    "    #<---------------評価---------------------->\n",
    "    losses_value, score = pre_segmentation_model.validateModel(model, train_loader_pbar, workDir=workDir,epoch=epoch,means=mean_values,stds=std_deviation, modelID=modelID)\n",
    "\n",
    "    train_loss.append(losses_value)\n",
    "    train_score.append(score)\n",
    "    \n",
    "    train_loader_pbar.set_description(f\"Epoch: {epoch+1}, loss: {losses_value}, IoU: {score}\")\n",
    "    \n",
    "    losses_value, score = pre_segmentation_model.validateModel(model, val_loader)\n",
    "\n",
    "    valid_loss.append(losses_value)\n",
    "    valid_score.append(score)\n",
    "\n",
    "    total_train_loss.append(np.mean(train_loss))\n",
    "    total_train_score.append(np.mean(train_score))\n",
    "    total_valid_loss.append(np.mean(valid_loss))\n",
    "    total_valid_score.append(np.mean(valid_score))\n",
    "    print(f\"Train Loss: {total_train_loss[-1]}, Train IOU: {total_train_score[-1]}\")\n",
    "    print(f\"Valid Loss: {total_valid_loss[-1]}, Valid IOU: {total_valid_score[-1]}\")\n",
    "\n",
    "    \n",
    "    checkpoint = {\n",
    "        'epoch': epoch + 1,\n",
    "        'valid_loss_min': total_valid_loss[-1],\n",
    "        'state_dict': model.state_dict(),\n",
    "        'optimizer': optimizer.state_dict(),\n",
    "    }\n",
    "    \n",
    "    print(\"CheckPoint Save\",modelID)\n",
    "\n",
    "    # checkpointの保存\n",
    "    save_ckp(checkpoint, False, checkpoint_path, best_model_path)\n",
    "    \n",
    "    # 評価データにおいて最高精度のモデルのcheckpointの保存\n",
    "    if total_valid_loss[-1] <= valid_loss_min:\n",
    "        print('Validation loss decreased ({:.6f} --> {:.6f}).  Saving model ...'.format(valid_loss_min,total_valid_loss[-1]))\n",
    "        save_ckp(checkpoint, True, checkpoint_path, best_model_path)\n",
    "        valid_loss_min = total_valid_loss[-1]\n",
    "    \n",
    "    print(\"\")\n",
    "\n",
    "\n",
    "    score = {\n",
    "        # \"epoch\" : range(1,num_epochs+1),\n",
    "        \"train_Loss\" : total_train_loss,\n",
    "        \"valid__Loss\" : total_valid_loss,\n",
    "        \"train_scoreIoU\" : total_train_score,\n",
    "        \"valid__scoreIoU\" : total_valid_score,\n",
    "        }\n",
    "\n",
    "    import pandas as pd\n",
    "    df_score = pd.DataFrame(score, index=range(1,len(total_train_loss)+1))\n",
    "    df_score.to_csv(workDir + f\"scoreSheet_{modelID}.csv\")\n",
    "\n",
    "\n"
   ]
  },
  {
   "cell_type": "code",
   "execution_count": null,
   "id": "1b1615e1",
   "metadata": {},
   "outputs": [],
   "source": []
  },
  {
   "cell_type": "code",
   "execution_count": null,
   "id": "aab4ab5d-0b15-4fa5-ba6d-00f38998ee9d",
   "metadata": {},
   "outputs": [],
   "source": []
  }
 ],
 "metadata": {
  "kernelspec": {
   "display_name": "Python 3 (ipykernel)",
   "language": "python",
   "name": "python3"
  },
  "language_info": {
   "codemirror_mode": {
    "name": "ipython",
    "version": 3
   },
   "file_extension": ".py",
   "mimetype": "text/x-python",
   "name": "python",
   "nbconvert_exporter": "python",
   "pygments_lexer": "ipython3",
   "version": "3.11.2"
  }
 },
 "nbformat": 4,
 "nbformat_minor": 5
}
