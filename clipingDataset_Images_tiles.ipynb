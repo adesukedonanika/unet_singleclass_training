{
 "cells": [
  {
   "cell_type": "code",
   "execution_count": 1,
   "metadata": {
    "tags": []
   },
   "outputs": [],
   "source": [
    "# !pip install -r requirements_uavUnet.txt --user\n",
    "\n",
    "import os,glob,sys,shutil,re,json\n",
    "import cv2\n",
    "import numpy as np\n",
    "import matplotlib.pyplot as plt\n",
    "from PIL import Image, ImageOps\n",
    "import albumentations as A\n",
    "from tqdm import tqdm\n",
    "import rasterio"
   ]
  },
  {
   "cell_type": "code",
   "execution_count": 24,
   "metadata": {
    "tags": []
   },
   "outputs": [
    {
     "name": "stderr",
     "output_type": "stream",
     "text": [
      "c:\\Users\\plant\\AppData\\Local\\Programs\\Python\\Python311\\Lib\\site-packages\\rasterio\\__init__.py:321: NotGeoreferencedWarning: Dataset has no geotransform, gcps, or rpcs. The identity matrix will be returned.\n",
      "  dataset = DatasetReader(path, driver=driver, sharing=sharing, **kwargs)\n"
     ]
    },
    {
     "name": "stdout",
     "output_type": "stream",
     "text": [
      "already copy\n",
      "6\n",
      "True\n",
      "03_datasetforModel/Forest tsumura 2 50m P4Pv2_cedar\\org\\DJI_0245.JPG 03_datasetforModel/Forest tsumura 2 50m P4Pv2_cedar\\msk\\DJI_0245.PNG\n",
      "512\n",
      "OriginalSize\t 3648 5472 3\n",
      "9 6 (3072, 5120)\n",
      "resize\t (9, 6, (3072, 5120))\n"
     ]
    },
    {
     "name": "stderr",
     "output_type": "stream",
     "text": [
      "  0%|          | 0/6 [00:00<?, ?it/s]"
     ]
    },
    {
     "name": "stdout",
     "output_type": "stream",
     "text": [
      "OriginalSize\t 3648 5472 3\n",
      "9 6 (3072, 5120)\n",
      "OriginalSize\t 3648 5472 1\n",
      "9 6 (3072, 5120)\n"
     ]
    },
    {
     "name": "stderr",
     "output_type": "stream",
     "text": [
      " 17%|█▋        | 1/6 [00:03<00:18,  3.64s/it]"
     ]
    },
    {
     "name": "stdout",
     "output_type": "stream",
     "text": [
      "OriginalSize\t 3648 5472 3\n",
      "9 6 (3072, 5120)\n",
      "OriginalSize\t 3648 5472 1\n",
      "9 6 (3072, 5120)\n"
     ]
    },
    {
     "name": "stderr",
     "output_type": "stream",
     "text": [
      " 33%|███▎      | 2/6 [00:11<00:23,  5.91s/it]"
     ]
    },
    {
     "name": "stdout",
     "output_type": "stream",
     "text": [
      "OriginalSize\t 3648 5472 3\n",
      "9 6 (3072, 5120)\n",
      "OriginalSize\t 3648 5472 1\n",
      "9 6 (3072, 5120)\n"
     ]
    },
    {
     "name": "stderr",
     "output_type": "stream",
     "text": [
      " 50%|█████     | 3/6 [00:53<01:08, 22.75s/it]"
     ]
    },
    {
     "name": "stdout",
     "output_type": "stream",
     "text": [
      "OriginalSize\t 3648 5472 3\n",
      "9 6 (3072, 5120)\n",
      "OriginalSize\t 3648 5472 1\n",
      "9 6 (3072, 5120)\n"
     ]
    },
    {
     "name": "stderr",
     "output_type": "stream",
     "text": [
      " 67%|██████▋   | 4/6 [00:57<00:30, 15.35s/it]"
     ]
    },
    {
     "name": "stdout",
     "output_type": "stream",
     "text": [
      "OriginalSize\t 3648 5472 3\n",
      "9 6 (3072, 5120)\n",
      "OriginalSize\t 3648 5472 1\n",
      "9 6 (3072, 5120)\n"
     ]
    },
    {
     "name": "stderr",
     "output_type": "stream",
     "text": [
      " 83%|████████▎ | 5/6 [01:02<00:11, 11.55s/it]"
     ]
    },
    {
     "name": "stdout",
     "output_type": "stream",
     "text": [
      "OriginalSize\t 3648 5472 3\n",
      "9 6 (3072, 5120)\n",
      "OriginalSize\t 3648 5472 1\n",
      "9 6 (3072, 5120)\n"
     ]
    },
    {
     "name": "stderr",
     "output_type": "stream",
     "text": [
      "100%|██████████| 6/6 [01:10<00:00, 11.69s/it]\n"
     ]
    },
    {
     "name": "stdout",
     "output_type": "stream",
     "text": [
      "24 24\n"
     ]
    },
    {
     "name": "stderr",
     "output_type": "stream",
     "text": [
      "  0%|          | 0/24 [00:00<?, ?it/s]"
     ]
    },
    {
     "name": "stdout",
     "output_type": "stream",
     "text": [
      "OriginalSize\t 3072 5120 3\n",
      "9 5 (3072, 5120)\n",
      "(3072, 5120)  <= orgSize 3072 5120\n",
      "Resize Image SIze (3072, 5120, 3)\n",
      "Create Tiles ImageSize:1024, LapSize:512\n",
      "OriginalSize\t 3072 5120 1\n",
      "9 5 (3072, 5120)\n",
      "(3072, 5120)  <= orgSize 3072 5120\n",
      "Resize Image SIze (3072, 5120)\n",
      "Create Tiles ImageSize:1024, LapSize:512\n"
     ]
    },
    {
     "name": "stderr",
     "output_type": "stream",
     "text": [
      "  4%|▍         | 1/24 [00:15<06:04, 15.84s/it]"
     ]
    },
    {
     "name": "stdout",
     "output_type": "stream",
     "text": [
      "OriginalSize\t 3072 1024 3\n",
      "1 5 (3072, 1024)\n",
      "(3072, 1024)  <= orgSize 3072 1024\n",
      "Resize Image SIze (3072, 1024, 3)\n",
      "Create Tiles ImageSize:1024, LapSize:512\n",
      "OriginalSize\t 3072 1024 1\n",
      "1 5 (3072, 1024)\n",
      "(3072, 1024)  <= orgSize 3072 1024\n",
      "Resize Image SIze (3072, 1024)\n",
      "Create Tiles ImageSize:1024, LapSize:512\n"
     ]
    },
    {
     "name": "stderr",
     "output_type": "stream",
     "text": [
      "  8%|▊         | 2/24 [00:16<02:31,  6.91s/it]"
     ]
    },
    {
     "name": "stdout",
     "output_type": "stream",
     "text": [
      "OriginalSize\t 1024 5120 3\n",
      "9 1 (1024, 5120)\n",
      "(1024, 5120)  <= orgSize 1024 5120\n",
      "Resize Image SIze (1024, 5120, 3)\n",
      "Create Tiles ImageSize:1024, LapSize:512\n",
      "OriginalSize\t 1024 5120 1\n",
      "9 1 (1024, 5120)\n",
      "(1024, 5120)  <= orgSize 1024 5120\n",
      "Resize Image SIze (1024, 5120)\n",
      "Create Tiles ImageSize:1024, LapSize:512\n"
     ]
    },
    {
     "name": "stderr",
     "output_type": "stream",
     "text": [
      " 12%|█▎        | 3/24 [00:17<01:30,  4.33s/it]"
     ]
    },
    {
     "name": "stdout",
     "output_type": "stream",
     "text": [
      "OriginalSize\t 1024 1024 3\n",
      "1 1 (1024, 1024)\n",
      "(1024, 1024)  <= orgSize 1024 1024\n",
      "Resize Image SIze (1024, 1024, 3)\n",
      "Create Tiles ImageSize:1024, LapSize:512\n",
      "OriginalSize\t 1024 1024 1\n",
      "1 1 (1024, 1024)\n",
      "(1024, 1024)  <= orgSize 1024 1024\n",
      "Resize Image SIze (1024, 1024)\n",
      "Create Tiles ImageSize:1024, LapSize:512\n"
     ]
    },
    {
     "name": "stderr",
     "output_type": "stream",
     "text": [
      " 17%|█▋        | 4/24 [00:18<00:57,  2.90s/it]"
     ]
    },
    {
     "name": "stdout",
     "output_type": "stream",
     "text": [
      "OriginalSize\t 3072 5120 3\n",
      "9 5 (3072, 5120)\n",
      "(3072, 5120)  <= orgSize 3072 5120\n",
      "Resize Image SIze (3072, 5120, 3)\n",
      "Create Tiles ImageSize:1024, LapSize:512\n",
      "OriginalSize\t 3072 5120 1\n",
      "9 5 (3072, 5120)\n",
      "(3072, 5120)  <= orgSize 3072 5120\n",
      "Resize Image SIze (3072, 5120)\n",
      "Create Tiles ImageSize:1024, LapSize:512\n"
     ]
    },
    {
     "name": "stderr",
     "output_type": "stream",
     "text": [
      " 21%|██        | 5/24 [00:30<01:56,  6.12s/it]"
     ]
    },
    {
     "name": "stdout",
     "output_type": "stream",
     "text": [
      "OriginalSize\t 3072 1024 3\n",
      "1 5 (3072, 1024)\n",
      "(3072, 1024)  <= orgSize 3072 1024\n",
      "Resize Image SIze (3072, 1024, 3)\n",
      "Create Tiles ImageSize:1024, LapSize:512\n",
      "OriginalSize\t 3072 1024 1\n",
      "1 5 (3072, 1024)\n",
      "(3072, 1024)  <= orgSize 3072 1024\n",
      "Resize Image SIze (3072, 1024)\n",
      "Create Tiles ImageSize:1024, LapSize:512\n"
     ]
    },
    {
     "name": "stderr",
     "output_type": "stream",
     "text": [
      " 25%|██▌       | 6/24 [00:31<01:17,  4.30s/it]"
     ]
    },
    {
     "name": "stdout",
     "output_type": "stream",
     "text": [
      "OriginalSize\t 1024 5120 3\n",
      "9 1 (1024, 5120)\n",
      "(1024, 5120)  <= orgSize 1024 5120\n",
      "Resize Image SIze (1024, 5120, 3)\n",
      "Create Tiles ImageSize:1024, LapSize:512\n",
      "OriginalSize\t 1024 5120 1\n",
      "9 1 (1024, 5120)\n",
      "(1024, 5120)  <= orgSize 1024 5120\n",
      "Resize Image SIze (1024, 5120)\n",
      "Create Tiles ImageSize:1024, LapSize:512\n"
     ]
    },
    {
     "name": "stderr",
     "output_type": "stream",
     "text": [
      " 29%|██▉       | 7/24 [00:32<00:55,  3.27s/it]"
     ]
    },
    {
     "name": "stdout",
     "output_type": "stream",
     "text": [
      "OriginalSize\t 1024 1024 3\n",
      "1 1 (1024, 1024)\n",
      "(1024, 1024)  <= orgSize 1024 1024\n",
      "Resize Image SIze (1024, 1024, 3)\n",
      "Create Tiles ImageSize:1024, LapSize:512\n",
      "OriginalSize\t 1024 1024 1\n",
      "1 1 (1024, 1024)\n",
      "(1024, 1024)  <= orgSize 1024 1024\n",
      "Resize Image SIze (1024, 1024)\n",
      "Create Tiles ImageSize:1024, LapSize:512\n"
     ]
    },
    {
     "name": "stderr",
     "output_type": "stream",
     "text": [
      " 33%|███▎      | 8/24 [01:07<03:35, 13.45s/it]"
     ]
    },
    {
     "name": "stdout",
     "output_type": "stream",
     "text": [
      "OriginalSize\t 3072 5120 3\n",
      "9 5 (3072, 5120)\n",
      "(3072, 5120)  <= orgSize 3072 5120\n",
      "Resize Image SIze (3072, 5120, 3)\n",
      "Create Tiles ImageSize:1024, LapSize:512\n",
      "OriginalSize\t 3072 5120 1\n",
      "9 5 (3072, 5120)\n",
      "(3072, 5120)  <= orgSize 3072 5120\n",
      "Resize Image SIze (3072, 5120)\n",
      "Create Tiles ImageSize:1024, LapSize:512\n"
     ]
    },
    {
     "name": "stderr",
     "output_type": "stream",
     "text": [
      " 38%|███▊      | 9/24 [01:16<02:58, 11.93s/it]"
     ]
    },
    {
     "name": "stdout",
     "output_type": "stream",
     "text": [
      "OriginalSize\t 3072 1024 3\n",
      "1 5 (3072, 1024)\n",
      "(3072, 1024)  <= orgSize 3072 1024\n",
      "Resize Image SIze (3072, 1024, 3)\n",
      "Create Tiles ImageSize:1024, LapSize:512\n"
     ]
    },
    {
     "name": "stderr",
     "output_type": "stream",
     "text": [
      " 42%|████▏     | 10/24 [01:16<01:57,  8.40s/it]"
     ]
    },
    {
     "name": "stdout",
     "output_type": "stream",
     "text": [
      "OriginalSize\t 3072 1024 1\n",
      "1 5 (3072, 1024)\n",
      "(3072, 1024)  <= orgSize 3072 1024\n",
      "Resize Image SIze (3072, 1024)\n",
      "Create Tiles ImageSize:1024, LapSize:512\n",
      "OriginalSize\t 1024 5120 3\n",
      "9 1 (1024, 5120)\n",
      "(1024, 5120)  <= orgSize 1024 5120\n",
      "Resize Image SIze (1024, 5120, 3)\n",
      "Create Tiles ImageSize:1024, LapSize:512\n",
      "OriginalSize\t 1024 5120 1\n",
      "9 1 (1024, 5120)\n",
      "(1024, 5120)  <= orgSize 1024 5120\n"
     ]
    },
    {
     "name": "stderr",
     "output_type": "stream",
     "text": [
      " 46%|████▌     | 11/24 [01:17<01:17,  6.00s/it]"
     ]
    },
    {
     "name": "stdout",
     "output_type": "stream",
     "text": [
      "Resize Image SIze (1024, 5120)\n",
      "Create Tiles ImageSize:1024, LapSize:512\n",
      "OriginalSize\t 1024 1024 3\n",
      "1 1 (1024, 1024)\n",
      "(1024, 1024)  <= orgSize 1024 1024\n",
      "Resize Image SIze (1024, 1024, 3)\n",
      "Create Tiles ImageSize:1024, LapSize:512\n"
     ]
    },
    {
     "name": "stderr",
     "output_type": "stream",
     "text": [
      " 50%|█████     | 12/24 [01:17<00:51,  4.27s/it]"
     ]
    },
    {
     "name": "stdout",
     "output_type": "stream",
     "text": [
      "OriginalSize\t 1024 1024 1\n",
      "1 1 (1024, 1024)\n",
      "(1024, 1024)  <= orgSize 1024 1024\n",
      "Resize Image SIze (1024, 1024)\n",
      "Create Tiles ImageSize:1024, LapSize:512\n",
      "OriginalSize\t 3072 5120 3\n",
      "9 5 (3072, 5120)\n",
      "(3072, 5120)  <= orgSize 3072 5120\n",
      "Resize Image SIze (3072, 5120, 3)\n",
      "Create Tiles ImageSize:1024, LapSize:512\n",
      "OriginalSize\t 3072 5120 1\n",
      "9 5 (3072, 5120)\n",
      "(3072, 5120)  <= orgSize 3072 5120\n",
      "Resize Image SIze (3072, 5120)\n",
      "Create Tiles ImageSize:1024, LapSize:512\n"
     ]
    },
    {
     "name": "stderr",
     "output_type": "stream",
     "text": [
      " 54%|█████▍    | 13/24 [01:25<01:00,  5.49s/it]"
     ]
    },
    {
     "name": "stdout",
     "output_type": "stream",
     "text": [
      "OriginalSize\t 3072 1024 3\n",
      "1 5 (3072, 1024)\n",
      "(3072, 1024)  <= orgSize 3072 1024\n",
      "Resize Image SIze (3072, 1024, 3)\n",
      "Create Tiles ImageSize:1024, LapSize:512\n"
     ]
    },
    {
     "name": "stderr",
     "output_type": "stream",
     "text": [
      " 58%|█████▊    | 14/24 [01:26<00:39,  3.97s/it]"
     ]
    },
    {
     "name": "stdout",
     "output_type": "stream",
     "text": [
      "OriginalSize\t 3072 1024 1\n",
      "1 5 (3072, 1024)\n",
      "(3072, 1024)  <= orgSize 3072 1024\n",
      "Resize Image SIze (3072, 1024)\n",
      "Create Tiles ImageSize:1024, LapSize:512\n",
      "OriginalSize\t 1024 5120 3\n",
      "9 1 (1024, 5120)\n",
      "(1024, 5120)  <= orgSize 1024 5120\n",
      "Resize Image SIze (1024, 5120, 3)\n",
      "Create Tiles ImageSize:1024, LapSize:512\n",
      "OriginalSize\t 1024 5120 1\n",
      "9 1 (1024, 5120)\n",
      "(1024, 5120)  <= orgSize 1024 5120\n",
      "Resize Image SIze (1024, 5120)\n",
      "Create Tiles ImageSize:1024, LapSize:512\n"
     ]
    },
    {
     "name": "stderr",
     "output_type": "stream",
     "text": [
      " 62%|██████▎   | 15/24 [01:27<00:27,  3.04s/it]"
     ]
    },
    {
     "name": "stdout",
     "output_type": "stream",
     "text": [
      "OriginalSize\t 1024 1024 3\n",
      "1 1 (1024, 1024)\n",
      "(1024, 1024)  <= orgSize 1024 1024\n",
      "Resize Image SIze (1024, 1024, 3)\n",
      "Create Tiles ImageSize:1024, LapSize:512\n"
     ]
    },
    {
     "name": "stderr",
     "output_type": "stream",
     "text": [
      " 67%|██████▋   | 16/24 [01:27<00:18,  2.27s/it]"
     ]
    },
    {
     "name": "stdout",
     "output_type": "stream",
     "text": [
      "OriginalSize\t 1024 1024 1\n",
      "1 1 (1024, 1024)\n",
      "(1024, 1024)  <= orgSize 1024 1024\n",
      "Resize Image SIze (1024, 1024)\n",
      "Create Tiles ImageSize:1024, LapSize:512\n",
      "OriginalSize\t 3072 5120 3\n",
      "9 5 (3072, 5120)\n",
      "(3072, 5120)  <= orgSize 3072 5120\n",
      "Resize Image SIze (3072, 5120, 3)\n",
      "Create Tiles ImageSize:1024, LapSize:512\n",
      "OriginalSize\t 3072 5120 1\n",
      "9 5 (3072, 5120)\n",
      "(3072, 5120)  <= orgSize 3072 5120\n",
      "Resize Image SIze (3072, 5120)\n",
      "Create Tiles ImageSize:1024, LapSize:512\n"
     ]
    },
    {
     "name": "stderr",
     "output_type": "stream",
     "text": [
      " 71%|███████   | 17/24 [01:37<00:32,  4.64s/it]"
     ]
    },
    {
     "name": "stdout",
     "output_type": "stream",
     "text": [
      "OriginalSize\t 3072 1024 3\n",
      "1 5 (3072, 1024)\n",
      "(3072, 1024)  <= orgSize 3072 1024\n",
      "Resize Image SIze (3072, 1024, 3)\n",
      "Create Tiles ImageSize:1024, LapSize:512\n",
      "OriginalSize\t 3072 1024 1\n",
      "1 5 (3072, 1024)\n",
      "(3072, 1024)  <= orgSize 3072 1024\n",
      "Resize Image SIze (3072, 1024)\n",
      "Create Tiles ImageSize:1024, LapSize:512\n"
     ]
    },
    {
     "name": "stderr",
     "output_type": "stream",
     "text": [
      " 75%|███████▌  | 18/24 [01:39<00:21,  3.65s/it]"
     ]
    },
    {
     "name": "stdout",
     "output_type": "stream",
     "text": [
      "OriginalSize\t 1024 5120 3\n",
      "9 1 (1024, 5120)\n",
      "(1024, 5120)  <= orgSize 1024 5120\n",
      "Resize Image SIze (1024, 5120, 3)\n",
      "Create Tiles ImageSize:1024, LapSize:512\n",
      "OriginalSize\t 1024 5120 1\n",
      "9 1 (1024, 5120)\n",
      "(1024, 5120)  <= orgSize 1024 5120\n",
      "Resize Image SIze (1024, 5120)\n",
      "Create Tiles ImageSize:1024, LapSize:512\n"
     ]
    },
    {
     "name": "stderr",
     "output_type": "stream",
     "text": [
      " 79%|███████▉  | 19/24 [01:39<00:14,  2.84s/it]"
     ]
    },
    {
     "name": "stdout",
     "output_type": "stream",
     "text": [
      "OriginalSize\t 1024 1024 3\n",
      "1 1 (1024, 1024)\n",
      "(1024, 1024)  <= orgSize 1024 1024\n",
      "Resize Image SIze (1024, 1024, 3)\n",
      "Create Tiles ImageSize:1024, LapSize:512\n"
     ]
    },
    {
     "name": "stderr",
     "output_type": "stream",
     "text": [
      " 83%|████████▎ | 20/24 [01:41<00:10,  2.57s/it]"
     ]
    },
    {
     "name": "stdout",
     "output_type": "stream",
     "text": [
      "OriginalSize\t 1024 1024 1\n",
      "1 1 (1024, 1024)\n",
      "(1024, 1024)  <= orgSize 1024 1024\n",
      "Resize Image SIze (1024, 1024)\n",
      "Create Tiles ImageSize:1024, LapSize:512\n",
      "OriginalSize\t 3072 5120 3\n",
      "9 5 (3072, 5120)\n",
      "(3072, 5120)  <= orgSize 3072 5120\n",
      "Resize Image SIze (3072, 5120, 3)\n",
      "Create Tiles ImageSize:1024, LapSize:512\n",
      "OriginalSize\t 3072 5120 1\n",
      "9 5 (3072, 5120)\n",
      "(3072, 5120)  <= orgSize 3072 5120\n",
      "Resize Image SIze (3072, 5120)\n",
      "Create Tiles ImageSize:1024, LapSize:512\n"
     ]
    },
    {
     "name": "stderr",
     "output_type": "stream",
     "text": [
      " 88%|████████▊ | 21/24 [01:50<00:12,  4.25s/it]"
     ]
    },
    {
     "name": "stdout",
     "output_type": "stream",
     "text": [
      "OriginalSize\t 3072 1024 3\n",
      "1 5 (3072, 1024)\n",
      "(3072, 1024)  <= orgSize 3072 1024\n",
      "Resize Image SIze (3072, 1024, 3)\n",
      "Create Tiles ImageSize:1024, LapSize:512\n"
     ]
    },
    {
     "name": "stderr",
     "output_type": "stream",
     "text": [
      " 92%|█████████▏| 22/24 [01:50<00:06,  3.25s/it]"
     ]
    },
    {
     "name": "stdout",
     "output_type": "stream",
     "text": [
      "OriginalSize\t 3072 1024 1\n",
      "1 5 (3072, 1024)\n",
      "(3072, 1024)  <= orgSize 3072 1024\n",
      "Resize Image SIze (3072, 1024)\n",
      "Create Tiles ImageSize:1024, LapSize:512\n",
      "OriginalSize\t 1024 5120 3\n",
      "9 1 (1024, 5120)\n",
      "(1024, 5120)  <= orgSize 1024 5120\n",
      "Resize Image SIze (1024, 5120, 3)\n",
      "Create Tiles ImageSize:1024, LapSize:512\n",
      "OriginalSize\t 1024 5120 1\n",
      "9 1 (1024, 5120)\n",
      "(1024, 5120)  <= orgSize 1024 5120\n",
      "Resize Image SIze (1024, 5120)\n",
      "Create Tiles ImageSize:1024, LapSize:512\n"
     ]
    },
    {
     "name": "stderr",
     "output_type": "stream",
     "text": [
      " 96%|█████████▌| 23/24 [01:52<00:02,  2.71s/it]"
     ]
    },
    {
     "name": "stdout",
     "output_type": "stream",
     "text": [
      "OriginalSize\t 1024 1024 3\n",
      "1 1 (1024, 1024)\n",
      "(1024, 1024)  <= orgSize 1024 1024\n",
      "Resize Image SIze (1024, 1024, 3)\n",
      "Create Tiles ImageSize:1024, LapSize:512\n"
     ]
    },
    {
     "name": "stderr",
     "output_type": "stream",
     "text": [
      "100%|██████████| 24/24 [01:52<00:00,  4.70s/it]"
     ]
    },
    {
     "name": "stdout",
     "output_type": "stream",
     "text": [
      "OriginalSize\t 1024 1024 1\n",
      "1 1 (1024, 1024)\n",
      "(1024, 1024)  <= orgSize 1024 1024\n",
      "Resize Image SIze (1024, 1024)\n",
      "Create Tiles ImageSize:1024, LapSize:512\n",
      "already copy\n",
      "6\n",
      "True\n",
      "03_datasetforModel/Forest tsumura 2 50m P4Pv2_cypress\\org\\DJI_0245.JPG 03_datasetforModel/Forest tsumura 2 50m P4Pv2_cypress\\msk\\DJI_0245.PNG\n",
      "512\n",
      "OriginalSize\t 3648 5472 3\n",
      "9 6 (3072, 5120)\n",
      "resize\t (9, 6, (3072, 5120))\n"
     ]
    },
    {
     "name": "stderr",
     "output_type": "stream",
     "text": [
      "\n",
      "  0%|          | 0/6 [00:00<?, ?it/s]"
     ]
    },
    {
     "name": "stdout",
     "output_type": "stream",
     "text": [
      "OriginalSize\t 3648 5472 3\n",
      "9 6 (3072, 5120)\n",
      "OriginalSize\t 3648 5472 1\n",
      "9 6 (3072, 5120)\n"
     ]
    },
    {
     "name": "stderr",
     "output_type": "stream",
     "text": [
      " 17%|█▋        | 1/6 [00:06<00:33,  6.63s/it]"
     ]
    },
    {
     "name": "stdout",
     "output_type": "stream",
     "text": [
      "OriginalSize\t 3648 5472 3\n",
      "9 6 (3072, 5120)\n",
      "OriginalSize\t 3648 5472 1\n",
      "9 6 (3072, 5120)\n"
     ]
    },
    {
     "name": "stderr",
     "output_type": "stream",
     "text": [
      " 33%|███▎      | 2/6 [00:10<00:19,  4.96s/it]"
     ]
    },
    {
     "name": "stdout",
     "output_type": "stream",
     "text": [
      "OriginalSize\t 3648 5472 3\n",
      "9 6 (3072, 5120)\n",
      "OriginalSize\t 3648 5472 1\n",
      "9 6 (3072, 5120)\n"
     ]
    },
    {
     "name": "stderr",
     "output_type": "stream",
     "text": [
      " 50%|█████     | 3/6 [00:47<00:59, 19.71s/it]"
     ]
    },
    {
     "name": "stdout",
     "output_type": "stream",
     "text": [
      "OriginalSize\t 3648 5472 3\n",
      "9 6 (3072, 5120)\n",
      "OriginalSize\t 3648 5472 1\n",
      "9 6 (3072, 5120)\n"
     ]
    },
    {
     "name": "stderr",
     "output_type": "stream",
     "text": [
      " 67%|██████▋   | 4/6 [00:51<00:27, 13.51s/it]"
     ]
    },
    {
     "name": "stdout",
     "output_type": "stream",
     "text": [
      "OriginalSize\t 3648 5472 3\n",
      "9 6 (3072, 5120)\n",
      "OriginalSize\t 3648 5472 1\n",
      "9 6 (3072, 5120)\n"
     ]
    },
    {
     "name": "stderr",
     "output_type": "stream",
     "text": [
      " 83%|████████▎ | 5/6 [00:55<00:09,  9.97s/it]"
     ]
    },
    {
     "name": "stdout",
     "output_type": "stream",
     "text": [
      "OriginalSize\t 3648 5472 3\n",
      "9 6 (3072, 5120)\n",
      "OriginalSize\t 3648 5472 1\n",
      "9 6 (3072, 5120)\n"
     ]
    },
    {
     "name": "stderr",
     "output_type": "stream",
     "text": [
      "100%|██████████| 6/6 [00:59<00:00,  9.89s/it]\n"
     ]
    },
    {
     "name": "stdout",
     "output_type": "stream",
     "text": [
      "24 24\n"
     ]
    },
    {
     "name": "stderr",
     "output_type": "stream",
     "text": [
      "  0%|          | 0/24 [00:00<?, ?it/s]"
     ]
    },
    {
     "name": "stdout",
     "output_type": "stream",
     "text": [
      "OriginalSize\t 3072 5120 3\n",
      "9 5 (3072, 5120)\n",
      "(3072, 5120)  <= orgSize 3072 5120\n",
      "Resize Image SIze (3072, 5120, 3)\n",
      "Create Tiles ImageSize:1024, LapSize:512\n",
      "OriginalSize\t 3072 5120 1\n",
      "9 5 (3072, 5120)\n",
      "(3072, 5120)  <= orgSize 3072 5120\n",
      "Resize Image SIze (3072, 5120)\n",
      "Create Tiles ImageSize:1024, LapSize:512\n"
     ]
    },
    {
     "name": "stderr",
     "output_type": "stream",
     "text": [
      "  4%|▍         | 1/24 [00:06<02:35,  6.77s/it]"
     ]
    },
    {
     "name": "stdout",
     "output_type": "stream",
     "text": [
      "OriginalSize\t 3072 1024 3\n",
      "1 5 (3072, 1024)\n",
      "(3072, 1024)  <= orgSize 3072 1024\n",
      "Resize Image SIze (3072, 1024, 3)\n",
      "Create Tiles ImageSize:1024, LapSize:512\n"
     ]
    },
    {
     "name": "stderr",
     "output_type": "stream",
     "text": [
      "  8%|▊         | 2/24 [00:07<01:07,  3.06s/it]"
     ]
    },
    {
     "name": "stdout",
     "output_type": "stream",
     "text": [
      "OriginalSize\t 3072 1024 1\n",
      "1 5 (3072, 1024)\n",
      "(3072, 1024)  <= orgSize 3072 1024\n",
      "Resize Image SIze (3072, 1024)\n",
      "Create Tiles ImageSize:1024, LapSize:512\n",
      "OriginalSize\t 1024 5120 3\n",
      "9 1 (1024, 5120)\n",
      "(1024, 5120)  <= orgSize 1024 5120\n",
      "Resize Image SIze (1024, 5120, 3)\n",
      "Create Tiles ImageSize:1024, LapSize:512\n"
     ]
    },
    {
     "name": "stderr",
     "output_type": "stream",
     "text": [
      " 12%|█▎        | 3/24 [00:07<00:40,  1.91s/it]"
     ]
    },
    {
     "name": "stdout",
     "output_type": "stream",
     "text": [
      "OriginalSize\t 1024 5120 1\n",
      "9 1 (1024, 5120)\n",
      "(1024, 5120)  <= orgSize 1024 5120\n",
      "Resize Image SIze (1024, 5120)\n",
      "Create Tiles ImageSize:1024, LapSize:512\n",
      "OriginalSize\t 1024 1024 3\n",
      "1 1 (1024, 1024)\n",
      "(1024, 1024)  <= orgSize 1024 1024\n",
      "Resize Image SIze (1024, 1024, 3)\n",
      "Create Tiles ImageSize:1024, LapSize:512\n"
     ]
    },
    {
     "name": "stderr",
     "output_type": "stream",
     "text": [
      " 17%|█▋        | 4/24 [00:08<00:26,  1.30s/it]"
     ]
    },
    {
     "name": "stdout",
     "output_type": "stream",
     "text": [
      "OriginalSize\t 1024 1024 1\n",
      "1 1 (1024, 1024)\n",
      "(1024, 1024)  <= orgSize 1024 1024\n",
      "Resize Image SIze (1024, 1024)\n",
      "Create Tiles ImageSize:1024, LapSize:512\n",
      "OriginalSize\t 3072 5120 3\n",
      "9 5 (3072, 5120)\n",
      "(3072, 5120)  <= orgSize 3072 5120\n",
      "Resize Image SIze (3072, 5120, 3)\n",
      "Create Tiles ImageSize:1024, LapSize:512\n",
      "OriginalSize\t 3072 5120 1\n",
      "9 5 (3072, 5120)\n",
      "(3072, 5120)  <= orgSize 3072 5120\n",
      "Resize Image SIze (3072, 5120)\n",
      "Create Tiles ImageSize:1024, LapSize:512\n"
     ]
    },
    {
     "name": "stderr",
     "output_type": "stream",
     "text": [
      " 21%|██        | 5/24 [00:13<00:53,  2.83s/it]"
     ]
    },
    {
     "name": "stdout",
     "output_type": "stream",
     "text": [
      "OriginalSize\t 3072 1024 3\n",
      "1 5 (3072, 1024)\n",
      "(3072, 1024)  <= orgSize 3072 1024\n",
      "Resize Image SIze (3072, 1024, 3)\n",
      "Create Tiles ImageSize:1024, LapSize:512\n"
     ]
    },
    {
     "name": "stderr",
     "output_type": "stream",
     "text": [
      " 25%|██▌       | 6/24 [00:14<00:37,  2.06s/it]"
     ]
    },
    {
     "name": "stdout",
     "output_type": "stream",
     "text": [
      "OriginalSize\t 3072 1024 1\n",
      "1 5 (3072, 1024)\n",
      "(3072, 1024)  <= orgSize 3072 1024\n",
      "Resize Image SIze (3072, 1024)\n",
      "Create Tiles ImageSize:1024, LapSize:512\n",
      "OriginalSize\t 1024 5120 3\n",
      "9 1 (1024, 5120)\n",
      "(1024, 5120)  <= orgSize 1024 5120\n",
      "Resize Image SIze (1024, 5120, 3)\n",
      "Create Tiles ImageSize:1024, LapSize:512\n",
      "OriginalSize\t 1024 5120 1\n",
      "9 1 (1024, 5120)\n",
      "(1024, 5120)  <= orgSize 1024 5120\n",
      "Resize Image SIze (1024, 5120)\n",
      "Create Tiles ImageSize:1024, LapSize:512\n"
     ]
    },
    {
     "name": "stderr",
     "output_type": "stream",
     "text": [
      " 29%|██▉       | 7/24 [00:14<00:27,  1.60s/it]"
     ]
    },
    {
     "name": "stdout",
     "output_type": "stream",
     "text": [
      "OriginalSize\t 1024 1024 3\n",
      "1 1 (1024, 1024)\n",
      "(1024, 1024)  <= orgSize 1024 1024\n",
      "Resize Image SIze (1024, 1024, 3)\n",
      "Create Tiles ImageSize:1024, LapSize:512\n"
     ]
    },
    {
     "name": "stderr",
     "output_type": "stream",
     "text": [
      " 33%|███▎      | 8/24 [00:15<00:19,  1.23s/it]"
     ]
    },
    {
     "name": "stdout",
     "output_type": "stream",
     "text": [
      "OriginalSize\t 1024 1024 1\n",
      "1 1 (1024, 1024)\n",
      "(1024, 1024)  <= orgSize 1024 1024\n",
      "Resize Image SIze (1024, 1024)\n",
      "Create Tiles ImageSize:1024, LapSize:512\n",
      "OriginalSize\t 3072 5120 3\n",
      "9 5 (3072, 5120)\n",
      "(3072, 5120)  <= orgSize 3072 5120\n",
      "Resize Image SIze (3072, 5120, 3)\n",
      "Create Tiles ImageSize:1024, LapSize:512\n",
      "OriginalSize\t 3072 5120 1\n",
      "9 5 (3072, 5120)\n",
      "(3072, 5120)  <= orgSize 3072 5120\n",
      "Resize Image SIze (3072, 5120)\n",
      "Create Tiles ImageSize:1024, LapSize:512\n"
     ]
    },
    {
     "name": "stderr",
     "output_type": "stream",
     "text": [
      " 38%|███▊      | 9/24 [00:19<00:32,  2.16s/it]"
     ]
    },
    {
     "name": "stdout",
     "output_type": "stream",
     "text": [
      "OriginalSize\t 3072 1024 3\n",
      "1 5 (3072, 1024)\n",
      "(3072, 1024)  <= orgSize 3072 1024\n",
      "Resize Image SIze (3072, 1024, 3)\n",
      "Create Tiles ImageSize:1024, LapSize:512\n",
      "OriginalSize\t 3072 1024 1\n",
      "1 5 (3072, 1024)\n",
      "(3072, 1024)  <= orgSize 3072 1024\n"
     ]
    },
    {
     "name": "stderr",
     "output_type": "stream",
     "text": [
      " 42%|████▏     | 10/24 [00:19<00:22,  1.61s/it]"
     ]
    },
    {
     "name": "stdout",
     "output_type": "stream",
     "text": [
      "Resize Image SIze (3072, 1024)\n",
      "Create Tiles ImageSize:1024, LapSize:512\n",
      "OriginalSize\t 1024 5120 3\n",
      "9 1 (1024, 5120)\n",
      "(1024, 5120)  <= orgSize 1024 5120\n",
      "Resize Image SIze (1024, 5120, 3)\n",
      "Create Tiles ImageSize:1024, LapSize:512\n"
     ]
    },
    {
     "name": "stderr",
     "output_type": "stream",
     "text": [
      " 46%|████▌     | 11/24 [00:20<00:17,  1.32s/it]"
     ]
    },
    {
     "name": "stdout",
     "output_type": "stream",
     "text": [
      "OriginalSize\t 1024 5120 1\n",
      "9 1 (1024, 5120)\n",
      "(1024, 5120)  <= orgSize 1024 5120\n",
      "Resize Image SIze (1024, 5120)\n",
      "Create Tiles ImageSize:1024, LapSize:512\n",
      "OriginalSize\t 1024 1024 3\n",
      "1 1 (1024, 1024)\n",
      "(1024, 1024)  <= orgSize 1024 1024\n",
      "Resize Image SIze (1024, 1024, 3)\n",
      "Create Tiles ImageSize:1024, LapSize:512\n"
     ]
    },
    {
     "name": "stderr",
     "output_type": "stream",
     "text": [
      " 50%|█████     | 12/24 [00:21<00:12,  1.05s/it]"
     ]
    },
    {
     "name": "stdout",
     "output_type": "stream",
     "text": [
      "OriginalSize\t 1024 1024 1\n",
      "1 1 (1024, 1024)\n",
      "(1024, 1024)  <= orgSize 1024 1024\n",
      "Resize Image SIze (1024, 1024)\n",
      "Create Tiles ImageSize:1024, LapSize:512\n",
      "OriginalSize\t 3072 5120 3\n",
      "9 5 (3072, 5120)\n",
      "(3072, 5120)  <= orgSize 3072 5120\n",
      "Resize Image SIze (3072, 5120, 3)\n",
      "Create Tiles ImageSize:1024, LapSize:512\n",
      "OriginalSize\t 3072 5120 1\n",
      "9 5 (3072, 5120)\n",
      "(3072, 5120)  <= orgSize 3072 5120\n",
      "Resize Image SIze (3072, 5120)\n",
      "Create Tiles ImageSize:1024, LapSize:512\n"
     ]
    },
    {
     "name": "stderr",
     "output_type": "stream",
     "text": [
      " 54%|█████▍    | 13/24 [00:25<00:23,  2.09s/it]"
     ]
    },
    {
     "name": "stdout",
     "output_type": "stream",
     "text": [
      "OriginalSize\t 3072 1024 3\n",
      "1 5 (3072, 1024)\n",
      "(3072, 1024)  <= orgSize 3072 1024\n",
      "Resize Image SIze (3072, 1024, 3)\n",
      "Create Tiles ImageSize:1024, LapSize:512\n"
     ]
    },
    {
     "name": "stderr",
     "output_type": "stream",
     "text": [
      " 58%|█████▊    | 14/24 [00:26<00:16,  1.65s/it]"
     ]
    },
    {
     "name": "stdout",
     "output_type": "stream",
     "text": [
      "OriginalSize\t 3072 1024 1\n",
      "1 5 (3072, 1024)\n",
      "(3072, 1024)  <= orgSize 3072 1024\n",
      "Resize Image SIze (3072, 1024)\n",
      "Create Tiles ImageSize:1024, LapSize:512\n",
      "OriginalSize\t 1024 5120 3\n",
      "9 1 (1024, 5120)\n",
      "(1024, 5120)  <= orgSize 1024 5120\n",
      "Resize Image SIze (1024, 5120, 3)\n",
      "Create Tiles ImageSize:1024, LapSize:512\n"
     ]
    },
    {
     "name": "stderr",
     "output_type": "stream",
     "text": [
      " 62%|██████▎   | 15/24 [00:26<00:11,  1.30s/it]"
     ]
    },
    {
     "name": "stdout",
     "output_type": "stream",
     "text": [
      "OriginalSize\t 1024 5120 1\n",
      "9 1 (1024, 5120)\n",
      "(1024, 5120)  <= orgSize 1024 5120\n",
      "Resize Image SIze (1024, 5120)\n",
      "Create Tiles ImageSize:1024, LapSize:512\n",
      "OriginalSize\t 1024 1024 3\n",
      "1 1 (1024, 1024)\n",
      "(1024, 1024)  <= orgSize 1024 1024\n",
      "Resize Image SIze (1024, 1024, 3)\n",
      "Create Tiles ImageSize:1024, LapSize:512\n"
     ]
    },
    {
     "name": "stderr",
     "output_type": "stream",
     "text": [
      " 67%|██████▋   | 16/24 [00:26<00:07,  1.02it/s]"
     ]
    },
    {
     "name": "stdout",
     "output_type": "stream",
     "text": [
      "OriginalSize\t 1024 1024 1\n",
      "1 1 (1024, 1024)\n",
      "(1024, 1024)  <= orgSize 1024 1024\n",
      "Resize Image SIze (1024, 1024)\n",
      "Create Tiles ImageSize:1024, LapSize:512\n",
      "OriginalSize\t 3072 5120 3\n",
      "9 5 (3072, 5120)\n",
      "(3072, 5120)  <= orgSize 3072 5120\n",
      "Resize Image SIze (3072, 5120, 3)\n",
      "Create Tiles ImageSize:1024, LapSize:512\n",
      "OriginalSize\t 3072 5120 1\n",
      "9 5 (3072, 5120)\n",
      "(3072, 5120)  <= orgSize 3072 5120\n",
      "Resize Image SIze (3072, 5120)\n",
      "Create Tiles ImageSize:1024, LapSize:512\n"
     ]
    },
    {
     "name": "stderr",
     "output_type": "stream",
     "text": [
      " 71%|███████   | 17/24 [00:32<00:15,  2.25s/it]"
     ]
    },
    {
     "name": "stdout",
     "output_type": "stream",
     "text": [
      "OriginalSize\t 3072 1024 3\n",
      "1 5 (3072, 1024)\n",
      "(3072, 1024)  <= orgSize 3072 1024\n",
      "Resize Image SIze (3072, 1024, 3)\n",
      "Create Tiles ImageSize:1024, LapSize:512\n"
     ]
    },
    {
     "name": "stderr",
     "output_type": "stream",
     "text": [
      " 75%|███████▌  | 18/24 [00:32<00:10,  1.73s/it]"
     ]
    },
    {
     "name": "stdout",
     "output_type": "stream",
     "text": [
      "OriginalSize\t 3072 1024 1\n",
      "1 5 (3072, 1024)\n",
      "(3072, 1024)  <= orgSize 3072 1024\n",
      "Resize Image SIze (3072, 1024)\n",
      "Create Tiles ImageSize:1024, LapSize:512\n",
      "OriginalSize\t 1024 5120 3\n",
      "9 1 (1024, 5120)\n",
      "(1024, 5120)  <= orgSize 1024 5120\n",
      "Resize Image SIze (1024, 5120, 3)\n",
      "Create Tiles ImageSize:1024, LapSize:512\n",
      "OriginalSize\t 1024 5120 1\n",
      "9 1 (1024, 5120)\n",
      "(1024, 5120)  <= orgSize 1024 5120\n"
     ]
    },
    {
     "name": "stderr",
     "output_type": "stream",
     "text": [
      " 79%|███████▉  | 19/24 [00:33<00:06,  1.39s/it]"
     ]
    },
    {
     "name": "stdout",
     "output_type": "stream",
     "text": [
      "Resize Image SIze (1024, 5120)\n",
      "Create Tiles ImageSize:1024, LapSize:512\n",
      "OriginalSize\t 1024 1024 3\n",
      "1 1 (1024, 1024)\n",
      "(1024, 1024)  <= orgSize 1024 1024\n",
      "Resize Image SIze (1024, 1024, 3)\n",
      "Create Tiles ImageSize:1024, LapSize:512\n",
      "OriginalSize\t 1024 1024 1\n",
      "1 1 (1024, 1024)\n",
      "(1024, 1024)  <= orgSize 1024 1024\n",
      "Resize Image SIze (1024, 1024)\n",
      "Create Tiles ImageSize:1024, LapSize:512\n"
     ]
    },
    {
     "name": "stderr",
     "output_type": "stream",
     "text": [
      " 83%|████████▎ | 20/24 [00:33<00:04,  1.06s/it]"
     ]
    },
    {
     "name": "stdout",
     "output_type": "stream",
     "text": [
      "OriginalSize\t 3072 5120 3\n",
      "9 5 (3072, 5120)\n",
      "(3072, 5120)  <= orgSize 3072 5120\n",
      "Resize Image SIze (3072, 5120, 3)\n",
      "Create Tiles ImageSize:1024, LapSize:512\n",
      "OriginalSize\t 3072 5120 1\n",
      "9 5 (3072, 5120)\n",
      "(3072, 5120)  <= orgSize 3072 5120\n",
      "Resize Image SIze (3072, 5120)\n",
      "Create Tiles ImageSize:1024, LapSize:512\n"
     ]
    },
    {
     "name": "stderr",
     "output_type": "stream",
     "text": [
      " 88%|████████▊ | 21/24 [00:37<00:05,  1.96s/it]"
     ]
    },
    {
     "name": "stdout",
     "output_type": "stream",
     "text": [
      "OriginalSize\t 3072 1024 3\n",
      "1 5 (3072, 1024)\n",
      "(3072, 1024)  <= orgSize 3072 1024\n",
      "Resize Image SIze (3072, 1024, 3)\n",
      "Create Tiles ImageSize:1024, LapSize:512\n"
     ]
    },
    {
     "name": "stderr",
     "output_type": "stream",
     "text": [
      " 92%|█████████▏| 22/24 [00:38<00:03,  1.51s/it]"
     ]
    },
    {
     "name": "stdout",
     "output_type": "stream",
     "text": [
      "OriginalSize\t 3072 1024 1\n",
      "1 5 (3072, 1024)\n",
      "(3072, 1024)  <= orgSize 3072 1024\n",
      "Resize Image SIze (3072, 1024)\n",
      "Create Tiles ImageSize:1024, LapSize:512\n",
      "OriginalSize\t 1024 5120 3\n",
      "9 1 (1024, 5120)\n",
      "(1024, 5120)  <= orgSize 1024 5120\n",
      "Resize Image SIze (1024, 5120, 3)\n",
      "Create Tiles ImageSize:1024, LapSize:512\n",
      "OriginalSize\t 1024 5120 1\n",
      "9 1 (1024, 5120)\n",
      "(1024, 5120)  <= orgSize 1024 5120\n",
      "Resize Image SIze (1024, 5120)\n",
      "Create Tiles ImageSize:1024, LapSize:512\n"
     ]
    },
    {
     "name": "stderr",
     "output_type": "stream",
     "text": [
      " 96%|█████████▌| 23/24 [00:38<00:01,  1.21s/it]"
     ]
    },
    {
     "name": "stdout",
     "output_type": "stream",
     "text": [
      "OriginalSize\t 1024 1024 3\n",
      "1 1 (1024, 1024)\n",
      "(1024, 1024)  <= orgSize 1024 1024\n",
      "Resize Image SIze (1024, 1024, 3)\n",
      "Create Tiles ImageSize:1024, LapSize:512\n",
      "OriginalSize\t 1024 1024 1\n",
      "1 1 (1024, 1024)\n",
      "(1024, 1024)  <= orgSize 1024 1024\n",
      "Resize Image SIze (1024, 1024)\n",
      "Create Tiles ImageSize:1024, LapSize:512\n"
     ]
    },
    {
     "name": "stderr",
     "output_type": "stream",
     "text": [
      "100%|██████████| 24/24 [00:38<00:00,  1.62s/it]\n"
     ]
    }
   ],
   "source": [
    "# input\n",
    "orgDir = \"01_LabelboxExport/Forest tsumura 2 50m P4Pv2/original\"\n",
    "mskDir = \"02_MargedMaskImages/Forest tsumura 2 50m P4Pv2/msk\"\n",
    "\n",
    "# Opening JSON file\n",
    "with open('treeTypeValues.json', 'r') as openfile:\n",
    " \n",
    "    # Reading from json file\n",
    "    treeTypeValues = json.load(openfile)\n",
    "    \n",
    "treeTypeValues\n",
    "treeTypes = list(treeTypeValues.keys())\n",
    "\n",
    "\n",
    "orgPaths = glob.glob(orgDir + \"/*.JPG\")\n",
    "\n",
    "for treeType in treeTypes:\n",
    "    mskPaths = glob.glob(mskDir + f\"*{treeType}/*.PNG\")\n",
    "\n",
    "\n",
    "    # def getTreeType_fromPath(Path:str):\n",
    "    #     pattern = r'msk_merged_(.*)\\\\DJI_.*'\n",
    "    #     match = re.search(pattern, Path)\n",
    "    #     if match:\n",
    "    #         treeType = match.group(1)\n",
    "    #         return treeType\n",
    "    #     else:\n",
    "    #         return Path\n",
    "\n",
    "    # treeType = getTreeType_fromPath(mskPaths[0])\n",
    "\n",
    "\n",
    "    # Output\n",
    "    cropArgmentDir = f\"03_datasetforModel/Forest tsumura 2 50m P4Pv2_{treeType}\"\n",
    "    os.makedirs(cropArgmentDir,exist_ok=True)\n",
    "\n",
    "    try:\n",
    "        shutil.copytree(os.path.dirname(orgPaths[0]),os.path.join(cropArgmentDir,\"org\"))\n",
    "        shutil.copytree(os.path.dirname(mskPaths[0]),os.path.join(cropArgmentDir,\"msk\"))\n",
    "    except:\n",
    "        print(\"already copy\")\n",
    "        \n",
    "    orgPaths = glob.glob(os.path.join(cropArgmentDir,\"org\") + \"/*.JPG\")\n",
    "    mskPaths = glob.glob(os.path.join(cropArgmentDir,\"msk\") + \"/*.PNG\")\n",
    "\n",
    "    print(len(orgPaths))\n",
    "    print(len(orgPaths)==len(mskPaths))\n",
    "    print(orgPaths[0],mskPaths[0])\n",
    "\n",
    "    cropSize = 1024\n",
    "    lapSize = (cropSize//2)\n",
    "    print(lapSize)\n",
    "\n",
    "    for path in orgPaths:\n",
    "        if os.path.basename(path) == \"Thumbs.db\":\n",
    "            orgPaths.remove(path)\n",
    "\n",
    "    for path in mskPaths:\n",
    "        if os.path.basename(path) == \"Thumbs.db\":\n",
    "            mskPaths.remove(path)\n",
    "\n",
    "\n",
    "    def getXYtileInfo(predictImgPath,cropSize,lapSize):\n",
    "        img_io = rasterio.open(predictImgPath)\n",
    "        org_height, org_width, ch = img_io.height, img_io.width, img_io.count\n",
    "        img_io.close()\n",
    "        print(\"OriginalSize\\t\",org_height, org_width, ch)\n",
    "\n",
    "        predictImgSize = cropSize\n",
    "\n",
    "        if lapSize == 0:\n",
    "            step_x_col = org_width//predictImgSize\n",
    "            step_y_row = org_height//predictImgSize\n",
    "        else:\n",
    "            step_x_col = (org_width - (predictImgSize - lapSize))// lapSize\n",
    "            step_y_row = (org_height - (predictImgSize - lapSize))// lapSize\n",
    "        # step_x_col = org_width - (org_width % lapSize))\n",
    "        # step_y_row = org_height - (org_height % lapSize)\n",
    "\n",
    "\n",
    "        resizeSetSlide = ((org_height // cropSize) * cropSize, org_width // cropSize * cropSize)\n",
    "        \n",
    "        print(step_x_col, step_y_row, resizeSetSlide)\n",
    "        return step_x_col, step_y_row, resizeSetSlide\n",
    "\n",
    "    print(\"resize\\t\",getXYtileInfo(orgPaths[0],cropSize,lapSize))\n",
    "\n",
    "    def addStrBeforeExt(filePath:str,addStr:str):\n",
    "        filePath_list = filePath.split(\".\")\n",
    "        return f\"{filePath_list[-2]}_{addStr}.{filePath_list[-1]}\"\n",
    "\n",
    "\n",
    "\n",
    "    def crop4CornersOrgImageByLapsize(imgPath:str, cropSize:int, lapSize:int):\n",
    "\n",
    "        img = Image.open(imgPath)\n",
    "        img = np.array(img)\n",
    "\n",
    "        width = img.shape[1]\n",
    "        height = img.shape[0]\n",
    "\n",
    "        step_x_col, step_y_row, resizeSetSlide = getXYtileInfo(imgPath, cropSize, lapSize)\n",
    "        # resizeSetSlide = (y, x)\n",
    "        # img.shape = (y, x, ch)\n",
    "\n",
    "        x_amari = img.shape[1]-resizeSetSlide[1]\n",
    "        y_amari = img.shape[0]-resizeSetSlide[0]\n",
    "\n",
    "        saveImgDIr = os.path.dirname(imgPath) + f\"_crop4Corner_{resizeSetSlide[1]}_{resizeSetSlide[0]}\\\\\"\n",
    "        os.makedirs(saveImgDIr, exist_ok=True)\n",
    "\n",
    "        x_start = 0\n",
    "        x_end = resizeSetSlide[1]\n",
    "        y_start = 0\n",
    "        y_end = resizeSetSlide[0]\n",
    "\n",
    "        # print(x_start,x_end,y_start,y_end,x_amari,y_amari)\n",
    "\n",
    "        # upperLeftRect =(x_start, x_end, y_start, y_end)\n",
    "        imgSavePath = saveImgDIr + os.path.basename(addStrBeforeExt(imgPath,\"01_upperL_rect\"))\n",
    "        Image.fromarray(img[y_start : y_end, x_start : x_end].copy()).save(imgSavePath)\n",
    "\n",
    "        x_start = width - cropSize\n",
    "        x_end = width\n",
    "        y_start = 0\n",
    "        y_end = resizeSetSlide[0]\n",
    "\n",
    "        # upperRightRect =(x_start, x_end, y_start, y_end)\n",
    "        imgSavePath = saveImgDIr + os.path.basename(addStrBeforeExt(imgPath,\"02upperR_rect\"))\n",
    "        Image.fromarray(img[y_start : y_end, x_start : x_end].copy()).save(imgSavePath)\n",
    "\n",
    "        x_start = 0\n",
    "        x_end = resizeSetSlide[1]\n",
    "        y_start = height - cropSize\n",
    "        y_end = height\n",
    "\n",
    "        lowerLeftRect =(x_start, x_end, y_start, y_end)\n",
    "        imgSavePath = saveImgDIr + os.path.basename(addStrBeforeExt(imgPath,\"03lowerL_rect\"))\n",
    "        Image.fromarray(img[y_start : y_end, x_start : x_end].copy()).save(imgSavePath)\n",
    "\n",
    "\n",
    "        x_start = width - cropSize\n",
    "        x_end = width\n",
    "        y_start = height - cropSize\n",
    "        y_end = height\n",
    "\n",
    "        lowerRightRect =(x_start, x_end, y_start, y_end)\n",
    "        imgSavePath = saveImgDIr + os.path.basename(addStrBeforeExt(imgPath,\"04lowerR_rect\"))\n",
    "        Image.fromarray(img[y_start : y_end, x_start : x_end].copy()).save(imgSavePath)\n",
    "        \n",
    "        return saveImgDIr\n",
    "\n",
    "    orgPaths = glob.glob(os.path.join(cropArgmentDir,\"org\") + \"/*.JPG\")\n",
    "    mskPaths = glob.glob(os.path.join(cropArgmentDir,\"msk\") + \"/*.PNG\")\n",
    "\n",
    "    for orgPath in tqdm(orgPaths):\n",
    "        orgDir = crop4CornersOrgImageByLapsize(orgPath,cropSize,lapSize)\n",
    "        mskPath = orgPath.replace(\"org\",\"msk\").replace(\".JPG\",\".PNG\")\n",
    "        mskDir = crop4CornersOrgImageByLapsize(mskPath,cropSize,lapSize)\n",
    "    orgPaths = glob.glob(orgDir + \"/*_*Rect.JPG\")\n",
    "    mskPaths = glob.glob(mskDir + \"/*_*Rect.PNG\")\n",
    "\n",
    "    print(len(orgPaths),len(mskPaths))\n",
    "\n",
    "\n",
    "    def cropImg_lapsize(imgPath,cropSize,lapSize):\n",
    "        # imgNp_true = imgNp_true.reshape([org_height, org_width, ch]).copy()\n",
    "\n",
    "        predictImgSize = cropSize\n",
    "        # print(\"imgNp_true.shape\", imgNp_true.shape)\n",
    "\n",
    "        img = Image.open(imgPath)\n",
    "\n",
    "        step_x_col, step_y_row, resizeSetSlide = getXYtileInfo(imgPath, cropSize, lapSize)\n",
    "        # print(\"col_step, row_step, resizeSetSlide \",step_x_col, step_y_row, resizeSetSlide)\n",
    "        print(resizeSetSlide,\" <= orgSize\",img.size[1],img.size[0])\n",
    "        # img_resize = img.resize(resizeSetSlide)\n",
    "        imgNp_resized = np.array(img)\n",
    "        # imgNp_true_resized[height : width : ch]の構造　 imgNp_true_resized.shape = (h, w, ch)\n",
    "\n",
    "        print(\"Resize Image SIze\", imgNp_resized.shape)\n",
    "\n",
    "\n",
    "        print(\"Create Tiles ImageSize:{0}, LapSize:{1}\".format(cropSize, lapSize))\n",
    "        for y in range(step_y_row):\n",
    "            # print(\"\\n\\n\")\n",
    "            for x in range(step_x_col):\n",
    "\n",
    "                # print(\"\\n\",\"x, y =\", x, y )\n",
    "                if lapSize==0:\n",
    "                    x_start , x_end = x*predictImgSize, x*cropSize + cropSize\n",
    "                    y_start , y_end = y*predictImgSize, y*cropSize + cropSize\n",
    "                else:\n",
    "                    x_start , x_end = x*lapSize , x*lapSize + cropSize\n",
    "                    y_start , y_end = y*lapSize , y*lapSize + cropSize\n",
    "\n",
    "                # imgNp_resized[height : width : ch]の構造　 imgNp_true.shape = (h, w, ch)\n",
    "                # (predictImgSize, predictImgSize, 3) で取り出す　他サイズでは出ない\n",
    "\n",
    "                xyStr = \"X\" + str(x_start).zfill(5) + \"to\" + str(x_end).zfill(5) + \"_\" + \"Y\" + str(y_start).zfill(5) + \"to\" + str(y_end).zfill(5)\n",
    "                # print(\"Makedict imgNp\", imgNp.shape, xyStr)\n",
    "                saveImgDIr = os.path.dirname(imgPath) + \"_Size\" +str(cropSize).zfill(4) + \"_lap\" + str(lapSize) + \"\\\\\"\n",
    "                os.makedirs(saveImgDIr, exist_ok=True)\n",
    "                saveImgPath = saveImgDIr + os.path.basename(imgPath).split(\".\")[-2] + \"_\" + xyStr + \".\" + os.path.basename(imgPath).split(\".\")[-1].replace(\"JPG\",\"jpg\").replace(\"PNG\",\"png\")\n",
    "\n",
    "                # org処理            \n",
    "                if img.mode == 'RGB':\n",
    "                    imgNp = imgNp_resized[x_start : x_end, y_start : y_end, :].copy()\n",
    "                    if imgNp.shape[0]==imgNp.shape[1]:\n",
    "                        crpoImg_org = Image.fromarray(imgNp)\n",
    "                        crpoImg_org.save(saveImgPath)\n",
    "                    \n",
    "                # msk処理\n",
    "                else:\n",
    "                    imgNp = imgNp_resized[x_start : x_end, y_start : y_end].copy()\n",
    "                    if imgNp.shape[0]==imgNp.shape[1]:\n",
    "    #                 cropImg_msk = convIndexColor_fromNp(imgNp)\n",
    "                        cropImg_msk = Image.fromarray(imgNp)\n",
    "                        cropImg_msk.save(saveImgPath)\n",
    "\n",
    "    for orgPath in tqdm(orgPaths):\n",
    "        cropImg_lapsize(orgPath,cropSize,lapSize)\n",
    "        mskPath = orgPath.replace(\"org\",\"msk\").replace(\".JPG\",\".PNG\")\n",
    "        cropImg_lapsize(mskPath,cropSize,lapSize)"
   ]
  },
  {
   "cell_type": "code",
   "execution_count": 25,
   "metadata": {
    "tags": []
   },
   "outputs": [
    {
     "name": "stdout",
     "output_type": "stream",
     "text": [
      "03_datasetforModel/Forest tsumura 2 50m P4Pv2_cypress\\org_crop4Corner_5120_3072\\\n",
      "168 168\n"
     ]
    }
   ],
   "source": [
    "print(orgDir)\n",
    "orgPaths = glob.glob(orgDir[:-1] + f\"_Size{cropSize}_lap{lapSize}/*.jpg\")\n",
    "mskPaths = glob.glob(mskDir[:-1] + f\"_Size{cropSize}_lap{lapSize}/*.png\")\n",
    "\n",
    "print(len(orgPaths),len(mskPaths))"
   ]
  },
  {
   "cell_type": "code",
   "execution_count": null,
   "metadata": {},
   "outputs": [],
   "source": []
  }
 ],
 "metadata": {
  "kernelspec": {
   "display_name": "Python 3 (ipykernel)",
   "language": "python",
   "name": "python3"
  },
  "language_info": {
   "codemirror_mode": {
    "name": "ipython",
    "version": 3
   },
   "file_extension": ".py",
   "mimetype": "text/x-python",
   "name": "python",
   "nbconvert_exporter": "python",
   "pygments_lexer": "ipython3",
   "version": "3.11.3"
  }
 },
 "nbformat": 4,
 "nbformat_minor": 4
}
